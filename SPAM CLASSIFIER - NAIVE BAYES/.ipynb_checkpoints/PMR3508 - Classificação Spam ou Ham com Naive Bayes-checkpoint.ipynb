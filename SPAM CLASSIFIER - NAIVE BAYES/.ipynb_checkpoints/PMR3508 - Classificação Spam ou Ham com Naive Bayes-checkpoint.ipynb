{
 "cells": [
  {
   "cell_type": "markdown",
   "metadata": {},
   "source": [
    "# Classificador de Spam / Ham com Naive Bayes"
   ]
  },
  {
   "cell_type": "markdown",
   "metadata": {},
   "source": [
    "Produzindo um classificador de Naive Bayes para predizer se uma mensagem de e-mail é ou não spam."
   ]
  },
  {
   "cell_type": "markdown",
   "metadata": {},
   "source": [
    "# Índice\n",
    "\n",
    "#### <a href='#parte1'>Parte 1: Exploração e análise do dataset</a>\n",
    "\n",
    "#### <a href='#parte2'>Parte 2: Implementação do classificador gaussiano e comparação com KNN</a>\n",
    "\n",
    "#### <a href='#parte3'>Parte 3: Adaptação das features</a>\n",
    "\n",
    "#### <a href='#parte4'>Parte 4: Aplicação do classificador binário e comparação com KNN</a>\n",
    "\n",
    "#### <a href='#parte5'>Parte 5: Avaliação do classificador</a>\n",
    "\n",
    "#### <a href='#parte6'>Parte 6: Salvando os resultados</a>"
   ]
  },
  {
   "cell_type": "markdown",
   "metadata": {},
   "source": [
    "<a id='parte1'></a>\n",
    "\n",
    "# Parte 1: Exploração e análise do dataset"
   ]
  },
  {
   "cell_type": "markdown",
   "metadata": {},
   "source": [
    "## 1.1. Importação de bibliotecas utilizadas"
   ]
  },
  {
   "cell_type": "markdown",
   "metadata": {},
   "source": [
    "Antes de iniciar a exploração dos dados, é imprescindível importar as bibliotecas que serão usadas neste trabalho."
   ]
  },
  {
   "cell_type": "code",
   "execution_count": 1,
   "metadata": {},
   "outputs": [],
   "source": [
    "#bliblioteca para facilitar as operações vetoriais e matriciais \n",
    "import numpy as np\n",
    "\n",
    "#biblioteca para facilitar a organização do dataset\n",
    "import pandas as pd\n",
    "\n",
    "#blibliotecas de visualização gráfica\n",
    "import matplotlib as plt\n",
    "import seaborn as sns\n",
    "\n",
    "#biblioteca de machine learning\n",
    "import sklearn"
   ]
  },
  {
   "cell_type": "markdown",
   "metadata": {},
   "source": [
    "## 1.2. Contato inicial com os dados"
   ]
  },
  {
   "cell_type": "markdown",
   "metadata": {},
   "source": [
    "Fazendo o upload do dataset de treino:"
   ]
  },
  {
   "cell_type": "code",
   "execution_count": 2,
   "metadata": {},
   "outputs": [],
   "source": [
    "data_raw = pd.read_csv(\"train_data.csv\")"
   ]
  },
  {
   "cell_type": "markdown",
   "metadata": {},
   "source": [
    "Para ter um primeiro contato com a base de dados:"
   ]
  },
  {
   "cell_type": "code",
   "execution_count": 3,
   "metadata": {},
   "outputs": [
    {
     "data": {
      "text/html": [
       "<div>\n",
       "<style scoped>\n",
       "    .dataframe tbody tr th:only-of-type {\n",
       "        vertical-align: middle;\n",
       "    }\n",
       "\n",
       "    .dataframe tbody tr th {\n",
       "        vertical-align: top;\n",
       "    }\n",
       "\n",
       "    .dataframe thead th {\n",
       "        text-align: right;\n",
       "    }\n",
       "</style>\n",
       "<table border=\"1\" class=\"dataframe\">\n",
       "  <thead>\n",
       "    <tr style=\"text-align: right;\">\n",
       "      <th></th>\n",
       "      <th>word_freq_make</th>\n",
       "      <th>word_freq_address</th>\n",
       "      <th>word_freq_all</th>\n",
       "      <th>word_freq_3d</th>\n",
       "      <th>word_freq_our</th>\n",
       "      <th>word_freq_over</th>\n",
       "      <th>word_freq_remove</th>\n",
       "      <th>word_freq_internet</th>\n",
       "      <th>word_freq_order</th>\n",
       "      <th>word_freq_mail</th>\n",
       "      <th>...</th>\n",
       "      <th>char_freq_(</th>\n",
       "      <th>char_freq_[</th>\n",
       "      <th>char_freq_!</th>\n",
       "      <th>char_freq_$</th>\n",
       "      <th>char_freq_#</th>\n",
       "      <th>capital_run_length_average</th>\n",
       "      <th>capital_run_length_longest</th>\n",
       "      <th>capital_run_length_total</th>\n",
       "      <th>ham</th>\n",
       "      <th>Id</th>\n",
       "    </tr>\n",
       "  </thead>\n",
       "  <tbody>\n",
       "    <tr>\n",
       "      <th>0</th>\n",
       "      <td>0.00</td>\n",
       "      <td>14.28</td>\n",
       "      <td>0.00</td>\n",
       "      <td>0.0</td>\n",
       "      <td>0.00</td>\n",
       "      <td>0.00</td>\n",
       "      <td>0.00</td>\n",
       "      <td>0.00</td>\n",
       "      <td>0.0</td>\n",
       "      <td>0.00</td>\n",
       "      <td>...</td>\n",
       "      <td>0.000</td>\n",
       "      <td>0.000</td>\n",
       "      <td>0.000</td>\n",
       "      <td>0.000</td>\n",
       "      <td>0.000</td>\n",
       "      <td>1.800</td>\n",
       "      <td>5</td>\n",
       "      <td>9</td>\n",
       "      <td>True</td>\n",
       "      <td>1947</td>\n",
       "    </tr>\n",
       "    <tr>\n",
       "      <th>1</th>\n",
       "      <td>0.00</td>\n",
       "      <td>0.00</td>\n",
       "      <td>1.00</td>\n",
       "      <td>0.0</td>\n",
       "      <td>0.50</td>\n",
       "      <td>0.00</td>\n",
       "      <td>0.00</td>\n",
       "      <td>0.00</td>\n",
       "      <td>0.0</td>\n",
       "      <td>0.50</td>\n",
       "      <td>...</td>\n",
       "      <td>0.357</td>\n",
       "      <td>0.000</td>\n",
       "      <td>0.892</td>\n",
       "      <td>0.000</td>\n",
       "      <td>0.000</td>\n",
       "      <td>2.000</td>\n",
       "      <td>19</td>\n",
       "      <td>172</td>\n",
       "      <td>False</td>\n",
       "      <td>2159</td>\n",
       "    </tr>\n",
       "    <tr>\n",
       "      <th>2</th>\n",
       "      <td>0.00</td>\n",
       "      <td>0.00</td>\n",
       "      <td>0.00</td>\n",
       "      <td>0.0</td>\n",
       "      <td>0.00</td>\n",
       "      <td>0.00</td>\n",
       "      <td>0.00</td>\n",
       "      <td>1.29</td>\n",
       "      <td>0.0</td>\n",
       "      <td>0.43</td>\n",
       "      <td>...</td>\n",
       "      <td>0.124</td>\n",
       "      <td>0.000</td>\n",
       "      <td>0.310</td>\n",
       "      <td>0.062</td>\n",
       "      <td>0.000</td>\n",
       "      <td>1.477</td>\n",
       "      <td>8</td>\n",
       "      <td>65</td>\n",
       "      <td>False</td>\n",
       "      <td>4223</td>\n",
       "    </tr>\n",
       "    <tr>\n",
       "      <th>3</th>\n",
       "      <td>0.00</td>\n",
       "      <td>0.00</td>\n",
       "      <td>0.00</td>\n",
       "      <td>0.0</td>\n",
       "      <td>0.00</td>\n",
       "      <td>0.00</td>\n",
       "      <td>0.00</td>\n",
       "      <td>0.00</td>\n",
       "      <td>0.0</td>\n",
       "      <td>0.00</td>\n",
       "      <td>...</td>\n",
       "      <td>0.000</td>\n",
       "      <td>0.000</td>\n",
       "      <td>0.444</td>\n",
       "      <td>0.000</td>\n",
       "      <td>0.000</td>\n",
       "      <td>2.800</td>\n",
       "      <td>7</td>\n",
       "      <td>28</td>\n",
       "      <td>True</td>\n",
       "      <td>2624</td>\n",
       "    </tr>\n",
       "    <tr>\n",
       "      <th>4</th>\n",
       "      <td>0.00</td>\n",
       "      <td>0.00</td>\n",
       "      <td>0.00</td>\n",
       "      <td>0.0</td>\n",
       "      <td>1.17</td>\n",
       "      <td>0.00</td>\n",
       "      <td>0.00</td>\n",
       "      <td>0.00</td>\n",
       "      <td>0.0</td>\n",
       "      <td>1.17</td>\n",
       "      <td>...</td>\n",
       "      <td>0.000</td>\n",
       "      <td>0.000</td>\n",
       "      <td>0.000</td>\n",
       "      <td>0.000</td>\n",
       "      <td>0.000</td>\n",
       "      <td>1.551</td>\n",
       "      <td>10</td>\n",
       "      <td>45</td>\n",
       "      <td>True</td>\n",
       "      <td>2743</td>\n",
       "    </tr>\n",
       "    <tr>\n",
       "      <th>5</th>\n",
       "      <td>0.00</td>\n",
       "      <td>0.00</td>\n",
       "      <td>0.00</td>\n",
       "      <td>0.0</td>\n",
       "      <td>0.00</td>\n",
       "      <td>0.00</td>\n",
       "      <td>0.00</td>\n",
       "      <td>0.00</td>\n",
       "      <td>0.0</td>\n",
       "      <td>0.00</td>\n",
       "      <td>...</td>\n",
       "      <td>0.022</td>\n",
       "      <td>0.019</td>\n",
       "      <td>0.022</td>\n",
       "      <td>0.022</td>\n",
       "      <td>0.022</td>\n",
       "      <td>3.482</td>\n",
       "      <td>5</td>\n",
       "      <td>5902</td>\n",
       "      <td>True</td>\n",
       "      <td>3451</td>\n",
       "    </tr>\n",
       "    <tr>\n",
       "      <th>6</th>\n",
       "      <td>0.00</td>\n",
       "      <td>0.00</td>\n",
       "      <td>0.37</td>\n",
       "      <td>0.0</td>\n",
       "      <td>0.00</td>\n",
       "      <td>0.00</td>\n",
       "      <td>0.37</td>\n",
       "      <td>0.00</td>\n",
       "      <td>0.0</td>\n",
       "      <td>0.00</td>\n",
       "      <td>...</td>\n",
       "      <td>0.302</td>\n",
       "      <td>0.000</td>\n",
       "      <td>0.241</td>\n",
       "      <td>0.060</td>\n",
       "      <td>0.000</td>\n",
       "      <td>2.166</td>\n",
       "      <td>18</td>\n",
       "      <td>143</td>\n",
       "      <td>False</td>\n",
       "      <td>464</td>\n",
       "    </tr>\n",
       "    <tr>\n",
       "      <th>7</th>\n",
       "      <td>0.00</td>\n",
       "      <td>3.03</td>\n",
       "      <td>0.00</td>\n",
       "      <td>0.0</td>\n",
       "      <td>0.00</td>\n",
       "      <td>0.00</td>\n",
       "      <td>0.00</td>\n",
       "      <td>0.00</td>\n",
       "      <td>0.0</td>\n",
       "      <td>3.03</td>\n",
       "      <td>...</td>\n",
       "      <td>0.000</td>\n",
       "      <td>0.000</td>\n",
       "      <td>0.000</td>\n",
       "      <td>0.000</td>\n",
       "      <td>0.000</td>\n",
       "      <td>2.769</td>\n",
       "      <td>21</td>\n",
       "      <td>36</td>\n",
       "      <td>True</td>\n",
       "      <td>3219</td>\n",
       "    </tr>\n",
       "    <tr>\n",
       "      <th>8</th>\n",
       "      <td>0.09</td>\n",
       "      <td>0.00</td>\n",
       "      <td>0.48</td>\n",
       "      <td>0.0</td>\n",
       "      <td>0.00</td>\n",
       "      <td>0.29</td>\n",
       "      <td>0.00</td>\n",
       "      <td>0.00</td>\n",
       "      <td>0.0</td>\n",
       "      <td>0.09</td>\n",
       "      <td>...</td>\n",
       "      <td>0.030</td>\n",
       "      <td>0.000</td>\n",
       "      <td>0.000</td>\n",
       "      <td>0.046</td>\n",
       "      <td>0.000</td>\n",
       "      <td>1.722</td>\n",
       "      <td>17</td>\n",
       "      <td>267</td>\n",
       "      <td>True</td>\n",
       "      <td>3007</td>\n",
       "    </tr>\n",
       "    <tr>\n",
       "      <th>9</th>\n",
       "      <td>0.00</td>\n",
       "      <td>0.00</td>\n",
       "      <td>0.66</td>\n",
       "      <td>0.0</td>\n",
       "      <td>0.00</td>\n",
       "      <td>0.66</td>\n",
       "      <td>0.00</td>\n",
       "      <td>0.00</td>\n",
       "      <td>0.0</td>\n",
       "      <td>0.00</td>\n",
       "      <td>...</td>\n",
       "      <td>0.000</td>\n",
       "      <td>0.000</td>\n",
       "      <td>0.000</td>\n",
       "      <td>0.000</td>\n",
       "      <td>0.000</td>\n",
       "      <td>1.142</td>\n",
       "      <td>4</td>\n",
       "      <td>56</td>\n",
       "      <td>True</td>\n",
       "      <td>1549</td>\n",
       "    </tr>\n",
       "  </tbody>\n",
       "</table>\n",
       "<p>10 rows × 59 columns</p>\n",
       "</div>"
      ],
      "text/plain": [
       "   word_freq_make  word_freq_address  word_freq_all  word_freq_3d  \\\n",
       "0            0.00              14.28           0.00           0.0   \n",
       "1            0.00               0.00           1.00           0.0   \n",
       "2            0.00               0.00           0.00           0.0   \n",
       "3            0.00               0.00           0.00           0.0   \n",
       "4            0.00               0.00           0.00           0.0   \n",
       "5            0.00               0.00           0.00           0.0   \n",
       "6            0.00               0.00           0.37           0.0   \n",
       "7            0.00               3.03           0.00           0.0   \n",
       "8            0.09               0.00           0.48           0.0   \n",
       "9            0.00               0.00           0.66           0.0   \n",
       "\n",
       "   word_freq_our  word_freq_over  word_freq_remove  word_freq_internet  \\\n",
       "0           0.00            0.00              0.00                0.00   \n",
       "1           0.50            0.00              0.00                0.00   \n",
       "2           0.00            0.00              0.00                1.29   \n",
       "3           0.00            0.00              0.00                0.00   \n",
       "4           1.17            0.00              0.00                0.00   \n",
       "5           0.00            0.00              0.00                0.00   \n",
       "6           0.00            0.00              0.37                0.00   \n",
       "7           0.00            0.00              0.00                0.00   \n",
       "8           0.00            0.29              0.00                0.00   \n",
       "9           0.00            0.66              0.00                0.00   \n",
       "\n",
       "   word_freq_order  word_freq_mail  ...   char_freq_(  char_freq_[  \\\n",
       "0              0.0            0.00  ...         0.000        0.000   \n",
       "1              0.0            0.50  ...         0.357        0.000   \n",
       "2              0.0            0.43  ...         0.124        0.000   \n",
       "3              0.0            0.00  ...         0.000        0.000   \n",
       "4              0.0            1.17  ...         0.000        0.000   \n",
       "5              0.0            0.00  ...         0.022        0.019   \n",
       "6              0.0            0.00  ...         0.302        0.000   \n",
       "7              0.0            3.03  ...         0.000        0.000   \n",
       "8              0.0            0.09  ...         0.030        0.000   \n",
       "9              0.0            0.00  ...         0.000        0.000   \n",
       "\n",
       "   char_freq_!  char_freq_$  char_freq_#  capital_run_length_average  \\\n",
       "0        0.000        0.000        0.000                       1.800   \n",
       "1        0.892        0.000        0.000                       2.000   \n",
       "2        0.310        0.062        0.000                       1.477   \n",
       "3        0.444        0.000        0.000                       2.800   \n",
       "4        0.000        0.000        0.000                       1.551   \n",
       "5        0.022        0.022        0.022                       3.482   \n",
       "6        0.241        0.060        0.000                       2.166   \n",
       "7        0.000        0.000        0.000                       2.769   \n",
       "8        0.000        0.046        0.000                       1.722   \n",
       "9        0.000        0.000        0.000                       1.142   \n",
       "\n",
       "   capital_run_length_longest  capital_run_length_total    ham    Id  \n",
       "0                           5                         9   True  1947  \n",
       "1                          19                       172  False  2159  \n",
       "2                           8                        65  False  4223  \n",
       "3                           7                        28   True  2624  \n",
       "4                          10                        45   True  2743  \n",
       "5                           5                      5902   True  3451  \n",
       "6                          18                       143  False   464  \n",
       "7                          21                        36   True  3219  \n",
       "8                          17                       267   True  3007  \n",
       "9                           4                        56   True  1549  \n",
       "\n",
       "[10 rows x 59 columns]"
      ]
     },
     "execution_count": 3,
     "metadata": {},
     "output_type": "execute_result"
    }
   ],
   "source": [
    "data_raw.head(10)"
   ]
  },
  {
   "cell_type": "code",
   "execution_count": 4,
   "metadata": {
    "scrolled": true
   },
   "outputs": [
    {
     "name": "stdout",
     "output_type": "stream",
     "text": [
      "<class 'pandas.core.frame.DataFrame'>\n",
      "RangeIndex: 3680 entries, 0 to 3679\n",
      "Data columns (total 59 columns):\n",
      "word_freq_make                3680 non-null float64\n",
      "word_freq_address             3680 non-null float64\n",
      "word_freq_all                 3680 non-null float64\n",
      "word_freq_3d                  3680 non-null float64\n",
      "word_freq_our                 3680 non-null float64\n",
      "word_freq_over                3680 non-null float64\n",
      "word_freq_remove              3680 non-null float64\n",
      "word_freq_internet            3680 non-null float64\n",
      "word_freq_order               3680 non-null float64\n",
      "word_freq_mail                3680 non-null float64\n",
      "word_freq_receive             3680 non-null float64\n",
      "word_freq_will                3680 non-null float64\n",
      "word_freq_people              3680 non-null float64\n",
      "word_freq_report              3680 non-null float64\n",
      "word_freq_addresses           3680 non-null float64\n",
      "word_freq_free                3680 non-null float64\n",
      "word_freq_business            3680 non-null float64\n",
      "word_freq_email               3680 non-null float64\n",
      "word_freq_you                 3680 non-null float64\n",
      "word_freq_credit              3680 non-null float64\n",
      "word_freq_your                3680 non-null float64\n",
      "word_freq_font                3680 non-null float64\n",
      "word_freq_000                 3680 non-null float64\n",
      "word_freq_money               3680 non-null float64\n",
      "word_freq_hp                  3680 non-null float64\n",
      "word_freq_hpl                 3680 non-null float64\n",
      "word_freq_george              3680 non-null float64\n",
      "word_freq_650                 3680 non-null float64\n",
      "word_freq_lab                 3680 non-null float64\n",
      "word_freq_labs                3680 non-null float64\n",
      "word_freq_telnet              3680 non-null float64\n",
      "word_freq_857                 3680 non-null float64\n",
      "word_freq_data                3680 non-null float64\n",
      "word_freq_415                 3680 non-null float64\n",
      "word_freq_85                  3680 non-null float64\n",
      "word_freq_technology          3680 non-null float64\n",
      "word_freq_1999                3680 non-null float64\n",
      "word_freq_parts               3680 non-null float64\n",
      "word_freq_pm                  3680 non-null float64\n",
      "word_freq_direct              3680 non-null float64\n",
      "word_freq_cs                  3680 non-null float64\n",
      "word_freq_meeting             3680 non-null float64\n",
      "word_freq_original            3680 non-null float64\n",
      "word_freq_project             3680 non-null float64\n",
      "word_freq_re                  3680 non-null float64\n",
      "word_freq_edu                 3680 non-null float64\n",
      "word_freq_table               3680 non-null float64\n",
      "word_freq_conference          3680 non-null float64\n",
      "char_freq_;                   3680 non-null float64\n",
      "char_freq_(                   3680 non-null float64\n",
      "char_freq_[                   3680 non-null float64\n",
      "char_freq_!                   3680 non-null float64\n",
      "char_freq_$                   3680 non-null float64\n",
      "char_freq_#                   3680 non-null float64\n",
      "capital_run_length_average    3680 non-null float64\n",
      "capital_run_length_longest    3680 non-null int64\n",
      "capital_run_length_total      3680 non-null int64\n",
      "ham                           3680 non-null bool\n",
      "Id                            3680 non-null int64\n",
      "dtypes: bool(1), float64(55), int64(3)\n",
      "memory usage: 1.6 MB\n"
     ]
    }
   ],
   "source": [
    "data_raw.info()"
   ]
  },
  {
   "cell_type": "code",
   "execution_count": 214,
   "metadata": {},
   "outputs": [
    {
     "data": {
      "text/html": [
       "<div>\n",
       "<style scoped>\n",
       "    .dataframe tbody tr th:only-of-type {\n",
       "        vertical-align: middle;\n",
       "    }\n",
       "\n",
       "    .dataframe tbody tr th {\n",
       "        vertical-align: top;\n",
       "    }\n",
       "\n",
       "    .dataframe thead th {\n",
       "        text-align: right;\n",
       "    }\n",
       "</style>\n",
       "<table border=\"1\" class=\"dataframe\">\n",
       "  <thead>\n",
       "    <tr style=\"text-align: right;\">\n",
       "      <th></th>\n",
       "      <th>word_freq_make</th>\n",
       "      <th>word_freq_address</th>\n",
       "      <th>word_freq_all</th>\n",
       "      <th>word_freq_3d</th>\n",
       "      <th>word_freq_our</th>\n",
       "      <th>word_freq_over</th>\n",
       "      <th>word_freq_remove</th>\n",
       "      <th>word_freq_internet</th>\n",
       "      <th>word_freq_order</th>\n",
       "      <th>word_freq_mail</th>\n",
       "      <th>...</th>\n",
       "      <th>char_freq_;</th>\n",
       "      <th>char_freq_(</th>\n",
       "      <th>char_freq_[</th>\n",
       "      <th>char_freq_!</th>\n",
       "      <th>char_freq_$</th>\n",
       "      <th>char_freq_#</th>\n",
       "      <th>capital_run_length_average</th>\n",
       "      <th>capital_run_length_longest</th>\n",
       "      <th>capital_run_length_total</th>\n",
       "      <th>Id</th>\n",
       "    </tr>\n",
       "  </thead>\n",
       "  <tbody>\n",
       "    <tr>\n",
       "      <th>count</th>\n",
       "      <td>3680.000000</td>\n",
       "      <td>3680.000000</td>\n",
       "      <td>3680.000000</td>\n",
       "      <td>3680.000000</td>\n",
       "      <td>3680.000000</td>\n",
       "      <td>3680.000000</td>\n",
       "      <td>3680.000000</td>\n",
       "      <td>3680.000000</td>\n",
       "      <td>3680.000000</td>\n",
       "      <td>3680.000000</td>\n",
       "      <td>...</td>\n",
       "      <td>3680.000000</td>\n",
       "      <td>3680.000000</td>\n",
       "      <td>3680.000000</td>\n",
       "      <td>3680.000000</td>\n",
       "      <td>3680.000000</td>\n",
       "      <td>3680.000000</td>\n",
       "      <td>3680.000000</td>\n",
       "      <td>3680.000000</td>\n",
       "      <td>3680.000000</td>\n",
       "      <td>3680.000000</td>\n",
       "    </tr>\n",
       "    <tr>\n",
       "      <th>mean</th>\n",
       "      <td>0.099677</td>\n",
       "      <td>0.223353</td>\n",
       "      <td>0.279019</td>\n",
       "      <td>0.069117</td>\n",
       "      <td>0.314897</td>\n",
       "      <td>0.096147</td>\n",
       "      <td>0.113372</td>\n",
       "      <td>0.107397</td>\n",
       "      <td>0.088519</td>\n",
       "      <td>0.242079</td>\n",
       "      <td>...</td>\n",
       "      <td>0.041071</td>\n",
       "      <td>0.138068</td>\n",
       "      <td>0.017707</td>\n",
       "      <td>0.273364</td>\n",
       "      <td>0.075168</td>\n",
       "      <td>0.043326</td>\n",
       "      <td>5.364929</td>\n",
       "      <td>52.831250</td>\n",
       "      <td>283.316304</td>\n",
       "      <td>2297.439674</td>\n",
       "    </tr>\n",
       "    <tr>\n",
       "      <th>std</th>\n",
       "      <td>0.298270</td>\n",
       "      <td>1.337420</td>\n",
       "      <td>0.508617</td>\n",
       "      <td>1.438505</td>\n",
       "      <td>0.697633</td>\n",
       "      <td>0.277443</td>\n",
       "      <td>0.400638</td>\n",
       "      <td>0.411901</td>\n",
       "      <td>0.265593</td>\n",
       "      <td>0.671435</td>\n",
       "      <td>...</td>\n",
       "      <td>0.257327</td>\n",
       "      <td>0.268595</td>\n",
       "      <td>0.111465</td>\n",
       "      <td>0.872148</td>\n",
       "      <td>0.239671</td>\n",
       "      <td>0.345457</td>\n",
       "      <td>33.811679</td>\n",
       "      <td>210.367337</td>\n",
       "      <td>623.433481</td>\n",
       "      <td>1324.109165</td>\n",
       "    </tr>\n",
       "    <tr>\n",
       "      <th>min</th>\n",
       "      <td>0.000000</td>\n",
       "      <td>0.000000</td>\n",
       "      <td>0.000000</td>\n",
       "      <td>0.000000</td>\n",
       "      <td>0.000000</td>\n",
       "      <td>0.000000</td>\n",
       "      <td>0.000000</td>\n",
       "      <td>0.000000</td>\n",
       "      <td>0.000000</td>\n",
       "      <td>0.000000</td>\n",
       "      <td>...</td>\n",
       "      <td>0.000000</td>\n",
       "      <td>0.000000</td>\n",
       "      <td>0.000000</td>\n",
       "      <td>0.000000</td>\n",
       "      <td>0.000000</td>\n",
       "      <td>0.000000</td>\n",
       "      <td>1.000000</td>\n",
       "      <td>1.000000</td>\n",
       "      <td>1.000000</td>\n",
       "      <td>0.000000</td>\n",
       "    </tr>\n",
       "    <tr>\n",
       "      <th>25%</th>\n",
       "      <td>0.000000</td>\n",
       "      <td>0.000000</td>\n",
       "      <td>0.000000</td>\n",
       "      <td>0.000000</td>\n",
       "      <td>0.000000</td>\n",
       "      <td>0.000000</td>\n",
       "      <td>0.000000</td>\n",
       "      <td>0.000000</td>\n",
       "      <td>0.000000</td>\n",
       "      <td>0.000000</td>\n",
       "      <td>...</td>\n",
       "      <td>0.000000</td>\n",
       "      <td>0.000000</td>\n",
       "      <td>0.000000</td>\n",
       "      <td>0.000000</td>\n",
       "      <td>0.000000</td>\n",
       "      <td>0.000000</td>\n",
       "      <td>1.590000</td>\n",
       "      <td>6.000000</td>\n",
       "      <td>34.000000</td>\n",
       "      <td>1160.750000</td>\n",
       "    </tr>\n",
       "    <tr>\n",
       "      <th>50%</th>\n",
       "      <td>0.000000</td>\n",
       "      <td>0.000000</td>\n",
       "      <td>0.000000</td>\n",
       "      <td>0.000000</td>\n",
       "      <td>0.000000</td>\n",
       "      <td>0.000000</td>\n",
       "      <td>0.000000</td>\n",
       "      <td>0.000000</td>\n",
       "      <td>0.000000</td>\n",
       "      <td>0.000000</td>\n",
       "      <td>...</td>\n",
       "      <td>0.000000</td>\n",
       "      <td>0.065000</td>\n",
       "      <td>0.000000</td>\n",
       "      <td>0.000000</td>\n",
       "      <td>0.000000</td>\n",
       "      <td>0.000000</td>\n",
       "      <td>2.280000</td>\n",
       "      <td>14.000000</td>\n",
       "      <td>93.000000</td>\n",
       "      <td>2298.000000</td>\n",
       "    </tr>\n",
       "    <tr>\n",
       "      <th>75%</th>\n",
       "      <td>0.000000</td>\n",
       "      <td>0.000000</td>\n",
       "      <td>0.410000</td>\n",
       "      <td>0.000000</td>\n",
       "      <td>0.380000</td>\n",
       "      <td>0.000000</td>\n",
       "      <td>0.000000</td>\n",
       "      <td>0.000000</td>\n",
       "      <td>0.000000</td>\n",
       "      <td>0.160000</td>\n",
       "      <td>...</td>\n",
       "      <td>0.000000</td>\n",
       "      <td>0.191000</td>\n",
       "      <td>0.000000</td>\n",
       "      <td>0.313250</td>\n",
       "      <td>0.050000</td>\n",
       "      <td>0.000000</td>\n",
       "      <td>3.716000</td>\n",
       "      <td>43.000000</td>\n",
       "      <td>270.500000</td>\n",
       "      <td>3445.250000</td>\n",
       "    </tr>\n",
       "    <tr>\n",
       "      <th>max</th>\n",
       "      <td>4.540000</td>\n",
       "      <td>14.280000</td>\n",
       "      <td>5.100000</td>\n",
       "      <td>42.810000</td>\n",
       "      <td>10.000000</td>\n",
       "      <td>5.880000</td>\n",
       "      <td>7.270000</td>\n",
       "      <td>11.110000</td>\n",
       "      <td>3.230000</td>\n",
       "      <td>18.180000</td>\n",
       "      <td>...</td>\n",
       "      <td>4.385000</td>\n",
       "      <td>9.752000</td>\n",
       "      <td>4.081000</td>\n",
       "      <td>32.478000</td>\n",
       "      <td>6.003000</td>\n",
       "      <td>13.129000</td>\n",
       "      <td>1102.500000</td>\n",
       "      <td>9989.000000</td>\n",
       "      <td>15841.000000</td>\n",
       "      <td>4600.000000</td>\n",
       "    </tr>\n",
       "  </tbody>\n",
       "</table>\n",
       "<p>8 rows × 58 columns</p>\n",
       "</div>"
      ],
      "text/plain": [
       "       word_freq_make  word_freq_address  word_freq_all  word_freq_3d  \\\n",
       "count     3680.000000        3680.000000    3680.000000   3680.000000   \n",
       "mean         0.099677           0.223353       0.279019      0.069117   \n",
       "std          0.298270           1.337420       0.508617      1.438505   \n",
       "min          0.000000           0.000000       0.000000      0.000000   \n",
       "25%          0.000000           0.000000       0.000000      0.000000   \n",
       "50%          0.000000           0.000000       0.000000      0.000000   \n",
       "75%          0.000000           0.000000       0.410000      0.000000   \n",
       "max          4.540000          14.280000       5.100000     42.810000   \n",
       "\n",
       "       word_freq_our  word_freq_over  word_freq_remove  word_freq_internet  \\\n",
       "count    3680.000000     3680.000000       3680.000000         3680.000000   \n",
       "mean        0.314897        0.096147          0.113372            0.107397   \n",
       "std         0.697633        0.277443          0.400638            0.411901   \n",
       "min         0.000000        0.000000          0.000000            0.000000   \n",
       "25%         0.000000        0.000000          0.000000            0.000000   \n",
       "50%         0.000000        0.000000          0.000000            0.000000   \n",
       "75%         0.380000        0.000000          0.000000            0.000000   \n",
       "max        10.000000        5.880000          7.270000           11.110000   \n",
       "\n",
       "       word_freq_order  word_freq_mail     ...       char_freq_;  char_freq_(  \\\n",
       "count      3680.000000     3680.000000     ...       3680.000000  3680.000000   \n",
       "mean          0.088519        0.242079     ...          0.041071     0.138068   \n",
       "std           0.265593        0.671435     ...          0.257327     0.268595   \n",
       "min           0.000000        0.000000     ...          0.000000     0.000000   \n",
       "25%           0.000000        0.000000     ...          0.000000     0.000000   \n",
       "50%           0.000000        0.000000     ...          0.000000     0.065000   \n",
       "75%           0.000000        0.160000     ...          0.000000     0.191000   \n",
       "max           3.230000       18.180000     ...          4.385000     9.752000   \n",
       "\n",
       "       char_freq_[  char_freq_!  char_freq_$  char_freq_#  \\\n",
       "count  3680.000000  3680.000000  3680.000000  3680.000000   \n",
       "mean      0.017707     0.273364     0.075168     0.043326   \n",
       "std       0.111465     0.872148     0.239671     0.345457   \n",
       "min       0.000000     0.000000     0.000000     0.000000   \n",
       "25%       0.000000     0.000000     0.000000     0.000000   \n",
       "50%       0.000000     0.000000     0.000000     0.000000   \n",
       "75%       0.000000     0.313250     0.050000     0.000000   \n",
       "max       4.081000    32.478000     6.003000    13.129000   \n",
       "\n",
       "       capital_run_length_average  capital_run_length_longest  \\\n",
       "count                 3680.000000                 3680.000000   \n",
       "mean                     5.364929                   52.831250   \n",
       "std                     33.811679                  210.367337   \n",
       "min                      1.000000                    1.000000   \n",
       "25%                      1.590000                    6.000000   \n",
       "50%                      2.280000                   14.000000   \n",
       "75%                      3.716000                   43.000000   \n",
       "max                   1102.500000                 9989.000000   \n",
       "\n",
       "       capital_run_length_total           Id  \n",
       "count               3680.000000  3680.000000  \n",
       "mean                 283.316304  2297.439674  \n",
       "std                  623.433481  1324.109165  \n",
       "min                    1.000000     0.000000  \n",
       "25%                   34.000000  1160.750000  \n",
       "50%                   93.000000  2298.000000  \n",
       "75%                  270.500000  3445.250000  \n",
       "max                15841.000000  4600.000000  \n",
       "\n",
       "[8 rows x 58 columns]"
      ]
     },
     "execution_count": 214,
     "metadata": {},
     "output_type": "execute_result"
    }
   ],
   "source": [
    "data_raw.describe()"
   ]
  },
  {
   "cell_type": "code",
   "execution_count": 5,
   "metadata": {},
   "outputs": [
    {
     "data": {
      "text/plain": [
       "True"
      ]
     },
     "execution_count": 5,
     "metadata": {},
     "output_type": "execute_result"
    }
   ],
   "source": [
    "len(data_raw) == len(data_raw.dropna())"
   ]
  },
  {
   "cell_type": "markdown",
   "metadata": {},
   "source": [
    "A base de treino tem, assim, 3680 entradas e nenhum dado faltante."
   ]
  },
  {
   "cell_type": "markdown",
   "metadata": {},
   "source": [
    "## 1.3. Análise de features "
   ]
  },
  {
   "cell_type": "markdown",
   "metadata": {},
   "source": [
    "Segundo a documentação do próprio dataset fornecida, as features apresentadas representam o seguinte:"
   ]
  },
  {
   "cell_type": "markdown",
   "metadata": {},
   "source": [
    "São 48 atributos contínuos e reais [0,100] do tipo word_freq_PALAVRA, representando a porcentagem de vezes que o termo PALAVRA aparece no e-mail.\n",
    "\n",
    "6 atributos contínuos e reais [0,100] do tipo char_freq_CARACTERE, representando a quantidade de caracteres no email iguais a CARACTERE.\n",
    "\n",
    "1 atributo contínuo real contendo o comprimento médio de sequências de carateres maiúsculos no e-mail.\n",
    "\n",
    "1 atributo contínuo inteiro contendo o tamanho da maior sequência de caracteres maiúsculos no e-mail.\n",
    "\n",
    "1 atributo contínuo inteiro contendo o número total de letras maiúsculas no e-mail."
   ]
  },
  {
   "cell_type": "code",
   "execution_count": 6,
   "metadata": {},
   "outputs": [
    {
     "data": {
      "text/plain": [
       "Index(['word_freq_make', 'word_freq_address', 'word_freq_all', 'word_freq_3d',\n",
       "       'word_freq_our', 'word_freq_over', 'word_freq_remove',\n",
       "       'word_freq_internet', 'word_freq_order', 'word_freq_mail',\n",
       "       'word_freq_receive', 'word_freq_will', 'word_freq_people',\n",
       "       'word_freq_report', 'word_freq_addresses', 'word_freq_free',\n",
       "       'word_freq_business', 'word_freq_email', 'word_freq_you',\n",
       "       'word_freq_credit', 'word_freq_your', 'word_freq_font', 'word_freq_000',\n",
       "       'word_freq_money', 'word_freq_hp', 'word_freq_hpl', 'word_freq_george',\n",
       "       'word_freq_650', 'word_freq_lab', 'word_freq_labs', 'word_freq_telnet',\n",
       "       'word_freq_857', 'word_freq_data', 'word_freq_415', 'word_freq_85',\n",
       "       'word_freq_technology', 'word_freq_1999', 'word_freq_parts',\n",
       "       'word_freq_pm', 'word_freq_direct', 'word_freq_cs', 'word_freq_meeting',\n",
       "       'word_freq_original', 'word_freq_project', 'word_freq_re',\n",
       "       'word_freq_edu', 'word_freq_table', 'word_freq_conference',\n",
       "       'char_freq_;', 'char_freq_(', 'char_freq_[', 'char_freq_!',\n",
       "       'char_freq_$', 'char_freq_#', 'capital_run_length_average',\n",
       "       'capital_run_length_longest', 'capital_run_length_total', 'ham', 'Id'],\n",
       "      dtype='object')"
      ]
     },
     "execution_count": 6,
     "metadata": {},
     "output_type": "execute_result"
    }
   ],
   "source": [
    "data_raw.columns"
   ]
  },
  {
   "cell_type": "markdown",
   "metadata": {},
   "source": [
    "Assim, algumas das palavras contadas são \"internet\", \"mail\", \"money\".\n",
    "\n",
    "Os caracteres contados são ; ( [ ! $ # ."
   ]
  },
  {
   "cell_type": "markdown",
   "metadata": {},
   "source": [
    "### 1.3.1. Análise de palavras"
   ]
  },
  {
   "cell_type": "markdown",
   "metadata": {},
   "source": [
    "#### 1.3.1.1. Análise de \"money\""
   ]
  },
  {
   "cell_type": "markdown",
   "metadata": {},
   "source": [
    "Vamos analisar, primeiramente, a influência do termo \"money\" na classificação."
   ]
  },
  {
   "cell_type": "code",
   "execution_count": 7,
   "metadata": {},
   "outputs": [
    {
     "data": {
      "text/plain": [
       "<matplotlib.axes._subplots.AxesSubplot at 0x23fd30fdd30>"
      ]
     },
     "execution_count": 7,
     "metadata": {},
     "output_type": "execute_result"
    },
    {
     "data": {
      "image/png": "[encoded data removed]",
      "text/plain": [
       "<Figure size 432x288 with 1 Axes>"
      ]
     },
     "metadata": {},
     "output_type": "display_data"
    }
   ],
   "source": [
    "data_raw[\"word_freq_money\"].plot.hist(range=[0, 1])"
   ]
  },
  {
   "cell_type": "markdown",
   "metadata": {},
   "source": [
    "Esse é o histograma relativo à porcentagem de \"money\", no dataset de treino inteiro. No entanto, para poder separar melhor e entender a inflluência real do termo, vamos separar a base entre os emails spam e ham."
   ]
  },
  {
   "cell_type": "code",
   "execution_count": 8,
   "metadata": {},
   "outputs": [],
   "source": [
    "spam = data_raw[data_raw[\"ham\"] == False]"
   ]
  },
  {
   "cell_type": "code",
   "execution_count": 9,
   "metadata": {},
   "outputs": [
    {
     "data": {
      "text/plain": [
       "False    1429\n",
       "Name: ham, dtype: int64"
      ]
     },
     "execution_count": 9,
     "metadata": {},
     "output_type": "execute_result"
    }
   ],
   "source": [
    "spam[\"ham\"].value_counts()"
   ]
  },
  {
   "cell_type": "code",
   "execution_count": 10,
   "metadata": {},
   "outputs": [],
   "source": [
    "ham = data_raw[data_raw[\"ham\"] == True]"
   ]
  },
  {
   "cell_type": "code",
   "execution_count": 11,
   "metadata": {},
   "outputs": [
    {
     "data": {
      "text/plain": [
       "True    2251\n",
       "Name: ham, dtype: int64"
      ]
     },
     "execution_count": 11,
     "metadata": {},
     "output_type": "execute_result"
    }
   ],
   "source": [
    "ham[\"ham\"].value_counts()"
   ]
  },
  {
   "cell_type": "markdown",
   "metadata": {},
   "source": [
    "Agora que isso já está feito, analisemos a incidência da palavra \"money\":"
   ]
  },
  {
   "cell_type": "code",
   "execution_count": 12,
   "metadata": {},
   "outputs": [
    {
     "name": "stdout",
     "output_type": "stream",
     "text": [
      "A porcentagem média de aparição da palavra money nos emails spam é de 0.2135.\n"
     ]
    }
   ],
   "source": [
    "money_spam = spam.word_freq_money.mean()\n",
    "print(\"A porcentagem média de aparição da palavra money nos emails spam é de %.4f.\" %(money_spam))"
   ]
  },
  {
   "cell_type": "code",
   "execution_count": 13,
   "metadata": {},
   "outputs": [
    {
     "name": "stdout",
     "output_type": "stream",
     "text": [
      "A porcentagem média de aparição da palavra money nos emails ham é de 0.0187.\n"
     ]
    }
   ],
   "source": [
    "money_ham = ham.word_freq_money.mean()\n",
    "print(\"A porcentagem média de aparição da palavra money nos emails ham é de %.4f.\" %(money_ham))"
   ]
  },
  {
   "cell_type": "code",
   "execution_count": 14,
   "metadata": {},
   "outputs": [
    {
     "data": {
      "text/plain": [
       "<matplotlib.axes._subplots.AxesSubplot at 0x23fd349d2e8>"
      ]
     },
     "execution_count": 14,
     "metadata": {},
     "output_type": "execute_result"
    },
    {
     "data": {
      "image/png": "[encoded data removed]",
      "text/plain": [
       "<Figure size 432x288 with 1 Axes>"
      ]
     },
     "metadata": {},
     "output_type": "display_data"
    }
   ],
   "source": [
    "spam.word_freq_money.plot.hist(range=[0, 1])"
   ]
  },
  {
   "cell_type": "code",
   "execution_count": 15,
   "metadata": {},
   "outputs": [
    {
     "data": {
      "text/plain": [
       "<matplotlib.axes._subplots.AxesSubplot at 0x23fd35027b8>"
      ]
     },
     "execution_count": 15,
     "metadata": {},
     "output_type": "execute_result"
    },
    {
     "data": {
      "image/png": "[encoded data removed]",
      "text/plain": [
       "<Figure size 432x288 with 1 Axes>"
      ]
     },
     "metadata": {},
     "output_type": "display_data"
    }
   ],
   "source": [
    "ham.word_freq_money.plot.hist(range=[0, 1])"
   ]
  },
  {
   "cell_type": "markdown",
   "metadata": {},
   "source": [
    "Assim, a diferença é gritante! É, com certeza, um parâmetro a ser levado em conta na classificação."
   ]
  },
  {
   "cell_type": "markdown",
   "metadata": {},
   "source": [
    "#### 1.3.1.2. Análise de \"free\""
   ]
  },
  {
   "cell_type": "code",
   "execution_count": 16,
   "metadata": {},
   "outputs": [
    {
     "name": "stdout",
     "output_type": "stream",
     "text": [
      "A porcentagem média de aparição da palavra free nos emails spam é de 0.5370.\n"
     ]
    }
   ],
   "source": [
    "free_spam = spam.word_freq_free.mean()\n",
    "print(\"A porcentagem média de aparição da palavra free nos emails spam é de %.4f.\" %(free_spam))"
   ]
  },
  {
   "cell_type": "code",
   "execution_count": 17,
   "metadata": {},
   "outputs": [
    {
     "name": "stdout",
     "output_type": "stream",
     "text": [
      "A porcentagem média de aparição da palavra free nos emails ham é de 0.0736.\n"
     ]
    }
   ],
   "source": [
    "free_ham = ham.word_freq_free.mean()\n",
    "print(\"A porcentagem média de aparição da palavra free nos emails ham é de %.4f.\" %(free_ham))"
   ]
  },
  {
   "cell_type": "markdown",
   "metadata": {},
   "source": [
    "#### 1.3.1.3. Análise de \"george\""
   ]
  },
  {
   "cell_type": "code",
   "execution_count": 18,
   "metadata": {},
   "outputs": [
    {
     "name": "stdout",
     "output_type": "stream",
     "text": [
      "A porcentagem média de aparição da palavra george nos emails spam é de 0.0017.\n"
     ]
    }
   ],
   "source": [
    "george_spam = spam.word_freq_george.mean()\n",
    "print(\"A porcentagem média de aparição da palavra george nos emails spam é de %.4f.\" %(george_spam))"
   ]
  },
  {
   "cell_type": "code",
   "execution_count": 19,
   "metadata": {},
   "outputs": [
    {
     "name": "stdout",
     "output_type": "stream",
     "text": [
      "A porcentagem média de aparição da palavra george nos emails ham é de 1.2381.\n"
     ]
    }
   ],
   "source": [
    "george_ham = ham.word_freq_george.mean()\n",
    "print(\"A porcentagem média de aparição da palavra george nos emails ham é de %.4f.\" %(george_ham))"
   ]
  },
  {
   "cell_type": "markdown",
   "metadata": {},
   "source": [
    "### 1.3.2. Análise de caracteres"
   ]
  },
  {
   "cell_type": "markdown",
   "metadata": {},
   "source": [
    "#### 1.3.2.1. Análise de \"!\""
   ]
  },
  {
   "cell_type": "code",
   "execution_count": 20,
   "metadata": {},
   "outputs": [
    {
     "name": "stdout",
     "output_type": "stream",
     "text": [
      "A porcentagem média de aparição do caractere ! nos emails spam é de 0.5190.\n"
     ]
    }
   ],
   "source": [
    "exclamacao_spam = spam[\"char_freq_!\"].mean()\n",
    "print(\"A porcentagem média de aparição do caractere ! nos emails spam é de %.4f.\" %(exclamacao_spam))"
   ]
  },
  {
   "cell_type": "code",
   "execution_count": 21,
   "metadata": {
    "scrolled": true
   },
   "outputs": [
    {
     "name": "stdout",
     "output_type": "stream",
     "text": [
      "A porcentagem média de aparição do caractere ! nos emails ham é de 0.1174.\n"
     ]
    }
   ],
   "source": [
    "exclamacao_ham = ham[\"char_freq_!\"].mean()\n",
    "print(\"A porcentagem média de aparição do caractere ! nos emails ham é de %.4f.\" %(exclamacao_ham))"
   ]
  },
  {
   "cell_type": "code",
   "execution_count": 217,
   "metadata": {},
   "outputs": [
    {
     "data": {
      "text/plain": [
       "<matplotlib.axes._subplots.AxesSubplot at 0x23fdd655860>"
      ]
     },
     "execution_count": 217,
     "metadata": {},
     "output_type": "execute_result"
    },
    {
     "data": {
      "image/png": "[encoded data removed]",
      "text/plain": [
       "<Figure size 432x288 with 1 Axes>"
      ]
     },
     "metadata": {},
     "output_type": "display_data"
    }
   ],
   "source": [
    "sns.barplot(y=\"char_freq_!\", data=data_raw, x=\"ham\")"
   ]
  },
  {
   "cell_type": "markdown",
   "metadata": {},
   "source": [
    "#### 1.3.2.2. Análise de \"$\""
   ]
  },
  {
   "cell_type": "code",
   "execution_count": 22,
   "metadata": {},
   "outputs": [
    {
     "name": "stdout",
     "output_type": "stream",
     "text": [
      "A porcentagem média de aparição do caractere $ nos emails spam é de 0.1733.\n"
     ]
    }
   ],
   "source": [
    "cifrao_spam = spam[\"char_freq_$\"].mean()\n",
    "print(\"A porcentagem média de aparição do caractere $ nos emails spam é de %.4f.\" %(cifrao_spam))"
   ]
  },
  {
   "cell_type": "code",
   "execution_count": 23,
   "metadata": {
    "scrolled": true
   },
   "outputs": [
    {
     "name": "stdout",
     "output_type": "stream",
     "text": [
      "A porcentagem média de aparição do caractere $ nos emails ham é de 0.0129.\n"
     ]
    }
   ],
   "source": [
    "cifrao_ham = ham[\"char_freq_$\"].mean()\n",
    "print(\"A porcentagem média de aparição do caractere $ nos emails ham é de %.4f.\" %(cifrao_ham))"
   ]
  },
  {
   "cell_type": "code",
   "execution_count": 218,
   "metadata": {},
   "outputs": [
    {
     "data": {
      "text/plain": [
       "<matplotlib.axes._subplots.AxesSubplot at 0x23fdd612588>"
      ]
     },
     "execution_count": 218,
     "metadata": {},
     "output_type": "execute_result"
    },
    {
     "data": {
      "image/png": "[encoded data removed]",
      "text/plain": [
       "<Figure size 432x288 with 1 Axes>"
      ]
     },
     "metadata": {},
     "output_type": "display_data"
    }
   ],
   "source": [
    "sns.barplot(y=\"char_freq_$\", data=data_raw, x=\"ham\")"
   ]
  },
  {
   "cell_type": "markdown",
   "metadata": {},
   "source": [
    "#### 1.3.2.3. Análise de \"#\""
   ]
  },
  {
   "cell_type": "code",
   "execution_count": 24,
   "metadata": {},
   "outputs": [
    {
     "name": "stdout",
     "output_type": "stream",
     "text": [
      "A porcentagem média de aparição do caractere # nos emails spam é de 0.0734.\n"
     ]
    }
   ],
   "source": [
    "hash_spam = spam[\"char_freq_#\"].mean()\n",
    "print(\"A porcentagem média de aparição do caractere # nos emails spam é de %.4f.\" %(hash_spam))"
   ]
  },
  {
   "cell_type": "code",
   "execution_count": 25,
   "metadata": {
    "scrolled": true
   },
   "outputs": [
    {
     "name": "stdout",
     "output_type": "stream",
     "text": [
      "A porcentagem média de aparição do caractere # nos emails ham é de 0.0242.\n"
     ]
    }
   ],
   "source": [
    "hash_ham = ham[\"char_freq_#\"].mean()\n",
    "print(\"A porcentagem média de aparição do caractere # nos emails ham é de %.4f.\" %(hash_ham))"
   ]
  },
  {
   "cell_type": "code",
   "execution_count": 219,
   "metadata": {},
   "outputs": [
    {
     "data": {
      "text/plain": [
       "<matplotlib.axes._subplots.AxesSubplot at 0x23fdd7a8940>"
      ]
     },
     "execution_count": 219,
     "metadata": {},
     "output_type": "execute_result"
    },
    {
     "data": {
      "image/png": "[encoded data removed]",
      "text/plain": [
       "<Figure size 432x288 with 1 Axes>"
      ]
     },
     "metadata": {},
     "output_type": "display_data"
    }
   ],
   "source": [
    "sns.barplot(y=\"char_freq_#\", data=data_raw, x=\"ham\")"
   ]
  },
  {
   "cell_type": "markdown",
   "metadata": {},
   "source": [
    "#### 1.3.2.4. Análise de \"(\""
   ]
  },
  {
   "cell_type": "code",
   "execution_count": 26,
   "metadata": {},
   "outputs": [
    {
     "name": "stdout",
     "output_type": "stream",
     "text": [
      "A porcentagem média de aparição do caractere ( nos emails spam é de 0.1105.\n"
     ]
    }
   ],
   "source": [
    "par_spam = spam[\"char_freq_(\"].mean()\n",
    "print(\"A porcentagem média de aparição do caractere ( nos emails spam é de %.4f.\" %(par_spam))"
   ]
  },
  {
   "cell_type": "code",
   "execution_count": 27,
   "metadata": {
    "scrolled": false
   },
   "outputs": [
    {
     "name": "stdout",
     "output_type": "stream",
     "text": [
      "A porcentagem média de aparição do caractere ( nos emails ham é de 0.1556.\n"
     ]
    }
   ],
   "source": [
    "par_ham = ham[\"char_freq_(\"].mean()\n",
    "print(\"A porcentagem média de aparição do caractere ( nos emails ham é de %.4f.\" %(par_ham))"
   ]
  },
  {
   "cell_type": "code",
   "execution_count": 220,
   "metadata": {},
   "outputs": [
    {
     "data": {
      "text/plain": [
       "<matplotlib.axes._subplots.AxesSubplot at 0x23fdd7a8ef0>"
      ]
     },
     "execution_count": 220,
     "metadata": {},
     "output_type": "execute_result"
    },
    {
     "data": {
      "image/png": "[encoded data removed]",
      "text/plain": [
       "<Figure size 432x288 with 1 Axes>"
      ]
     },
     "metadata": {},
     "output_type": "display_data"
    }
   ],
   "source": [
    "sns.barplot(y=\"char_freq_(\", data=data_raw, x=\"ham\")"
   ]
  },
  {
   "cell_type": "markdown",
   "metadata": {},
   "source": [
    "#### 1.3.2.5. Análise de \";\""
   ]
  },
  {
   "cell_type": "code",
   "execution_count": 28,
   "metadata": {},
   "outputs": [
    {
     "name": "stdout",
     "output_type": "stream",
     "text": [
      "A porcentagem média de aparição do caractere ; nos emails spam é de 0.0221.\n"
     ]
    }
   ],
   "source": [
    "pev_spam = spam[\"char_freq_;\"].mean()\n",
    "print(\"A porcentagem média de aparição do caractere ; nos emails spam é de %.4f.\" %(pev_spam))"
   ]
  },
  {
   "cell_type": "code",
   "execution_count": 29,
   "metadata": {},
   "outputs": [
    {
     "name": "stdout",
     "output_type": "stream",
     "text": [
      "A porcentagem média de aparição do caractere ; nos emails ham é de 0.0531.\n"
     ]
    }
   ],
   "source": [
    "pev_ham = ham[\"char_freq_;\"].mean()\n",
    "print(\"A porcentagem média de aparição do caractere ; nos emails ham é de %.4f.\" %(pev_ham))"
   ]
  },
  {
   "cell_type": "code",
   "execution_count": 221,
   "metadata": {},
   "outputs": [
    {
     "data": {
      "text/plain": [
       "<matplotlib.axes._subplots.AxesSubplot at 0x23fdd59e780>"
      ]
     },
     "execution_count": 221,
     "metadata": {},
     "output_type": "execute_result"
    },
    {
     "data": {
      "image/png": "[encoded data removed]",
      "text/plain": [
       "<Figure size 432x288 with 1 Axes>"
      ]
     },
     "metadata": {},
     "output_type": "display_data"
    }
   ],
   "source": [
    "sns.barplot(y=\"char_freq_;\", data=data_raw, x=\"ham\")"
   ]
  },
  {
   "cell_type": "markdown",
   "metadata": {},
   "source": [
    "#### 1.3.2.6. Análise de \"[\""
   ]
  },
  {
   "cell_type": "code",
   "execution_count": 30,
   "metadata": {},
   "outputs": [
    {
     "name": "stdout",
     "output_type": "stream",
     "text": [
      "A porcentagem média de aparição do caractere [ nos emails spam é de 0.0085.\n"
     ]
    }
   ],
   "source": [
    "brackets_spam = spam[\"char_freq_[\"].mean()\n",
    "print(\"A porcentagem média de aparição do caractere [ nos emails spam é de %.4f.\" %(brackets_spam))"
   ]
  },
  {
   "cell_type": "code",
   "execution_count": 31,
   "metadata": {
    "scrolled": true
   },
   "outputs": [
    {
     "name": "stdout",
     "output_type": "stream",
     "text": [
      "A porcentagem média de aparição do caractere [ nos emails ham é de 0.0235.\n"
     ]
    }
   ],
   "source": [
    "brackets_ham = ham[\"char_freq_[\"].mean()\n",
    "print(\"A porcentagem média de aparição do caractere [ nos emails ham é de %.4f.\" %(brackets_ham))"
   ]
  },
  {
   "cell_type": "code",
   "execution_count": 222,
   "metadata": {},
   "outputs": [
    {
     "data": {
      "text/plain": [
       "<matplotlib.axes._subplots.AxesSubplot at 0x23fdd5219b0>"
      ]
     },
     "execution_count": 222,
     "metadata": {},
     "output_type": "execute_result"
    },
    {
     "data": {
      "image/png": "[encoded data removed]",
      "text/plain": [
       "<Figure size 432x288 with 1 Axes>"
      ]
     },
     "metadata": {},
     "output_type": "display_data"
    }
   ],
   "source": [
    "sns.barplot(y=\"char_freq_[\", data=data_raw, x=\"ham\")"
   ]
  },
  {
   "cell_type": "markdown",
   "metadata": {},
   "source": [
    "### 1.3.3. Análise de sequências de letras maiúsculas"
   ]
  },
  {
   "cell_type": "markdown",
   "metadata": {},
   "source": [
    "#### 1.3.3.1. Comprimento médio de sequências de carateres maiúsculos"
   ]
  },
  {
   "cell_type": "code",
   "execution_count": 32,
   "metadata": {},
   "outputs": [
    {
     "name": "stdout",
     "output_type": "stream",
     "text": [
      "A média do tamanho médio de sequências de caracteres maiúsculos em spam é 10.04.\n",
      "O desvio padrão é 53.49.\n",
      "O máximo é 1102.50.\n",
      "O mínimo é 1.00.\n"
     ]
    }
   ],
   "source": [
    "media_maiusc_spam = spam.capital_run_length_average.mean()\n",
    "std_average_spam = spam.capital_run_length_average.std()\n",
    "max_average_spam = spam.capital_run_length_average.max()\n",
    "min_average_spam = spam.capital_run_length_average.min()\n",
    "print(\"A média do tamanho médio de sequências de caracteres maiúsculos em spam é %.2f.\" %(media_maiusc_spam))\n",
    "print(\"O desvio padrão é %.2f.\" %(std_average_spam))\n",
    "print(\"O máximo é %.2f.\" %(max_average_spam))\n",
    "print(\"O mínimo é %.2f.\" %(min_average_spam))"
   ]
  },
  {
   "cell_type": "code",
   "execution_count": 33,
   "metadata": {},
   "outputs": [
    {
     "name": "stdout",
     "output_type": "stream",
     "text": [
      "A média do tamanho médio de sequências de caracteres maiúsculos em ham é 2.40.\n",
      "O desvio padrão é 5.55.\n",
      "O máximo é 251.00.\n",
      "O mínimo é 1.00.\n"
     ]
    }
   ],
   "source": [
    "media_maiusc_ham = ham.capital_run_length_average.mean()\n",
    "std_average_ham = ham.capital_run_length_average.std()\n",
    "max_average_ham = ham.capital_run_length_average.max()\n",
    "min_average_ham = ham.capital_run_length_average.min()\n",
    "print(\"A média do tamanho médio de sequências de caracteres maiúsculos em ham é %.2f.\" %(media_maiusc_ham))\n",
    "print(\"O desvio padrão é %.2f.\" %(std_average_ham))\n",
    "print(\"O máximo é %.2f.\" %(max_average_ham))\n",
    "print(\"O mínimo é %.2f.\" %(min_average_ham))"
   ]
  },
  {
   "cell_type": "code",
   "execution_count": 235,
   "metadata": {},
   "outputs": [
    {
     "data": {
      "text/plain": [
       "<matplotlib.axes._subplots.AxesSubplot at 0x23fddbfa128>"
      ]
     },
     "execution_count": 235,
     "metadata": {},
     "output_type": "execute_result"
    },
    {
     "data": {
      "image/png": "[encoded data removed]",
      "text/plain": [
       "<Figure size 432x288 with 1 Axes>"
      ]
     },
     "metadata": {},
     "output_type": "display_data"
    }
   ],
   "source": [
    "sns.barplot(y=\"capital_run_length_average\", data=data_raw, x=\"ham\")"
   ]
  },
  {
   "cell_type": "markdown",
   "metadata": {},
   "source": [
    "#### 1.3.3.2. Tamanho da maior sequência de caracteres maiúsculos"
   ]
  },
  {
   "cell_type": "code",
   "execution_count": 34,
   "metadata": {},
   "outputs": [
    {
     "name": "stdout",
     "output_type": "stream",
     "text": [
      "A média do tamanho da maior sequência de caracteres maiúsculos em spam é 107.27.\n",
      "O desvio padrão é 326.24.\n",
      "O máximo é 9989.00.\n",
      "O mínimo é 1.00.\n"
     ]
    }
   ],
   "source": [
    "maior_maiusc_spam = spam.capital_run_length_longest.mean()\n",
    "std_maior_spam = spam.capital_run_length_longest.std()\n",
    "max_maior_spam = spam.capital_run_length_longest.max()\n",
    "min_maior_spam = spam.capital_run_length_longest.min()\n",
    "print(\"A média do tamanho da maior sequência de caracteres maiúsculos em spam é %.2f.\" %(maior_maiusc_spam))\n",
    "print(\"O desvio padrão é %.2f.\" %(std_maior_spam))\n",
    "print(\"O máximo é %.2f.\" %(max_maior_spam))\n",
    "print(\"O mínimo é %.2f.\" %(min_maior_spam))"
   ]
  },
  {
   "cell_type": "code",
   "execution_count": 35,
   "metadata": {
    "scrolled": true
   },
   "outputs": [
    {
     "name": "stdout",
     "output_type": "stream",
     "text": [
      "A média do tamanho da maior sequência de caracteres maiúsculos em ham é 18.27.\n",
      "O desvio padrão é 41.65.\n",
      "O máximo é 1488.00.\n",
      "O mínimo é 1.00.\n"
     ]
    }
   ],
   "source": [
    "maior_maiusc_ham = ham.capital_run_length_longest.mean()\n",
    "std_maior_ham = ham.capital_run_length_longest.std()\n",
    "max_maior_ham = ham.capital_run_length_longest.max()\n",
    "min_maior_ham = ham.capital_run_length_longest.min()\n",
    "print(\"A média do tamanho da maior sequência de caracteres maiúsculos em ham é %.2f.\" %(maior_maiusc_ham))\n",
    "print(\"O desvio padrão é %.2f.\" %(std_maior_ham))\n",
    "print(\"O máximo é %.2f.\" %(max_maior_ham))\n",
    "print(\"O mínimo é %.2f.\" %(min_maior_ham))"
   ]
  },
  {
   "cell_type": "code",
   "execution_count": 236,
   "metadata": {},
   "outputs": [
    {
     "data": {
      "text/plain": [
       "<matplotlib.axes._subplots.AxesSubplot at 0x23fdd567e80>"
      ]
     },
     "execution_count": 236,
     "metadata": {},
     "output_type": "execute_result"
    },
    {
     "data": {
      "image/png": "[encoded data removed]",
      "text/plain": [
       "<Figure size 432x288 with 1 Axes>"
      ]
     },
     "metadata": {},
     "output_type": "display_data"
    }
   ],
   "source": [
    "sns.barplot(y=\"capital_run_length_longest\", data=data_raw, x=\"ham\")"
   ]
  },
  {
   "cell_type": "markdown",
   "metadata": {},
   "source": [
    "#### 1.3.3.3. Número total de letras maiúsculas"
   ]
  },
  {
   "cell_type": "code",
   "execution_count": 36,
   "metadata": {},
   "outputs": [
    {
     "name": "stdout",
     "output_type": "stream",
     "text": [
      "A média do número total caracteres maiúsculos em spam é 479.30.\n",
      "O desvio padrão é 864.51.\n",
      "O máximo é 15841.00.\n",
      "O mínimo é 2.00.\n"
     ]
    }
   ],
   "source": [
    "total_maiusc_spam = spam.capital_run_length_total.mean()\n",
    "std_total_spam = spam.capital_run_length_total.std()\n",
    "max_total_spam = spam.capital_run_length_total.max()\n",
    "min_total_spam = spam.capital_run_length_total.min()\n",
    "print(\"A média do número total caracteres maiúsculos em spam é %.2f.\" %(total_maiusc_spam))\n",
    "print(\"O desvio padrão é %.2f.\" %(std_total_spam))\n",
    "print(\"O máximo é %.2f.\" %(max_total_spam))\n",
    "print(\"O mínimo é %.2f.\" %(min_total_spam))"
   ]
  },
  {
   "cell_type": "code",
   "execution_count": 37,
   "metadata": {
    "scrolled": true
   },
   "outputs": [
    {
     "name": "stdout",
     "output_type": "stream",
     "text": [
      "A média do número total caracteres maiúsculos em spam é 158.90.\n",
      "O desvio padrão é 348.29.\n",
      "O máximo é 5902.00.\n",
      "O mínimo é 1.00.\n"
     ]
    }
   ],
   "source": [
    "total_maiusc_ham = ham.capital_run_length_total.mean()\n",
    "std_total_ham = ham.capital_run_length_total.std()\n",
    "max_total_ham = ham.capital_run_length_total.max()\n",
    "min_total_ham = ham.capital_run_length_total.min()\n",
    "print(\"A média do número total caracteres maiúsculos em spam é %.2f.\" %(total_maiusc_ham))\n",
    "print(\"O desvio padrão é %.2f.\" %(std_total_ham))\n",
    "print(\"O máximo é %.2f.\" %(max_total_ham))\n",
    "print(\"O mínimo é %.2f.\" %(min_total_ham))"
   ]
  },
  {
   "cell_type": "code",
   "execution_count": 237,
   "metadata": {},
   "outputs": [
    {
     "data": {
      "text/plain": [
       "<matplotlib.axes._subplots.AxesSubplot at 0x23fddb9bcf8>"
      ]
     },
     "execution_count": 237,
     "metadata": {},
     "output_type": "execute_result"
    },
    {
     "data": {
      "image/png": "[encoded data removed]",
      "text/plain": [
       "<Figure size 432x288 with 1 Axes>"
      ]
     },
     "metadata": {},
     "output_type": "display_data"
    }
   ],
   "source": [
    "sns.barplot(y=\"capital_run_length_total\", data=data_raw, x=\"ham\")"
   ]
  },
  {
   "cell_type": "markdown",
   "metadata": {},
   "source": [
    "## 1.4. Análise das labels"
   ]
  },
  {
   "cell_type": "markdown",
   "metadata": {},
   "source": [
    "A label do dataset se trata da coluna \"ham\", a qual apresenta valores booleanos (True ou False). ham=True siginifica que o e-mail não é spam, enquanto ham=False significa que o e-mail é Spam."
   ]
  },
  {
   "cell_type": "code",
   "execution_count": 38,
   "metadata": {},
   "outputs": [],
   "source": [
    "spam_or_not = data_raw[\"ham\"]"
   ]
  },
  {
   "cell_type": "code",
   "execution_count": 39,
   "metadata": {},
   "outputs": [
    {
     "data": {
      "text/plain": [
       "True     2251\n",
       "False    1429\n",
       "Name: ham, dtype: int64"
      ]
     },
     "execution_count": 39,
     "metadata": {},
     "output_type": "execute_result"
    }
   ],
   "source": [
    "spam_or_not.value_counts()"
   ]
  },
  {
   "cell_type": "code",
   "execution_count": 40,
   "metadata": {},
   "outputs": [
    {
     "data": {
      "text/plain": [
       "<matplotlib.axes._subplots.AxesSubplot at 0x23fd358b978>"
      ]
     },
     "execution_count": 40,
     "metadata": {},
     "output_type": "execute_result"
    },
    {
     "data": {
      "image/png": "[encoded data removed]",
      "text/plain": [
       "<Figure size 432x288 with 1 Axes>"
      ]
     },
     "metadata": {},
     "output_type": "display_data"
    }
   ],
   "source": [
    "spam_or_not.value_counts().plot(radius=1.2, kind=\"pie\", autopct='%1.1f%%', pctdistance=0.5, colors=[\"lightgreen\", \"red\"])"
   ]
  },
  {
   "cell_type": "markdown",
   "metadata": {},
   "source": [
    "<a id='parte2'></a>\n",
    "\n",
    "# Parte 2: Implementação do classificador gaussiano e comparação com KNN"
   ]
  },
  {
   "cell_type": "code",
   "execution_count": 41,
   "metadata": {},
   "outputs": [],
   "source": [
    "from sklearn.naive_bayes import GaussianNB"
   ]
  },
  {
   "cell_type": "markdown",
   "metadata": {},
   "source": [
    "A seguir, será feita a implementação do classificador. Algumas features foram tiradas para efeito de experimentação."
   ]
  },
  {
   "cell_type": "code",
   "execution_count": 42,
   "metadata": {},
   "outputs": [],
   "source": [
    "train_X = data_raw.drop(labels =[\"Id\", \"char_freq_;\", \"char_freq_(\", \"ham\", \"char_freq_#\", 'word_freq_415', 'word_freq_85', 'word_freq_857', \"word_freq_650\"], axis=1)\n",
    "train_y = data_raw.ham"
   ]
  },
  {
   "cell_type": "code",
   "execution_count": 43,
   "metadata": {},
   "outputs": [
    {
     "data": {
      "text/html": [
       "<div>\n",
       "<style scoped>\n",
       "    .dataframe tbody tr th:only-of-type {\n",
       "        vertical-align: middle;\n",
       "    }\n",
       "\n",
       "    .dataframe tbody tr th {\n",
       "        vertical-align: top;\n",
       "    }\n",
       "\n",
       "    .dataframe thead th {\n",
       "        text-align: right;\n",
       "    }\n",
       "</style>\n",
       "<table border=\"1\" class=\"dataframe\">\n",
       "  <thead>\n",
       "    <tr style=\"text-align: right;\">\n",
       "      <th></th>\n",
       "      <th>word_freq_make</th>\n",
       "      <th>word_freq_address</th>\n",
       "      <th>word_freq_all</th>\n",
       "      <th>word_freq_3d</th>\n",
       "      <th>word_freq_our</th>\n",
       "      <th>word_freq_over</th>\n",
       "      <th>word_freq_remove</th>\n",
       "      <th>word_freq_internet</th>\n",
       "      <th>word_freq_order</th>\n",
       "      <th>word_freq_mail</th>\n",
       "      <th>...</th>\n",
       "      <th>word_freq_re</th>\n",
       "      <th>word_freq_edu</th>\n",
       "      <th>word_freq_table</th>\n",
       "      <th>word_freq_conference</th>\n",
       "      <th>char_freq_[</th>\n",
       "      <th>char_freq_!</th>\n",
       "      <th>char_freq_$</th>\n",
       "      <th>capital_run_length_average</th>\n",
       "      <th>capital_run_length_longest</th>\n",
       "      <th>capital_run_length_total</th>\n",
       "    </tr>\n",
       "  </thead>\n",
       "  <tbody>\n",
       "    <tr>\n",
       "      <th>0</th>\n",
       "      <td>0.0</td>\n",
       "      <td>14.28</td>\n",
       "      <td>0.0</td>\n",
       "      <td>0.0</td>\n",
       "      <td>0.00</td>\n",
       "      <td>0.0</td>\n",
       "      <td>0.0</td>\n",
       "      <td>0.00</td>\n",
       "      <td>0.0</td>\n",
       "      <td>0.00</td>\n",
       "      <td>...</td>\n",
       "      <td>0.0</td>\n",
       "      <td>0.0</td>\n",
       "      <td>0.0</td>\n",
       "      <td>0.0</td>\n",
       "      <td>0.0</td>\n",
       "      <td>0.000</td>\n",
       "      <td>0.000</td>\n",
       "      <td>1.800</td>\n",
       "      <td>5</td>\n",
       "      <td>9</td>\n",
       "    </tr>\n",
       "    <tr>\n",
       "      <th>1</th>\n",
       "      <td>0.0</td>\n",
       "      <td>0.00</td>\n",
       "      <td>1.0</td>\n",
       "      <td>0.0</td>\n",
       "      <td>0.50</td>\n",
       "      <td>0.0</td>\n",
       "      <td>0.0</td>\n",
       "      <td>0.00</td>\n",
       "      <td>0.0</td>\n",
       "      <td>0.50</td>\n",
       "      <td>...</td>\n",
       "      <td>0.5</td>\n",
       "      <td>0.0</td>\n",
       "      <td>0.0</td>\n",
       "      <td>0.0</td>\n",
       "      <td>0.0</td>\n",
       "      <td>0.892</td>\n",
       "      <td>0.000</td>\n",
       "      <td>2.000</td>\n",
       "      <td>19</td>\n",
       "      <td>172</td>\n",
       "    </tr>\n",
       "    <tr>\n",
       "      <th>2</th>\n",
       "      <td>0.0</td>\n",
       "      <td>0.00</td>\n",
       "      <td>0.0</td>\n",
       "      <td>0.0</td>\n",
       "      <td>0.00</td>\n",
       "      <td>0.0</td>\n",
       "      <td>0.0</td>\n",
       "      <td>1.29</td>\n",
       "      <td>0.0</td>\n",
       "      <td>0.43</td>\n",
       "      <td>...</td>\n",
       "      <td>0.0</td>\n",
       "      <td>0.0</td>\n",
       "      <td>0.0</td>\n",
       "      <td>0.0</td>\n",
       "      <td>0.0</td>\n",
       "      <td>0.310</td>\n",
       "      <td>0.062</td>\n",
       "      <td>1.477</td>\n",
       "      <td>8</td>\n",
       "      <td>65</td>\n",
       "    </tr>\n",
       "    <tr>\n",
       "      <th>3</th>\n",
       "      <td>0.0</td>\n",
       "      <td>0.00</td>\n",
       "      <td>0.0</td>\n",
       "      <td>0.0</td>\n",
       "      <td>0.00</td>\n",
       "      <td>0.0</td>\n",
       "      <td>0.0</td>\n",
       "      <td>0.00</td>\n",
       "      <td>0.0</td>\n",
       "      <td>0.00</td>\n",
       "      <td>...</td>\n",
       "      <td>0.0</td>\n",
       "      <td>0.0</td>\n",
       "      <td>0.0</td>\n",
       "      <td>0.0</td>\n",
       "      <td>0.0</td>\n",
       "      <td>0.444</td>\n",
       "      <td>0.000</td>\n",
       "      <td>2.800</td>\n",
       "      <td>7</td>\n",
       "      <td>28</td>\n",
       "    </tr>\n",
       "    <tr>\n",
       "      <th>4</th>\n",
       "      <td>0.0</td>\n",
       "      <td>0.00</td>\n",
       "      <td>0.0</td>\n",
       "      <td>0.0</td>\n",
       "      <td>1.17</td>\n",
       "      <td>0.0</td>\n",
       "      <td>0.0</td>\n",
       "      <td>0.00</td>\n",
       "      <td>0.0</td>\n",
       "      <td>1.17</td>\n",
       "      <td>...</td>\n",
       "      <td>0.0</td>\n",
       "      <td>0.0</td>\n",
       "      <td>0.0</td>\n",
       "      <td>0.0</td>\n",
       "      <td>0.0</td>\n",
       "      <td>0.000</td>\n",
       "      <td>0.000</td>\n",
       "      <td>1.551</td>\n",
       "      <td>10</td>\n",
       "      <td>45</td>\n",
       "    </tr>\n",
       "  </tbody>\n",
       "</table>\n",
       "<p>5 rows × 50 columns</p>\n",
       "</div>"
      ],
      "text/plain": [
       "   word_freq_make  word_freq_address  word_freq_all  word_freq_3d  \\\n",
       "0             0.0              14.28            0.0           0.0   \n",
       "1             0.0               0.00            1.0           0.0   \n",
       "2             0.0               0.00            0.0           0.0   \n",
       "3             0.0               0.00            0.0           0.0   \n",
       "4             0.0               0.00            0.0           0.0   \n",
       "\n",
       "   word_freq_our  word_freq_over  word_freq_remove  word_freq_internet  \\\n",
       "0           0.00             0.0               0.0                0.00   \n",
       "1           0.50             0.0               0.0                0.00   \n",
       "2           0.00             0.0               0.0                1.29   \n",
       "3           0.00             0.0               0.0                0.00   \n",
       "4           1.17             0.0               0.0                0.00   \n",
       "\n",
       "   word_freq_order  word_freq_mail            ...             word_freq_re  \\\n",
       "0              0.0            0.00            ...                      0.0   \n",
       "1              0.0            0.50            ...                      0.5   \n",
       "2              0.0            0.43            ...                      0.0   \n",
       "3              0.0            0.00            ...                      0.0   \n",
       "4              0.0            1.17            ...                      0.0   \n",
       "\n",
       "   word_freq_edu  word_freq_table  word_freq_conference  char_freq_[  \\\n",
       "0            0.0              0.0                   0.0          0.0   \n",
       "1            0.0              0.0                   0.0          0.0   \n",
       "2            0.0              0.0                   0.0          0.0   \n",
       "3            0.0              0.0                   0.0          0.0   \n",
       "4            0.0              0.0                   0.0          0.0   \n",
       "\n",
       "   char_freq_!  char_freq_$  capital_run_length_average  \\\n",
       "0        0.000        0.000                       1.800   \n",
       "1        0.892        0.000                       2.000   \n",
       "2        0.310        0.062                       1.477   \n",
       "3        0.444        0.000                       2.800   \n",
       "4        0.000        0.000                       1.551   \n",
       "\n",
       "   capital_run_length_longest  capital_run_length_total  \n",
       "0                           5                         9  \n",
       "1                          19                       172  \n",
       "2                           8                        65  \n",
       "3                           7                        28  \n",
       "4                          10                        45  \n",
       "\n",
       "[5 rows x 50 columns]"
      ]
     },
     "execution_count": 43,
     "metadata": {},
     "output_type": "execute_result"
    }
   ],
   "source": [
    "train_X.head()"
   ]
  },
  {
   "cell_type": "code",
   "execution_count": 44,
   "metadata": {},
   "outputs": [
    {
     "data": {
      "text/plain": [
       "0     True\n",
       "1    False\n",
       "2    False\n",
       "3     True\n",
       "4     True\n",
       "Name: ham, dtype: bool"
      ]
     },
     "execution_count": 44,
     "metadata": {},
     "output_type": "execute_result"
    }
   ],
   "source": [
    "train_y.head()"
   ]
  },
  {
   "cell_type": "code",
   "execution_count": 45,
   "metadata": {},
   "outputs": [
    {
     "data": {
      "text/plain": [
       "GaussianNB(priors=None)"
      ]
     },
     "execution_count": 45,
     "metadata": {},
     "output_type": "execute_result"
    }
   ],
   "source": [
    "gnb = GaussianNB()\n",
    "\n",
    "gnb.fit(train_X, train_y)"
   ]
  },
  {
   "cell_type": "code",
   "execution_count": 46,
   "metadata": {},
   "outputs": [
    {
     "name": "stdout",
     "output_type": "stream",
     "text": [
      "[0.80161943 0.7804878  0.83739837 0.83739837 0.83265306 0.85306122\n",
      " 0.83265306 0.86122449 0.82857143 0.7877551  0.81632653 0.8244898\n",
      " 0.82857143 0.82857143 0.82040816]\n",
      "0.8247459800219749\n"
     ]
    }
   ],
   "source": [
    "from sklearn.model_selection import cross_val_score\n",
    "\n",
    "scores = cross_val_score(gnb, train_X, train_y, cv=15)\n",
    "\n",
    "print(scores)\n",
    "print(scores.mean())"
   ]
  },
  {
   "cell_type": "markdown",
   "metadata": {},
   "source": [
    "Mas o valor da acurácia da predição está muito baixo. Vamos ver, agora, para o classificador K-nearest-neighbors."
   ]
  },
  {
   "cell_type": "code",
   "execution_count": 47,
   "metadata": {},
   "outputs": [],
   "source": [
    "from sklearn.neighbors import KNeighborsClassifier"
   ]
  },
  {
   "cell_type": "code",
   "execution_count": 48,
   "metadata": {},
   "outputs": [],
   "source": [
    "valores_obtidos = []\n",
    "for i in range(1, 101):\n",
    "    knn = KNeighborsClassifier(n_neighbors=i)\n",
    "    scores = cross_val_score(knn, train_X, train_y, cv=10)\n",
    "    valores_obtidos.append(scores.mean())"
   ]
  },
  {
   "cell_type": "code",
   "execution_count": 49,
   "metadata": {},
   "outputs": [
    {
     "name": "stdout",
     "output_type": "stream",
     "text": [
      "[0.8138591872679773, 0.7752758526504232, 0.8070642161003413, 0.7915720837992647, 0.8010844583108193, 0.7953801337933413, 0.7940221665351945, 0.7893981547030255, 0.7932010417278678, 0.7861328425362206, 0.789670646306629, 0.7828741982849873, 0.7853213273129058, 0.7826053968098028, 0.7806958506663019, 0.7771639623382965, 0.7741748278903238, 0.7744450941799432, 0.7744458386267312, 0.7758015926104647, 0.7757993672964807, 0.7722734064504488, 0.7698255249493616, 0.7676508714722854, 0.7668378713685846, 0.7679263007311391, 0.7627632452133075, 0.762487819967644, 0.7597711530441332, 0.759497196626095, 0.7532449632857305, 0.7532464401397361, 0.752703694286084, 0.7529776587305027, 0.7513472199347039, 0.7516189550519483, 0.7559653203376602, 0.7548813215371226, 0.7548805851167149, 0.7546125361146989, 0.7540675809998236, 0.7565161908949383, 0.757061882430221, 0.7570618864434112, 0.75515897209677, 0.7565154544745305, 0.7548850196919219, 0.7573314082862426, 0.7557017139372317, 0.7559719722004706, 0.757332881127058, 0.7576053647042807, 0.7557024503576395, 0.7554314436344222, 0.7518988389519603, 0.7532582710245418, 0.7510865752686671, 0.7508111419966232, 0.750540883733384, 0.7516285806887212, 0.7524445425268137, 0.7508126148374386, 0.7491836569088355, 0.748640907041993, 0.7494568688800856, 0.7483713851991618, 0.7500003511541453, 0.7491858661700583, 0.7461959993148681, 0.745922771290857, 0.7451060850719277, 0.7480952155067102, 0.7448358227954983, 0.7440176436698024, 0.7415719914958895, 0.7423886857411993, 0.7442901272470254, 0.7423886857411992, 0.7418429942059164, 0.7418422497591284, 0.7410255555138183, 0.7404828176865467, 0.7407582509585906, 0.738855332598759, 0.7391270717291938, 0.7391255908619979, 0.7404865078149656, 0.7415727239031069, 0.73722489380296, 0.7391270677160036, 0.7364111532656613, 0.7369531586857155, 0.7374988502209984, 0.7374988542341885, 0.7358691518587974, 0.7361394181484167, 0.7372256342365581, 0.7355966763079549, 0.7342350189213893, 0.733420545976873]\n"
     ]
    }
   ],
   "source": [
    "print(valores_obtidos)"
   ]
  },
  {
   "cell_type": "markdown",
   "metadata": {},
   "source": [
    "Para encontrar o melhor valor, pode-se utilizar o seguinte algoritmo:"
   ]
  },
  {
   "cell_type": "code",
   "execution_count": 50,
   "metadata": {},
   "outputs": [
    {
     "name": "stdout",
     "output_type": "stream",
     "text": [
      "O maior valor obtido foi de 0.8138591872679773 , relativo ao valor k = 1 .\n"
     ]
    }
   ],
   "source": [
    "maximo = 0\n",
    "index = 1\n",
    "for j in range(len(valores_obtidos)):\n",
    "    if valores_obtidos[j] > maximo:\n",
    "        maximo = valores_obtidos[j]\n",
    "        index = j\n",
    "print(\"O maior valor obtido foi de\", maximo, \", relativo ao valor k =\", index+1,\".\")"
   ]
  },
  {
   "cell_type": "markdown",
   "metadata": {},
   "source": [
    "De fato, devemos manipular melhor a base de dados para melhorar a eficiência do classificador, o que será feito a seguir."
   ]
  },
  {
   "cell_type": "markdown",
   "metadata": {},
   "source": [
    "<a id='parte3'></a>\n",
    "\n",
    "# Parte 3: Adaptação das features"
   ]
  },
  {
   "cell_type": "markdown",
   "metadata": {},
   "source": [
    "## 3.1. Compreendendo melhor o dataset"
   ]
  },
  {
   "cell_type": "markdown",
   "metadata": {},
   "source": [
    "Quando pensamos numa distribuição contínua doa atributos, logo vem em mente um classificador de Naive Bayes gaussiano. No entanto, muitas das features - se não todas! - têm distribuição muito distante de uma gaussiana, pois muitas vezes os valores são iguais a zero. Assim, pode-se pensar em manipular os dados de forma a tornar a distribuição das features binária, por exemplo."
   ]
  },
  {
   "cell_type": "markdown",
   "metadata": {},
   "source": [
    "Por exemplo, e relação à palavra \"order\":"
   ]
  },
  {
   "cell_type": "code",
   "execution_count": 51,
   "metadata": {},
   "outputs": [
    {
     "data": {
      "text/plain": [
       "0.00    3068\n",
       "0.09      23\n",
       "0.08      17\n",
       "0.10      15\n",
       "0.80      15\n",
       "0.16      14\n",
       "0.28      12\n",
       "0.23      12\n",
       "0.20      12\n",
       "0.05      11\n",
       "0.57      10\n",
       "0.66      10\n",
       "0.59      10\n",
       "0.58      10\n",
       "0.27      10\n",
       "0.24      10\n",
       "0.13       9\n",
       "0.38       9\n",
       "0.06       9\n",
       "0.54       9\n",
       "0.44       9\n",
       "0.32       8\n",
       "0.25       8\n",
       "0.19       8\n",
       "0.75       8\n",
       "0.31       8\n",
       "1.15       8\n",
       "0.48       7\n",
       "0.87       7\n",
       "0.17       7\n",
       "        ... \n",
       "0.79       2\n",
       "1.14       2\n",
       "1.08       1\n",
       "3.23       1\n",
       "0.85       1\n",
       "1.31       1\n",
       "2.50       1\n",
       "1.33       1\n",
       "1.34       1\n",
       "2.29       1\n",
       "0.71       1\n",
       "1.35       1\n",
       "0.70       1\n",
       "2.59       1\n",
       "0.45       1\n",
       "0.02       1\n",
       "1.52       1\n",
       "1.21       1\n",
       "1.27       1\n",
       "0.99       1\n",
       "0.97       1\n",
       "1.81       1\n",
       "2.48       1\n",
       "1.43       1\n",
       "0.84       1\n",
       "1.26       1\n",
       "0.12       1\n",
       "1.69       1\n",
       "2.35       1\n",
       "2.38       1\n",
       "Name: word_freq_order, Length: 131, dtype: int64"
      ]
     },
     "execution_count": 51,
     "metadata": {},
     "output_type": "execute_result"
    }
   ],
   "source": [
    "data_raw.word_freq_order.value_counts()"
   ]
  },
  {
   "cell_type": "code",
   "execution_count": 52,
   "metadata": {},
   "outputs": [
    {
     "data": {
      "text/plain": [
       "<matplotlib.axes._subplots.AxesSubplot at 0x23fd3a73a90>"
      ]
     },
     "execution_count": 52,
     "metadata": {},
     "output_type": "execute_result"
    },
    {
     "data": {
      "image/png": "[encoded data removed]",
      "text/plain": [
       "<Figure size 432x288 with 1 Axes>"
      ]
     },
     "metadata": {},
     "output_type": "display_data"
    }
   ],
   "source": [
    "data_raw[data_raw.word_freq_order == 0].ham.value_counts().plot(kind=\"pie\", autopct='%1.1f%%', pctdistance=0.5, colors=[\"blue\", \"orange\"])"
   ]
  },
  {
   "cell_type": "code",
   "execution_count": 53,
   "metadata": {},
   "outputs": [
    {
     "data": {
      "text/plain": [
       "<matplotlib.axes._subplots.AxesSubplot at 0x23fd39155f8>"
      ]
     },
     "execution_count": 53,
     "metadata": {},
     "output_type": "execute_result"
    },
    {
     "data": {
      "image/png": "[encoded data removed]",
      "text/plain": [
       "<Figure size 432x288 with 1 Axes>"
      ]
     },
     "metadata": {},
     "output_type": "display_data"
    }
   ],
   "source": [
    "data_raw[data_raw.word_freq_order > 0].ham.value_counts().plot(kind=\"pie\", autopct='%1.1f%%', pctdistance=0.5, colors=[\"orange\", \"blue\"])"
   ]
  },
  {
   "cell_type": "markdown",
   "metadata": {},
   "source": [
    "Assim, para os emails nos quais a palavra \"order\" aparece, a porcentagem de emails spam é muito maior (o que é compreensível, pois \"order\" se traduz, além de \"ordem\", para \"pedido\", o que poderia soar como spam de comércio, por exemplo, já que é comum a expressão \"place an order\" / \"fazer um pedido na loja\" em email marketing)."
   ]
  },
  {
   "cell_type": "markdown",
   "metadata": {},
   "source": [
    "Para mais de 3000 dos data points, a palavra não aparece, o que é verdade para a maior parte dos atributos (de frequência de palavras e caracteres)! Podemos, assim, fazer uma classificação binária: *aparece* ou *não aparece*. Vamos ver mais alguns atributos:"
   ]
  },
  {
   "cell_type": "code",
   "execution_count": 54,
   "metadata": {},
   "outputs": [
    {
     "data": {
      "text/plain": [
       "0.00    3085\n",
       "0.09      22\n",
       "0.08      22\n",
       "0.32      19\n",
       "0.34      18\n",
       "0.20      16\n",
       "0.30      15\n",
       "0.10      15\n",
       "0.05      14\n",
       "0.33      13\n",
       "1.31      13\n",
       "0.29      12\n",
       "0.17      10\n",
       "0.19      10\n",
       "0.16      10\n",
       "0.38      10\n",
       "0.44       9\n",
       "0.06       9\n",
       "0.26       9\n",
       "0.77       9\n",
       "0.22       9\n",
       "0.40       9\n",
       "0.46       8\n",
       "0.42       8\n",
       "0.18       8\n",
       "0.41       8\n",
       "0.43       8\n",
       "0.28       8\n",
       "0.23       7\n",
       "0.12       7\n",
       "        ... \n",
       "1.73       1\n",
       "1.40       1\n",
       "1.07       1\n",
       "0.85       1\n",
       "0.15       1\n",
       "3.33       1\n",
       "1.28       1\n",
       "1.61       1\n",
       "9.75       1\n",
       "1.94       1\n",
       "0.81       1\n",
       "0.99       1\n",
       "2.04       1\n",
       "0.73       1\n",
       "0.79       1\n",
       "2.32       1\n",
       "1.11       1\n",
       "0.94       1\n",
       "0.03       1\n",
       "1.17       1\n",
       "3.61       1\n",
       "4.16       1\n",
       "1.23       1\n",
       "0.83       1\n",
       "1.01       1\n",
       "1.42       1\n",
       "1.66       1\n",
       "1.46       1\n",
       "1.08       1\n",
       "0.66       1\n",
       "Name: word_freq_money, Length: 132, dtype: int64"
      ]
     },
     "execution_count": 54,
     "metadata": {},
     "output_type": "execute_result"
    }
   ],
   "source": [
    "data_raw.word_freq_money.value_counts()"
   ]
  },
  {
   "cell_type": "code",
   "execution_count": 55,
   "metadata": {},
   "outputs": [
    {
     "data": {
      "text/plain": [
       "0.000    1893\n",
       "0.010      10\n",
       "0.016       9\n",
       "0.238       9\n",
       "0.107       8\n",
       "0.310       8\n",
       "0.056       8\n",
       "0.149       8\n",
       "0.438       7\n",
       "0.045       7\n",
       "0.044       7\n",
       "0.020       7\n",
       "0.371       7\n",
       "0.130       7\n",
       "0.034       7\n",
       "0.271       7\n",
       "0.057       7\n",
       "0.102       7\n",
       "0.050       7\n",
       "0.095       7\n",
       "0.444       7\n",
       "0.709       6\n",
       "0.230       6\n",
       "0.134       6\n",
       "0.072       6\n",
       "0.041       6\n",
       "0.250       6\n",
       "0.370       6\n",
       "0.490       6\n",
       "0.063       6\n",
       "         ... \n",
       "0.346       1\n",
       "1.152       1\n",
       "1.060       1\n",
       "0.264       1\n",
       "0.180       1\n",
       "0.931       1\n",
       "0.620       1\n",
       "0.449       1\n",
       "0.975       1\n",
       "0.573       1\n",
       "0.582       1\n",
       "1.160       1\n",
       "0.115       1\n",
       "0.508       1\n",
       "0.574       1\n",
       "0.058       1\n",
       "0.567       1\n",
       "0.380       1\n",
       "0.960       1\n",
       "0.158       1\n",
       "1.048       1\n",
       "0.698       1\n",
       "0.595       1\n",
       "1.156       1\n",
       "0.442       1\n",
       "5.828       1\n",
       "0.819       1\n",
       "0.609       1\n",
       "1.524       1\n",
       "0.143       1\n",
       "Name: char_freq_!, Length: 863, dtype: int64"
      ]
     },
     "execution_count": 55,
     "metadata": {},
     "output_type": "execute_result"
    }
   ],
   "source": [
    "data_raw[\"char_freq_!\"].value_counts()"
   ]
  },
  {
   "cell_type": "markdown",
   "metadata": {},
   "source": [
    "\n",
    "## 3.2. Manipulação do dataset"
   ]
  },
  {
   "cell_type": "markdown",
   "metadata": {},
   "source": [
    "### 3.2.1. Manipulação dos atributos de frequência de palavras e caracteres"
   ]
  },
  {
   "cell_type": "markdown",
   "metadata": {},
   "source": [
    "Primeiramente, trataremos esse tipo de atributo. Os atributos relativos aos valores de letras maiúsculas serão tratados posteriormente, no ponto *3.2.2.*"
   ]
  },
  {
   "cell_type": "code",
   "execution_count": 56,
   "metadata": {},
   "outputs": [],
   "source": [
    "data_X_freq_raw = data_raw.drop([\"Id\", \"ham\"], axis=1)"
   ]
  },
  {
   "cell_type": "code",
   "execution_count": 57,
   "metadata": {},
   "outputs": [],
   "source": [
    "data_X_freq = data_X_freq_raw.drop([\"capital_run_length_average\", \"capital_run_length_longest\", \"capital_run_length_total\"], axis=1)"
   ]
  },
  {
   "cell_type": "code",
   "execution_count": 58,
   "metadata": {
    "scrolled": true
   },
   "outputs": [
    {
     "data": {
      "text/html": [
       "<div>\n",
       "<style scoped>\n",
       "    .dataframe tbody tr th:only-of-type {\n",
       "        vertical-align: middle;\n",
       "    }\n",
       "\n",
       "    .dataframe tbody tr th {\n",
       "        vertical-align: top;\n",
       "    }\n",
       "\n",
       "    .dataframe thead th {\n",
       "        text-align: right;\n",
       "    }\n",
       "</style>\n",
       "<table border=\"1\" class=\"dataframe\">\n",
       "  <thead>\n",
       "    <tr style=\"text-align: right;\">\n",
       "      <th></th>\n",
       "      <th>word_freq_make</th>\n",
       "      <th>word_freq_address</th>\n",
       "      <th>word_freq_all</th>\n",
       "      <th>word_freq_3d</th>\n",
       "      <th>word_freq_our</th>\n",
       "      <th>word_freq_over</th>\n",
       "      <th>word_freq_remove</th>\n",
       "      <th>word_freq_internet</th>\n",
       "      <th>word_freq_order</th>\n",
       "      <th>word_freq_mail</th>\n",
       "      <th>...</th>\n",
       "      <th>word_freq_re</th>\n",
       "      <th>word_freq_edu</th>\n",
       "      <th>word_freq_table</th>\n",
       "      <th>word_freq_conference</th>\n",
       "      <th>char_freq_;</th>\n",
       "      <th>char_freq_(</th>\n",
       "      <th>char_freq_[</th>\n",
       "      <th>char_freq_!</th>\n",
       "      <th>char_freq_$</th>\n",
       "      <th>char_freq_#</th>\n",
       "    </tr>\n",
       "  </thead>\n",
       "  <tbody>\n",
       "    <tr>\n",
       "      <th>0</th>\n",
       "      <td>0.0</td>\n",
       "      <td>14.28</td>\n",
       "      <td>0.0</td>\n",
       "      <td>0.0</td>\n",
       "      <td>0.00</td>\n",
       "      <td>0.0</td>\n",
       "      <td>0.0</td>\n",
       "      <td>0.00</td>\n",
       "      <td>0.0</td>\n",
       "      <td>0.00</td>\n",
       "      <td>...</td>\n",
       "      <td>0.0</td>\n",
       "      <td>0.0</td>\n",
       "      <td>0.0</td>\n",
       "      <td>0.0</td>\n",
       "      <td>0.0</td>\n",
       "      <td>0.000</td>\n",
       "      <td>0.0</td>\n",
       "      <td>0.000</td>\n",
       "      <td>0.000</td>\n",
       "      <td>0.0</td>\n",
       "    </tr>\n",
       "    <tr>\n",
       "      <th>1</th>\n",
       "      <td>0.0</td>\n",
       "      <td>0.00</td>\n",
       "      <td>1.0</td>\n",
       "      <td>0.0</td>\n",
       "      <td>0.50</td>\n",
       "      <td>0.0</td>\n",
       "      <td>0.0</td>\n",
       "      <td>0.00</td>\n",
       "      <td>0.0</td>\n",
       "      <td>0.50</td>\n",
       "      <td>...</td>\n",
       "      <td>0.5</td>\n",
       "      <td>0.0</td>\n",
       "      <td>0.0</td>\n",
       "      <td>0.0</td>\n",
       "      <td>0.0</td>\n",
       "      <td>0.357</td>\n",
       "      <td>0.0</td>\n",
       "      <td>0.892</td>\n",
       "      <td>0.000</td>\n",
       "      <td>0.0</td>\n",
       "    </tr>\n",
       "    <tr>\n",
       "      <th>2</th>\n",
       "      <td>0.0</td>\n",
       "      <td>0.00</td>\n",
       "      <td>0.0</td>\n",
       "      <td>0.0</td>\n",
       "      <td>0.00</td>\n",
       "      <td>0.0</td>\n",
       "      <td>0.0</td>\n",
       "      <td>1.29</td>\n",
       "      <td>0.0</td>\n",
       "      <td>0.43</td>\n",
       "      <td>...</td>\n",
       "      <td>0.0</td>\n",
       "      <td>0.0</td>\n",
       "      <td>0.0</td>\n",
       "      <td>0.0</td>\n",
       "      <td>0.0</td>\n",
       "      <td>0.124</td>\n",
       "      <td>0.0</td>\n",
       "      <td>0.310</td>\n",
       "      <td>0.062</td>\n",
       "      <td>0.0</td>\n",
       "    </tr>\n",
       "    <tr>\n",
       "      <th>3</th>\n",
       "      <td>0.0</td>\n",
       "      <td>0.00</td>\n",
       "      <td>0.0</td>\n",
       "      <td>0.0</td>\n",
       "      <td>0.00</td>\n",
       "      <td>0.0</td>\n",
       "      <td>0.0</td>\n",
       "      <td>0.00</td>\n",
       "      <td>0.0</td>\n",
       "      <td>0.00</td>\n",
       "      <td>...</td>\n",
       "      <td>0.0</td>\n",
       "      <td>0.0</td>\n",
       "      <td>0.0</td>\n",
       "      <td>0.0</td>\n",
       "      <td>0.0</td>\n",
       "      <td>0.000</td>\n",
       "      <td>0.0</td>\n",
       "      <td>0.444</td>\n",
       "      <td>0.000</td>\n",
       "      <td>0.0</td>\n",
       "    </tr>\n",
       "    <tr>\n",
       "      <th>4</th>\n",
       "      <td>0.0</td>\n",
       "      <td>0.00</td>\n",
       "      <td>0.0</td>\n",
       "      <td>0.0</td>\n",
       "      <td>1.17</td>\n",
       "      <td>0.0</td>\n",
       "      <td>0.0</td>\n",
       "      <td>0.00</td>\n",
       "      <td>0.0</td>\n",
       "      <td>1.17</td>\n",
       "      <td>...</td>\n",
       "      <td>0.0</td>\n",
       "      <td>0.0</td>\n",
       "      <td>0.0</td>\n",
       "      <td>0.0</td>\n",
       "      <td>0.0</td>\n",
       "      <td>0.000</td>\n",
       "      <td>0.0</td>\n",
       "      <td>0.000</td>\n",
       "      <td>0.000</td>\n",
       "      <td>0.0</td>\n",
       "    </tr>\n",
       "  </tbody>\n",
       "</table>\n",
       "<p>5 rows × 54 columns</p>\n",
       "</div>"
      ],
      "text/plain": [
       "   word_freq_make  word_freq_address  word_freq_all  word_freq_3d  \\\n",
       "0             0.0              14.28            0.0           0.0   \n",
       "1             0.0               0.00            1.0           0.0   \n",
       "2             0.0               0.00            0.0           0.0   \n",
       "3             0.0               0.00            0.0           0.0   \n",
       "4             0.0               0.00            0.0           0.0   \n",
       "\n",
       "   word_freq_our  word_freq_over  word_freq_remove  word_freq_internet  \\\n",
       "0           0.00             0.0               0.0                0.00   \n",
       "1           0.50             0.0               0.0                0.00   \n",
       "2           0.00             0.0               0.0                1.29   \n",
       "3           0.00             0.0               0.0                0.00   \n",
       "4           1.17             0.0               0.0                0.00   \n",
       "\n",
       "   word_freq_order  word_freq_mail     ...       word_freq_re  word_freq_edu  \\\n",
       "0              0.0            0.00     ...                0.0            0.0   \n",
       "1              0.0            0.50     ...                0.5            0.0   \n",
       "2              0.0            0.43     ...                0.0            0.0   \n",
       "3              0.0            0.00     ...                0.0            0.0   \n",
       "4              0.0            1.17     ...                0.0            0.0   \n",
       "\n",
       "   word_freq_table  word_freq_conference  char_freq_;  char_freq_(  \\\n",
       "0              0.0                   0.0          0.0        0.000   \n",
       "1              0.0                   0.0          0.0        0.357   \n",
       "2              0.0                   0.0          0.0        0.124   \n",
       "3              0.0                   0.0          0.0        0.000   \n",
       "4              0.0                   0.0          0.0        0.000   \n",
       "\n",
       "   char_freq_[  char_freq_!  char_freq_$  char_freq_#  \n",
       "0          0.0        0.000        0.000          0.0  \n",
       "1          0.0        0.892        0.000          0.0  \n",
       "2          0.0        0.310        0.062          0.0  \n",
       "3          0.0        0.444        0.000          0.0  \n",
       "4          0.0        0.000        0.000          0.0  \n",
       "\n",
       "[5 rows x 54 columns]"
      ]
     },
     "execution_count": 58,
     "metadata": {},
     "output_type": "execute_result"
    }
   ],
   "source": [
    "data_X_freq.head()"
   ]
  },
  {
   "cell_type": "markdown",
   "metadata": {},
   "source": [
    "Agora que temos o dataset preparado, vamos alterar os valores: para todas as colunas de atributos, valores diferentes de zero serão alterados para 1, enquanto 0 continuará como 0."
   ]
  },
  {
   "cell_type": "code",
   "execution_count": 59,
   "metadata": {},
   "outputs": [
    {
     "name": "stderr",
     "output_type": "stream",
     "text": [
      "C:\\Users\\Rodrigo Magaldi\\Anaconda3\\lib\\site-packages\\ipykernel_launcher.py:4: FutureWarning: set_value is deprecated and will be removed in a future release. Please use .at[] or .iat[] accessors instead\n",
      "  after removing the cwd from sys.path.\n"
     ]
    }
   ],
   "source": [
    "for index, row in data_X_freq.iterrows():\n",
    "    for column in data_X_freq.columns:\n",
    "        if row[column] > 0 :\n",
    "            data_X_freq.set_value(index, column, 1)"
   ]
  },
  {
   "cell_type": "code",
   "execution_count": 60,
   "metadata": {},
   "outputs": [
    {
     "data": {
      "text/html": [
       "<div>\n",
       "<style scoped>\n",
       "    .dataframe tbody tr th:only-of-type {\n",
       "        vertical-align: middle;\n",
       "    }\n",
       "\n",
       "    .dataframe tbody tr th {\n",
       "        vertical-align: top;\n",
       "    }\n",
       "\n",
       "    .dataframe thead th {\n",
       "        text-align: right;\n",
       "    }\n",
       "</style>\n",
       "<table border=\"1\" class=\"dataframe\">\n",
       "  <thead>\n",
       "    <tr style=\"text-align: right;\">\n",
       "      <th></th>\n",
       "      <th>word_freq_make</th>\n",
       "      <th>word_freq_address</th>\n",
       "      <th>word_freq_all</th>\n",
       "      <th>word_freq_3d</th>\n",
       "      <th>word_freq_our</th>\n",
       "      <th>word_freq_over</th>\n",
       "      <th>word_freq_remove</th>\n",
       "      <th>word_freq_internet</th>\n",
       "      <th>word_freq_order</th>\n",
       "      <th>word_freq_mail</th>\n",
       "      <th>...</th>\n",
       "      <th>word_freq_re</th>\n",
       "      <th>word_freq_edu</th>\n",
       "      <th>word_freq_table</th>\n",
       "      <th>word_freq_conference</th>\n",
       "      <th>char_freq_;</th>\n",
       "      <th>char_freq_(</th>\n",
       "      <th>char_freq_[</th>\n",
       "      <th>char_freq_!</th>\n",
       "      <th>char_freq_$</th>\n",
       "      <th>char_freq_#</th>\n",
       "    </tr>\n",
       "  </thead>\n",
       "  <tbody>\n",
       "    <tr>\n",
       "      <th>0</th>\n",
       "      <td>0.0</td>\n",
       "      <td>1.0</td>\n",
       "      <td>0.0</td>\n",
       "      <td>0.0</td>\n",
       "      <td>0.0</td>\n",
       "      <td>0.0</td>\n",
       "      <td>0.0</td>\n",
       "      <td>0.0</td>\n",
       "      <td>0.0</td>\n",
       "      <td>0.0</td>\n",
       "      <td>...</td>\n",
       "      <td>0.0</td>\n",
       "      <td>0.0</td>\n",
       "      <td>0.0</td>\n",
       "      <td>0.0</td>\n",
       "      <td>0.0</td>\n",
       "      <td>0.0</td>\n",
       "      <td>0.0</td>\n",
       "      <td>0.0</td>\n",
       "      <td>0.0</td>\n",
       "      <td>0.0</td>\n",
       "    </tr>\n",
       "    <tr>\n",
       "      <th>1</th>\n",
       "      <td>0.0</td>\n",
       "      <td>0.0</td>\n",
       "      <td>1.0</td>\n",
       "      <td>0.0</td>\n",
       "      <td>1.0</td>\n",
       "      <td>0.0</td>\n",
       "      <td>0.0</td>\n",
       "      <td>0.0</td>\n",
       "      <td>0.0</td>\n",
       "      <td>1.0</td>\n",
       "      <td>...</td>\n",
       "      <td>1.0</td>\n",
       "      <td>0.0</td>\n",
       "      <td>0.0</td>\n",
       "      <td>0.0</td>\n",
       "      <td>0.0</td>\n",
       "      <td>1.0</td>\n",
       "      <td>0.0</td>\n",
       "      <td>1.0</td>\n",
       "      <td>0.0</td>\n",
       "      <td>0.0</td>\n",
       "    </tr>\n",
       "    <tr>\n",
       "      <th>2</th>\n",
       "      <td>0.0</td>\n",
       "      <td>0.0</td>\n",
       "      <td>0.0</td>\n",
       "      <td>0.0</td>\n",
       "      <td>0.0</td>\n",
       "      <td>0.0</td>\n",
       "      <td>0.0</td>\n",
       "      <td>1.0</td>\n",
       "      <td>0.0</td>\n",
       "      <td>1.0</td>\n",
       "      <td>...</td>\n",
       "      <td>0.0</td>\n",
       "      <td>0.0</td>\n",
       "      <td>0.0</td>\n",
       "      <td>0.0</td>\n",
       "      <td>0.0</td>\n",
       "      <td>1.0</td>\n",
       "      <td>0.0</td>\n",
       "      <td>1.0</td>\n",
       "      <td>1.0</td>\n",
       "      <td>0.0</td>\n",
       "    </tr>\n",
       "    <tr>\n",
       "      <th>3</th>\n",
       "      <td>0.0</td>\n",
       "      <td>0.0</td>\n",
       "      <td>0.0</td>\n",
       "      <td>0.0</td>\n",
       "      <td>0.0</td>\n",
       "      <td>0.0</td>\n",
       "      <td>0.0</td>\n",
       "      <td>0.0</td>\n",
       "      <td>0.0</td>\n",
       "      <td>0.0</td>\n",
       "      <td>...</td>\n",
       "      <td>0.0</td>\n",
       "      <td>0.0</td>\n",
       "      <td>0.0</td>\n",
       "      <td>0.0</td>\n",
       "      <td>0.0</td>\n",
       "      <td>0.0</td>\n",
       "      <td>0.0</td>\n",
       "      <td>1.0</td>\n",
       "      <td>0.0</td>\n",
       "      <td>0.0</td>\n",
       "    </tr>\n",
       "    <tr>\n",
       "      <th>4</th>\n",
       "      <td>0.0</td>\n",
       "      <td>0.0</td>\n",
       "      <td>0.0</td>\n",
       "      <td>0.0</td>\n",
       "      <td>1.0</td>\n",
       "      <td>0.0</td>\n",
       "      <td>0.0</td>\n",
       "      <td>0.0</td>\n",
       "      <td>0.0</td>\n",
       "      <td>1.0</td>\n",
       "      <td>...</td>\n",
       "      <td>0.0</td>\n",
       "      <td>0.0</td>\n",
       "      <td>0.0</td>\n",
       "      <td>0.0</td>\n",
       "      <td>0.0</td>\n",
       "      <td>0.0</td>\n",
       "      <td>0.0</td>\n",
       "      <td>0.0</td>\n",
       "      <td>0.0</td>\n",
       "      <td>0.0</td>\n",
       "    </tr>\n",
       "    <tr>\n",
       "      <th>5</th>\n",
       "      <td>0.0</td>\n",
       "      <td>0.0</td>\n",
       "      <td>0.0</td>\n",
       "      <td>0.0</td>\n",
       "      <td>0.0</td>\n",
       "      <td>0.0</td>\n",
       "      <td>0.0</td>\n",
       "      <td>0.0</td>\n",
       "      <td>0.0</td>\n",
       "      <td>0.0</td>\n",
       "      <td>...</td>\n",
       "      <td>0.0</td>\n",
       "      <td>0.0</td>\n",
       "      <td>0.0</td>\n",
       "      <td>0.0</td>\n",
       "      <td>1.0</td>\n",
       "      <td>1.0</td>\n",
       "      <td>1.0</td>\n",
       "      <td>1.0</td>\n",
       "      <td>1.0</td>\n",
       "      <td>1.0</td>\n",
       "    </tr>\n",
       "    <tr>\n",
       "      <th>6</th>\n",
       "      <td>0.0</td>\n",
       "      <td>0.0</td>\n",
       "      <td>1.0</td>\n",
       "      <td>0.0</td>\n",
       "      <td>0.0</td>\n",
       "      <td>0.0</td>\n",
       "      <td>1.0</td>\n",
       "      <td>0.0</td>\n",
       "      <td>0.0</td>\n",
       "      <td>0.0</td>\n",
       "      <td>...</td>\n",
       "      <td>0.0</td>\n",
       "      <td>0.0</td>\n",
       "      <td>1.0</td>\n",
       "      <td>0.0</td>\n",
       "      <td>0.0</td>\n",
       "      <td>1.0</td>\n",
       "      <td>0.0</td>\n",
       "      <td>1.0</td>\n",
       "      <td>1.0</td>\n",
       "      <td>0.0</td>\n",
       "    </tr>\n",
       "    <tr>\n",
       "      <th>7</th>\n",
       "      <td>0.0</td>\n",
       "      <td>1.0</td>\n",
       "      <td>0.0</td>\n",
       "      <td>0.0</td>\n",
       "      <td>0.0</td>\n",
       "      <td>0.0</td>\n",
       "      <td>0.0</td>\n",
       "      <td>0.0</td>\n",
       "      <td>0.0</td>\n",
       "      <td>1.0</td>\n",
       "      <td>...</td>\n",
       "      <td>1.0</td>\n",
       "      <td>0.0</td>\n",
       "      <td>0.0</td>\n",
       "      <td>0.0</td>\n",
       "      <td>0.0</td>\n",
       "      <td>0.0</td>\n",
       "      <td>0.0</td>\n",
       "      <td>0.0</td>\n",
       "      <td>0.0</td>\n",
       "      <td>0.0</td>\n",
       "    </tr>\n",
       "    <tr>\n",
       "      <th>8</th>\n",
       "      <td>1.0</td>\n",
       "      <td>0.0</td>\n",
       "      <td>1.0</td>\n",
       "      <td>0.0</td>\n",
       "      <td>0.0</td>\n",
       "      <td>1.0</td>\n",
       "      <td>0.0</td>\n",
       "      <td>0.0</td>\n",
       "      <td>0.0</td>\n",
       "      <td>1.0</td>\n",
       "      <td>...</td>\n",
       "      <td>1.0</td>\n",
       "      <td>1.0</td>\n",
       "      <td>0.0</td>\n",
       "      <td>0.0</td>\n",
       "      <td>1.0</td>\n",
       "      <td>1.0</td>\n",
       "      <td>0.0</td>\n",
       "      <td>0.0</td>\n",
       "      <td>1.0</td>\n",
       "      <td>0.0</td>\n",
       "    </tr>\n",
       "    <tr>\n",
       "      <th>9</th>\n",
       "      <td>0.0</td>\n",
       "      <td>0.0</td>\n",
       "      <td>1.0</td>\n",
       "      <td>0.0</td>\n",
       "      <td>0.0</td>\n",
       "      <td>1.0</td>\n",
       "      <td>0.0</td>\n",
       "      <td>0.0</td>\n",
       "      <td>0.0</td>\n",
       "      <td>0.0</td>\n",
       "      <td>...</td>\n",
       "      <td>1.0</td>\n",
       "      <td>0.0</td>\n",
       "      <td>0.0</td>\n",
       "      <td>0.0</td>\n",
       "      <td>0.0</td>\n",
       "      <td>0.0</td>\n",
       "      <td>0.0</td>\n",
       "      <td>0.0</td>\n",
       "      <td>0.0</td>\n",
       "      <td>0.0</td>\n",
       "    </tr>\n",
       "  </tbody>\n",
       "</table>\n",
       "<p>10 rows × 54 columns</p>\n",
       "</div>"
      ],
      "text/plain": [
       "   word_freq_make  word_freq_address  word_freq_all  word_freq_3d  \\\n",
       "0             0.0                1.0            0.0           0.0   \n",
       "1             0.0                0.0            1.0           0.0   \n",
       "2             0.0                0.0            0.0           0.0   \n",
       "3             0.0                0.0            0.0           0.0   \n",
       "4             0.0                0.0            0.0           0.0   \n",
       "5             0.0                0.0            0.0           0.0   \n",
       "6             0.0                0.0            1.0           0.0   \n",
       "7             0.0                1.0            0.0           0.0   \n",
       "8             1.0                0.0            1.0           0.0   \n",
       "9             0.0                0.0            1.0           0.0   \n",
       "\n",
       "   word_freq_our  word_freq_over  word_freq_remove  word_freq_internet  \\\n",
       "0            0.0             0.0               0.0                 0.0   \n",
       "1            1.0             0.0               0.0                 0.0   \n",
       "2            0.0             0.0               0.0                 1.0   \n",
       "3            0.0             0.0               0.0                 0.0   \n",
       "4            1.0             0.0               0.0                 0.0   \n",
       "5            0.0             0.0               0.0                 0.0   \n",
       "6            0.0             0.0               1.0                 0.0   \n",
       "7            0.0             0.0               0.0                 0.0   \n",
       "8            0.0             1.0               0.0                 0.0   \n",
       "9            0.0             1.0               0.0                 0.0   \n",
       "\n",
       "   word_freq_order  word_freq_mail     ...       word_freq_re  word_freq_edu  \\\n",
       "0              0.0             0.0     ...                0.0            0.0   \n",
       "1              0.0             1.0     ...                1.0            0.0   \n",
       "2              0.0             1.0     ...                0.0            0.0   \n",
       "3              0.0             0.0     ...                0.0            0.0   \n",
       "4              0.0             1.0     ...                0.0            0.0   \n",
       "5              0.0             0.0     ...                0.0            0.0   \n",
       "6              0.0             0.0     ...                0.0            0.0   \n",
       "7              0.0             1.0     ...                1.0            0.0   \n",
       "8              0.0             1.0     ...                1.0            1.0   \n",
       "9              0.0             0.0     ...                1.0            0.0   \n",
       "\n",
       "   word_freq_table  word_freq_conference  char_freq_;  char_freq_(  \\\n",
       "0              0.0                   0.0          0.0          0.0   \n",
       "1              0.0                   0.0          0.0          1.0   \n",
       "2              0.0                   0.0          0.0          1.0   \n",
       "3              0.0                   0.0          0.0          0.0   \n",
       "4              0.0                   0.0          0.0          0.0   \n",
       "5              0.0                   0.0          1.0          1.0   \n",
       "6              1.0                   0.0          0.0          1.0   \n",
       "7              0.0                   0.0          0.0          0.0   \n",
       "8              0.0                   0.0          1.0          1.0   \n",
       "9              0.0                   0.0          0.0          0.0   \n",
       "\n",
       "   char_freq_[  char_freq_!  char_freq_$  char_freq_#  \n",
       "0          0.0          0.0          0.0          0.0  \n",
       "1          0.0          1.0          0.0          0.0  \n",
       "2          0.0          1.0          1.0          0.0  \n",
       "3          0.0          1.0          0.0          0.0  \n",
       "4          0.0          0.0          0.0          0.0  \n",
       "5          1.0          1.0          1.0          1.0  \n",
       "6          0.0          1.0          1.0          0.0  \n",
       "7          0.0          0.0          0.0          0.0  \n",
       "8          0.0          0.0          1.0          0.0  \n",
       "9          0.0          0.0          0.0          0.0  \n",
       "\n",
       "[10 rows x 54 columns]"
      ]
     },
     "execution_count": 60,
     "metadata": {},
     "output_type": "execute_result"
    }
   ],
   "source": [
    "data_X_freq.head(10)"
   ]
  },
  {
   "cell_type": "code",
   "execution_count": 61,
   "metadata": {},
   "outputs": [
    {
     "data": {
      "text/plain": [
       "word_freq_make          2\n",
       "word_freq_address       2\n",
       "word_freq_all           2\n",
       "word_freq_3d            2\n",
       "word_freq_our           2\n",
       "word_freq_over          2\n",
       "word_freq_remove        2\n",
       "word_freq_internet      2\n",
       "word_freq_order         2\n",
       "word_freq_mail          2\n",
       "word_freq_receive       2\n",
       "word_freq_will          2\n",
       "word_freq_people        2\n",
       "word_freq_report        2\n",
       "word_freq_addresses     2\n",
       "word_freq_free          2\n",
       "word_freq_business      2\n",
       "word_freq_email         2\n",
       "word_freq_you           2\n",
       "word_freq_credit        2\n",
       "word_freq_your          2\n",
       "word_freq_font          2\n",
       "word_freq_000           2\n",
       "word_freq_money         2\n",
       "word_freq_hp            2\n",
       "word_freq_hpl           2\n",
       "word_freq_george        2\n",
       "word_freq_650           2\n",
       "word_freq_lab           2\n",
       "word_freq_labs          2\n",
       "word_freq_telnet        2\n",
       "word_freq_857           2\n",
       "word_freq_data          2\n",
       "word_freq_415           2\n",
       "word_freq_85            2\n",
       "word_freq_technology    2\n",
       "word_freq_1999          2\n",
       "word_freq_parts         2\n",
       "word_freq_pm            2\n",
       "word_freq_direct        2\n",
       "word_freq_cs            2\n",
       "word_freq_meeting       2\n",
       "word_freq_original      2\n",
       "word_freq_project       2\n",
       "word_freq_re            2\n",
       "word_freq_edu           2\n",
       "word_freq_table         2\n",
       "word_freq_conference    2\n",
       "char_freq_;             2\n",
       "char_freq_(             2\n",
       "char_freq_[             2\n",
       "char_freq_!             2\n",
       "char_freq_$             2\n",
       "char_freq_#             2\n",
       "dtype: int64"
      ]
     },
     "execution_count": 61,
     "metadata": {},
     "output_type": "execute_result"
    }
   ],
   "source": [
    "data_X_freq.nunique()"
   ]
  },
  {
   "cell_type": "markdown",
   "metadata": {},
   "source": [
    "Como todos os atributos tem apenas 2 tipos de valores, fica evidente que a transformação deu certo."
   ]
  },
  {
   "cell_type": "markdown",
   "metadata": {},
   "source": [
    "Juntando a coluna de \"ham\":"
   ]
  },
  {
   "cell_type": "code",
   "execution_count": 62,
   "metadata": {},
   "outputs": [],
   "source": [
    "data_freq = data_X_freq.join(data_raw.ham)"
   ]
  },
  {
   "cell_type": "code",
   "execution_count": 63,
   "metadata": {},
   "outputs": [
    {
     "data": {
      "text/html": [
       "<div>\n",
       "<style scoped>\n",
       "    .dataframe tbody tr th:only-of-type {\n",
       "        vertical-align: middle;\n",
       "    }\n",
       "\n",
       "    .dataframe tbody tr th {\n",
       "        vertical-align: top;\n",
       "    }\n",
       "\n",
       "    .dataframe thead th {\n",
       "        text-align: right;\n",
       "    }\n",
       "</style>\n",
       "<table border=\"1\" class=\"dataframe\">\n",
       "  <thead>\n",
       "    <tr style=\"text-align: right;\">\n",
       "      <th></th>\n",
       "      <th>word_freq_make</th>\n",
       "      <th>word_freq_address</th>\n",
       "      <th>word_freq_all</th>\n",
       "      <th>word_freq_3d</th>\n",
       "      <th>word_freq_our</th>\n",
       "      <th>word_freq_over</th>\n",
       "      <th>word_freq_remove</th>\n",
       "      <th>word_freq_internet</th>\n",
       "      <th>word_freq_order</th>\n",
       "      <th>word_freq_mail</th>\n",
       "      <th>...</th>\n",
       "      <th>word_freq_edu</th>\n",
       "      <th>word_freq_table</th>\n",
       "      <th>word_freq_conference</th>\n",
       "      <th>char_freq_;</th>\n",
       "      <th>char_freq_(</th>\n",
       "      <th>char_freq_[</th>\n",
       "      <th>char_freq_!</th>\n",
       "      <th>char_freq_$</th>\n",
       "      <th>char_freq_#</th>\n",
       "      <th>ham</th>\n",
       "    </tr>\n",
       "  </thead>\n",
       "  <tbody>\n",
       "    <tr>\n",
       "      <th>0</th>\n",
       "      <td>0.0</td>\n",
       "      <td>1.0</td>\n",
       "      <td>0.0</td>\n",
       "      <td>0.0</td>\n",
       "      <td>0.0</td>\n",
       "      <td>0.0</td>\n",
       "      <td>0.0</td>\n",
       "      <td>0.0</td>\n",
       "      <td>0.0</td>\n",
       "      <td>0.0</td>\n",
       "      <td>...</td>\n",
       "      <td>0.0</td>\n",
       "      <td>0.0</td>\n",
       "      <td>0.0</td>\n",
       "      <td>0.0</td>\n",
       "      <td>0.0</td>\n",
       "      <td>0.0</td>\n",
       "      <td>0.0</td>\n",
       "      <td>0.0</td>\n",
       "      <td>0.0</td>\n",
       "      <td>True</td>\n",
       "    </tr>\n",
       "    <tr>\n",
       "      <th>1</th>\n",
       "      <td>0.0</td>\n",
       "      <td>0.0</td>\n",
       "      <td>1.0</td>\n",
       "      <td>0.0</td>\n",
       "      <td>1.0</td>\n",
       "      <td>0.0</td>\n",
       "      <td>0.0</td>\n",
       "      <td>0.0</td>\n",
       "      <td>0.0</td>\n",
       "      <td>1.0</td>\n",
       "      <td>...</td>\n",
       "      <td>0.0</td>\n",
       "      <td>0.0</td>\n",
       "      <td>0.0</td>\n",
       "      <td>0.0</td>\n",
       "      <td>1.0</td>\n",
       "      <td>0.0</td>\n",
       "      <td>1.0</td>\n",
       "      <td>0.0</td>\n",
       "      <td>0.0</td>\n",
       "      <td>False</td>\n",
       "    </tr>\n",
       "    <tr>\n",
       "      <th>2</th>\n",
       "      <td>0.0</td>\n",
       "      <td>0.0</td>\n",
       "      <td>0.0</td>\n",
       "      <td>0.0</td>\n",
       "      <td>0.0</td>\n",
       "      <td>0.0</td>\n",
       "      <td>0.0</td>\n",
       "      <td>1.0</td>\n",
       "      <td>0.0</td>\n",
       "      <td>1.0</td>\n",
       "      <td>...</td>\n",
       "      <td>0.0</td>\n",
       "      <td>0.0</td>\n",
       "      <td>0.0</td>\n",
       "      <td>0.0</td>\n",
       "      <td>1.0</td>\n",
       "      <td>0.0</td>\n",
       "      <td>1.0</td>\n",
       "      <td>1.0</td>\n",
       "      <td>0.0</td>\n",
       "      <td>False</td>\n",
       "    </tr>\n",
       "    <tr>\n",
       "      <th>3</th>\n",
       "      <td>0.0</td>\n",
       "      <td>0.0</td>\n",
       "      <td>0.0</td>\n",
       "      <td>0.0</td>\n",
       "      <td>0.0</td>\n",
       "      <td>0.0</td>\n",
       "      <td>0.0</td>\n",
       "      <td>0.0</td>\n",
       "      <td>0.0</td>\n",
       "      <td>0.0</td>\n",
       "      <td>...</td>\n",
       "      <td>0.0</td>\n",
       "      <td>0.0</td>\n",
       "      <td>0.0</td>\n",
       "      <td>0.0</td>\n",
       "      <td>0.0</td>\n",
       "      <td>0.0</td>\n",
       "      <td>1.0</td>\n",
       "      <td>0.0</td>\n",
       "      <td>0.0</td>\n",
       "      <td>True</td>\n",
       "    </tr>\n",
       "    <tr>\n",
       "      <th>4</th>\n",
       "      <td>0.0</td>\n",
       "      <td>0.0</td>\n",
       "      <td>0.0</td>\n",
       "      <td>0.0</td>\n",
       "      <td>1.0</td>\n",
       "      <td>0.0</td>\n",
       "      <td>0.0</td>\n",
       "      <td>0.0</td>\n",
       "      <td>0.0</td>\n",
       "      <td>1.0</td>\n",
       "      <td>...</td>\n",
       "      <td>0.0</td>\n",
       "      <td>0.0</td>\n",
       "      <td>0.0</td>\n",
       "      <td>0.0</td>\n",
       "      <td>0.0</td>\n",
       "      <td>0.0</td>\n",
       "      <td>0.0</td>\n",
       "      <td>0.0</td>\n",
       "      <td>0.0</td>\n",
       "      <td>True</td>\n",
       "    </tr>\n",
       "    <tr>\n",
       "      <th>5</th>\n",
       "      <td>0.0</td>\n",
       "      <td>0.0</td>\n",
       "      <td>0.0</td>\n",
       "      <td>0.0</td>\n",
       "      <td>0.0</td>\n",
       "      <td>0.0</td>\n",
       "      <td>0.0</td>\n",
       "      <td>0.0</td>\n",
       "      <td>0.0</td>\n",
       "      <td>0.0</td>\n",
       "      <td>...</td>\n",
       "      <td>0.0</td>\n",
       "      <td>0.0</td>\n",
       "      <td>0.0</td>\n",
       "      <td>1.0</td>\n",
       "      <td>1.0</td>\n",
       "      <td>1.0</td>\n",
       "      <td>1.0</td>\n",
       "      <td>1.0</td>\n",
       "      <td>1.0</td>\n",
       "      <td>True</td>\n",
       "    </tr>\n",
       "    <tr>\n",
       "      <th>6</th>\n",
       "      <td>0.0</td>\n",
       "      <td>0.0</td>\n",
       "      <td>1.0</td>\n",
       "      <td>0.0</td>\n",
       "      <td>0.0</td>\n",
       "      <td>0.0</td>\n",
       "      <td>1.0</td>\n",
       "      <td>0.0</td>\n",
       "      <td>0.0</td>\n",
       "      <td>0.0</td>\n",
       "      <td>...</td>\n",
       "      <td>0.0</td>\n",
       "      <td>1.0</td>\n",
       "      <td>0.0</td>\n",
       "      <td>0.0</td>\n",
       "      <td>1.0</td>\n",
       "      <td>0.0</td>\n",
       "      <td>1.0</td>\n",
       "      <td>1.0</td>\n",
       "      <td>0.0</td>\n",
       "      <td>False</td>\n",
       "    </tr>\n",
       "    <tr>\n",
       "      <th>7</th>\n",
       "      <td>0.0</td>\n",
       "      <td>1.0</td>\n",
       "      <td>0.0</td>\n",
       "      <td>0.0</td>\n",
       "      <td>0.0</td>\n",
       "      <td>0.0</td>\n",
       "      <td>0.0</td>\n",
       "      <td>0.0</td>\n",
       "      <td>0.0</td>\n",
       "      <td>1.0</td>\n",
       "      <td>...</td>\n",
       "      <td>0.0</td>\n",
       "      <td>0.0</td>\n",
       "      <td>0.0</td>\n",
       "      <td>0.0</td>\n",
       "      <td>0.0</td>\n",
       "      <td>0.0</td>\n",
       "      <td>0.0</td>\n",
       "      <td>0.0</td>\n",
       "      <td>0.0</td>\n",
       "      <td>True</td>\n",
       "    </tr>\n",
       "    <tr>\n",
       "      <th>8</th>\n",
       "      <td>1.0</td>\n",
       "      <td>0.0</td>\n",
       "      <td>1.0</td>\n",
       "      <td>0.0</td>\n",
       "      <td>0.0</td>\n",
       "      <td>1.0</td>\n",
       "      <td>0.0</td>\n",
       "      <td>0.0</td>\n",
       "      <td>0.0</td>\n",
       "      <td>1.0</td>\n",
       "      <td>...</td>\n",
       "      <td>1.0</td>\n",
       "      <td>0.0</td>\n",
       "      <td>0.0</td>\n",
       "      <td>1.0</td>\n",
       "      <td>1.0</td>\n",
       "      <td>0.0</td>\n",
       "      <td>0.0</td>\n",
       "      <td>1.0</td>\n",
       "      <td>0.0</td>\n",
       "      <td>True</td>\n",
       "    </tr>\n",
       "    <tr>\n",
       "      <th>9</th>\n",
       "      <td>0.0</td>\n",
       "      <td>0.0</td>\n",
       "      <td>1.0</td>\n",
       "      <td>0.0</td>\n",
       "      <td>0.0</td>\n",
       "      <td>1.0</td>\n",
       "      <td>0.0</td>\n",
       "      <td>0.0</td>\n",
       "      <td>0.0</td>\n",
       "      <td>0.0</td>\n",
       "      <td>...</td>\n",
       "      <td>0.0</td>\n",
       "      <td>0.0</td>\n",
       "      <td>0.0</td>\n",
       "      <td>0.0</td>\n",
       "      <td>0.0</td>\n",
       "      <td>0.0</td>\n",
       "      <td>0.0</td>\n",
       "      <td>0.0</td>\n",
       "      <td>0.0</td>\n",
       "      <td>True</td>\n",
       "    </tr>\n",
       "  </tbody>\n",
       "</table>\n",
       "<p>10 rows × 55 columns</p>\n",
       "</div>"
      ],
      "text/plain": [
       "   word_freq_make  word_freq_address  word_freq_all  word_freq_3d  \\\n",
       "0             0.0                1.0            0.0           0.0   \n",
       "1             0.0                0.0            1.0           0.0   \n",
       "2             0.0                0.0            0.0           0.0   \n",
       "3             0.0                0.0            0.0           0.0   \n",
       "4             0.0                0.0            0.0           0.0   \n",
       "5             0.0                0.0            0.0           0.0   \n",
       "6             0.0                0.0            1.0           0.0   \n",
       "7             0.0                1.0            0.0           0.0   \n",
       "8             1.0                0.0            1.0           0.0   \n",
       "9             0.0                0.0            1.0           0.0   \n",
       "\n",
       "   word_freq_our  word_freq_over  word_freq_remove  word_freq_internet  \\\n",
       "0            0.0             0.0               0.0                 0.0   \n",
       "1            1.0             0.0               0.0                 0.0   \n",
       "2            0.0             0.0               0.0                 1.0   \n",
       "3            0.0             0.0               0.0                 0.0   \n",
       "4            1.0             0.0               0.0                 0.0   \n",
       "5            0.0             0.0               0.0                 0.0   \n",
       "6            0.0             0.0               1.0                 0.0   \n",
       "7            0.0             0.0               0.0                 0.0   \n",
       "8            0.0             1.0               0.0                 0.0   \n",
       "9            0.0             1.0               0.0                 0.0   \n",
       "\n",
       "   word_freq_order  word_freq_mail  ...    word_freq_edu  word_freq_table  \\\n",
       "0              0.0             0.0  ...              0.0              0.0   \n",
       "1              0.0             1.0  ...              0.0              0.0   \n",
       "2              0.0             1.0  ...              0.0              0.0   \n",
       "3              0.0             0.0  ...              0.0              0.0   \n",
       "4              0.0             1.0  ...              0.0              0.0   \n",
       "5              0.0             0.0  ...              0.0              0.0   \n",
       "6              0.0             0.0  ...              0.0              1.0   \n",
       "7              0.0             1.0  ...              0.0              0.0   \n",
       "8              0.0             1.0  ...              1.0              0.0   \n",
       "9              0.0             0.0  ...              0.0              0.0   \n",
       "\n",
       "   word_freq_conference  char_freq_;  char_freq_(  char_freq_[  char_freq_!  \\\n",
       "0                   0.0          0.0          0.0          0.0          0.0   \n",
       "1                   0.0          0.0          1.0          0.0          1.0   \n",
       "2                   0.0          0.0          1.0          0.0          1.0   \n",
       "3                   0.0          0.0          0.0          0.0          1.0   \n",
       "4                   0.0          0.0          0.0          0.0          0.0   \n",
       "5                   0.0          1.0          1.0          1.0          1.0   \n",
       "6                   0.0          0.0          1.0          0.0          1.0   \n",
       "7                   0.0          0.0          0.0          0.0          0.0   \n",
       "8                   0.0          1.0          1.0          0.0          0.0   \n",
       "9                   0.0          0.0          0.0          0.0          0.0   \n",
       "\n",
       "   char_freq_$  char_freq_#    ham  \n",
       "0          0.0          0.0   True  \n",
       "1          0.0          0.0  False  \n",
       "2          1.0          0.0  False  \n",
       "3          0.0          0.0   True  \n",
       "4          0.0          0.0   True  \n",
       "5          1.0          1.0   True  \n",
       "6          1.0          0.0  False  \n",
       "7          0.0          0.0   True  \n",
       "8          1.0          0.0   True  \n",
       "9          0.0          0.0   True  \n",
       "\n",
       "[10 rows x 55 columns]"
      ]
     },
     "execution_count": 63,
     "metadata": {},
     "output_type": "execute_result"
    }
   ],
   "source": [
    "data_freq.head(10)"
   ]
  },
  {
   "cell_type": "code",
   "execution_count": 146,
   "metadata": {},
   "outputs": [
    {
     "data": {
      "text/plain": [
       "<matplotlib.axes._subplots.AxesSubplot at 0x23fd9f93f60>"
      ]
     },
     "execution_count": 146,
     "metadata": {},
     "output_type": "execute_result"
    },
    {
     "data": {
      "image/png": "[encoded data removed]",
      "text/plain": [
       "<Figure size 432x288 with 1 Axes>"
      ]
     },
     "metadata": {},
     "output_type": "display_data"
    }
   ],
   "source": [
    "data_freq[data_freq.word_freq_free == 0].ham.value_counts().plot(kind=\"bar\", color=[\"green\", \"orange\"])"
   ]
  },
  {
   "cell_type": "code",
   "execution_count": 145,
   "metadata": {},
   "outputs": [
    {
     "data": {
      "text/plain": [
       "<matplotlib.axes._subplots.AxesSubplot at 0x23fda0084e0>"
      ]
     },
     "execution_count": 145,
     "metadata": {},
     "output_type": "execute_result"
    },
    {
     "data": {
      "image/png": "[encoded data removed]",
      "text/plain": [
       "<Figure size 432x288 with 1 Axes>"
      ]
     },
     "metadata": {},
     "output_type": "display_data"
    }
   ],
   "source": [
    "data_freq[data_freq.word_freq_free == 1].ham.value_counts().plot(kind=\"bar\", color=[\"orange\", \"green\"])"
   ]
  },
  {
   "cell_type": "markdown",
   "metadata": {},
   "source": [
    "### 3.2.2. Manipulação dos atributos relativos à quantidade de letras maiúsculas"
   ]
  },
  {
   "cell_type": "markdown",
   "metadata": {},
   "source": [
    "Esse tipo de dado é bem diferente dos anteriores. São valores cuja classificação binária deve ser melhor pensada:"
   ]
  },
  {
   "cell_type": "code",
   "execution_count": 66,
   "metadata": {},
   "outputs": [],
   "source": [
    "data_X_cap_raw = data_raw.drop([\"Id\", \"ham\"], axis=1)"
   ]
  },
  {
   "cell_type": "code",
   "execution_count": 67,
   "metadata": {},
   "outputs": [],
   "source": [
    "data_X_cap = data_X_cap_raw[[\"capital_run_length_average\", \"capital_run_length_longest\", \"capital_run_length_total\"]]"
   ]
  },
  {
   "cell_type": "code",
   "execution_count": 68,
   "metadata": {},
   "outputs": [
    {
     "data": {
      "text/html": [
       "<div>\n",
       "<style scoped>\n",
       "    .dataframe tbody tr th:only-of-type {\n",
       "        vertical-align: middle;\n",
       "    }\n",
       "\n",
       "    .dataframe tbody tr th {\n",
       "        vertical-align: top;\n",
       "    }\n",
       "\n",
       "    .dataframe thead th {\n",
       "        text-align: right;\n",
       "    }\n",
       "</style>\n",
       "<table border=\"1\" class=\"dataframe\">\n",
       "  <thead>\n",
       "    <tr style=\"text-align: right;\">\n",
       "      <th></th>\n",
       "      <th>capital_run_length_average</th>\n",
       "      <th>capital_run_length_longest</th>\n",
       "      <th>capital_run_length_total</th>\n",
       "    </tr>\n",
       "  </thead>\n",
       "  <tbody>\n",
       "    <tr>\n",
       "      <th>0</th>\n",
       "      <td>1.800</td>\n",
       "      <td>5</td>\n",
       "      <td>9</td>\n",
       "    </tr>\n",
       "    <tr>\n",
       "      <th>1</th>\n",
       "      <td>2.000</td>\n",
       "      <td>19</td>\n",
       "      <td>172</td>\n",
       "    </tr>\n",
       "    <tr>\n",
       "      <th>2</th>\n",
       "      <td>1.477</td>\n",
       "      <td>8</td>\n",
       "      <td>65</td>\n",
       "    </tr>\n",
       "    <tr>\n",
       "      <th>3</th>\n",
       "      <td>2.800</td>\n",
       "      <td>7</td>\n",
       "      <td>28</td>\n",
       "    </tr>\n",
       "    <tr>\n",
       "      <th>4</th>\n",
       "      <td>1.551</td>\n",
       "      <td>10</td>\n",
       "      <td>45</td>\n",
       "    </tr>\n",
       "    <tr>\n",
       "      <th>5</th>\n",
       "      <td>3.482</td>\n",
       "      <td>5</td>\n",
       "      <td>5902</td>\n",
       "    </tr>\n",
       "    <tr>\n",
       "      <th>6</th>\n",
       "      <td>2.166</td>\n",
       "      <td>18</td>\n",
       "      <td>143</td>\n",
       "    </tr>\n",
       "    <tr>\n",
       "      <th>7</th>\n",
       "      <td>2.769</td>\n",
       "      <td>21</td>\n",
       "      <td>36</td>\n",
       "    </tr>\n",
       "    <tr>\n",
       "      <th>8</th>\n",
       "      <td>1.722</td>\n",
       "      <td>17</td>\n",
       "      <td>267</td>\n",
       "    </tr>\n",
       "    <tr>\n",
       "      <th>9</th>\n",
       "      <td>1.142</td>\n",
       "      <td>4</td>\n",
       "      <td>56</td>\n",
       "    </tr>\n",
       "  </tbody>\n",
       "</table>\n",
       "</div>"
      ],
      "text/plain": [
       "   capital_run_length_average  capital_run_length_longest  \\\n",
       "0                       1.800                           5   \n",
       "1                       2.000                          19   \n",
       "2                       1.477                           8   \n",
       "3                       2.800                           7   \n",
       "4                       1.551                          10   \n",
       "5                       3.482                           5   \n",
       "6                       2.166                          18   \n",
       "7                       2.769                          21   \n",
       "8                       1.722                          17   \n",
       "9                       1.142                           4   \n",
       "\n",
       "   capital_run_length_total  \n",
       "0                         9  \n",
       "1                       172  \n",
       "2                        65  \n",
       "3                        28  \n",
       "4                        45  \n",
       "5                      5902  \n",
       "6                       143  \n",
       "7                        36  \n",
       "8                       267  \n",
       "9                        56  "
      ]
     },
     "execution_count": 68,
     "metadata": {},
     "output_type": "execute_result"
    }
   ],
   "source": [
    "data_X_cap.head(10)"
   ]
  },
  {
   "cell_type": "markdown",
   "metadata": {},
   "source": [
    "Juntando a coluna de \"ham\":"
   ]
  },
  {
   "cell_type": "code",
   "execution_count": 69,
   "metadata": {},
   "outputs": [],
   "source": [
    "data_cap = data_X_cap.join(data_raw.ham)"
   ]
  },
  {
   "cell_type": "code",
   "execution_count": 70,
   "metadata": {
    "scrolled": true
   },
   "outputs": [
    {
     "data": {
      "text/html": [
       "<div>\n",
       "<style scoped>\n",
       "    .dataframe tbody tr th:only-of-type {\n",
       "        vertical-align: middle;\n",
       "    }\n",
       "\n",
       "    .dataframe tbody tr th {\n",
       "        vertical-align: top;\n",
       "    }\n",
       "\n",
       "    .dataframe thead th {\n",
       "        text-align: right;\n",
       "    }\n",
       "</style>\n",
       "<table border=\"1\" class=\"dataframe\">\n",
       "  <thead>\n",
       "    <tr style=\"text-align: right;\">\n",
       "      <th></th>\n",
       "      <th>capital_run_length_average</th>\n",
       "      <th>capital_run_length_longest</th>\n",
       "      <th>capital_run_length_total</th>\n",
       "      <th>ham</th>\n",
       "    </tr>\n",
       "  </thead>\n",
       "  <tbody>\n",
       "    <tr>\n",
       "      <th>0</th>\n",
       "      <td>1.800</td>\n",
       "      <td>5</td>\n",
       "      <td>9</td>\n",
       "      <td>True</td>\n",
       "    </tr>\n",
       "    <tr>\n",
       "      <th>1</th>\n",
       "      <td>2.000</td>\n",
       "      <td>19</td>\n",
       "      <td>172</td>\n",
       "      <td>False</td>\n",
       "    </tr>\n",
       "    <tr>\n",
       "      <th>2</th>\n",
       "      <td>1.477</td>\n",
       "      <td>8</td>\n",
       "      <td>65</td>\n",
       "      <td>False</td>\n",
       "    </tr>\n",
       "    <tr>\n",
       "      <th>3</th>\n",
       "      <td>2.800</td>\n",
       "      <td>7</td>\n",
       "      <td>28</td>\n",
       "      <td>True</td>\n",
       "    </tr>\n",
       "    <tr>\n",
       "      <th>4</th>\n",
       "      <td>1.551</td>\n",
       "      <td>10</td>\n",
       "      <td>45</td>\n",
       "      <td>True</td>\n",
       "    </tr>\n",
       "  </tbody>\n",
       "</table>\n",
       "</div>"
      ],
      "text/plain": [
       "   capital_run_length_average  capital_run_length_longest  \\\n",
       "0                       1.800                           5   \n",
       "1                       2.000                          19   \n",
       "2                       1.477                           8   \n",
       "3                       2.800                           7   \n",
       "4                       1.551                          10   \n",
       "\n",
       "   capital_run_length_total    ham  \n",
       "0                         9   True  \n",
       "1                       172  False  \n",
       "2                        65  False  \n",
       "3                        28   True  \n",
       "4                        45   True  "
      ]
     },
     "execution_count": 70,
     "metadata": {},
     "output_type": "execute_result"
    }
   ],
   "source": [
    "data_cap.head()"
   ]
  },
  {
   "cell_type": "markdown",
   "metadata": {},
   "source": [
    "#### 3.2.2.1. Average"
   ]
  },
  {
   "cell_type": "markdown",
   "metadata": {},
   "source": [
    "Começaremos pelo average, tentando definir um limiar de binarização:"
   ]
  },
  {
   "cell_type": "code",
   "execution_count": 71,
   "metadata": {},
   "outputs": [
    {
     "data": {
      "text/plain": [
       "<matplotlib.axes._subplots.AxesSubplot at 0x23fd3acd438>"
      ]
     },
     "execution_count": 71,
     "metadata": {},
     "output_type": "execute_result"
    },
    {
     "data": {
      "image/png": "[encoded data removed]",
      "text/plain": [
       "<Figure size 432x288 with 1 Axes>"
      ]
     },
     "metadata": {},
     "output_type": "display_data"
    }
   ],
   "source": [
    "spam.capital_run_length_average.plot.hist(range=[0,25])"
   ]
  },
  {
   "cell_type": "code",
   "execution_count": 72,
   "metadata": {
    "scrolled": true
   },
   "outputs": [
    {
     "data": {
      "text/plain": [
       "<matplotlib.axes._subplots.AxesSubplot at 0x23fd3a1f588>"
      ]
     },
     "execution_count": 72,
     "metadata": {},
     "output_type": "execute_result"
    },
    {
     "data": {
      "image/png": "[encoded data removed]",
      "text/plain": [
       "<Figure size 432x288 with 1 Axes>"
      ]
     },
     "metadata": {},
     "output_type": "display_data"
    }
   ],
   "source": [
    "ham.capital_run_length_average.plot.hist(range=[0,25])"
   ]
  },
  {
   "cell_type": "markdown",
   "metadata": {},
   "source": [
    "Observa-se que, para emails spam, o valor de capital_run_length_average costuma ser maior."
   ]
  },
  {
   "cell_type": "markdown",
   "metadata": {},
   "source": [
    "Do ponto 1.3.3.1, temos que os valores médios para spam e ham são, respectivamente:\n",
    "\n",
    "Média: 10,04   e 2,40 \n",
    "\n",
    "STD:   53,49   e 5,55\n",
    "\n",
    "Máx.:  1102,50 e 251,00\n",
    "\n",
    "Mín.:  1,00    e 1,00"
   ]
  },
  {
   "cell_type": "markdown",
   "metadata": {},
   "source": [
    "O que faremos é utilizar o seguinte critério, considerando 7,95 = 2,4 + 5,55 (média + 1 desvio-padrão): \n",
    "\n",
    "Acima de 7,95: 1\n",
    "\n",
    "Abaixo de 7,95: 0"
   ]
  },
  {
   "cell_type": "code",
   "execution_count": 73,
   "metadata": {},
   "outputs": [
    {
     "name": "stderr",
     "output_type": "stream",
     "text": [
      "C:\\Users\\Rodrigo Magaldi\\Anaconda3\\lib\\site-packages\\ipykernel_launcher.py:5: FutureWarning: set_value is deprecated and will be removed in a future release. Please use .at[] or .iat[] accessors instead\n",
      "  \"\"\"\n",
      "C:\\Users\\Rodrigo Magaldi\\Anaconda3\\lib\\site-packages\\ipykernel_launcher.py:3: FutureWarning: set_value is deprecated and will be removed in a future release. Please use .at[] or .iat[] accessors instead\n",
      "  This is separate from the ipykernel package so we can avoid doing imports until\n"
     ]
    }
   ],
   "source": [
    "for index, row in data_cap.iterrows():\n",
    "    if row.capital_run_length_average > 7.95:\n",
    "        data_cap.set_value(index, \"capital_run_length_average\", 1)\n",
    "    else:\n",
    "        data_cap.set_value(index, \"capital_run_length_average\", 0)"
   ]
  },
  {
   "cell_type": "code",
   "execution_count": 74,
   "metadata": {
    "scrolled": true
   },
   "outputs": [
    {
     "data": {
      "text/html": [
       "<div>\n",
       "<style scoped>\n",
       "    .dataframe tbody tr th:only-of-type {\n",
       "        vertical-align: middle;\n",
       "    }\n",
       "\n",
       "    .dataframe tbody tr th {\n",
       "        vertical-align: top;\n",
       "    }\n",
       "\n",
       "    .dataframe thead th {\n",
       "        text-align: right;\n",
       "    }\n",
       "</style>\n",
       "<table border=\"1\" class=\"dataframe\">\n",
       "  <thead>\n",
       "    <tr style=\"text-align: right;\">\n",
       "      <th></th>\n",
       "      <th>capital_run_length_average</th>\n",
       "      <th>capital_run_length_longest</th>\n",
       "      <th>capital_run_length_total</th>\n",
       "      <th>ham</th>\n",
       "    </tr>\n",
       "  </thead>\n",
       "  <tbody>\n",
       "    <tr>\n",
       "      <th>1588</th>\n",
       "      <td>0.0</td>\n",
       "      <td>11</td>\n",
       "      <td>43</td>\n",
       "      <td>False</td>\n",
       "    </tr>\n",
       "    <tr>\n",
       "      <th>2492</th>\n",
       "      <td>0.0</td>\n",
       "      <td>11</td>\n",
       "      <td>89</td>\n",
       "      <td>True</td>\n",
       "    </tr>\n",
       "    <tr>\n",
       "      <th>522</th>\n",
       "      <td>0.0</td>\n",
       "      <td>26</td>\n",
       "      <td>693</td>\n",
       "      <td>True</td>\n",
       "    </tr>\n",
       "    <tr>\n",
       "      <th>655</th>\n",
       "      <td>0.0</td>\n",
       "      <td>17</td>\n",
       "      <td>87</td>\n",
       "      <td>True</td>\n",
       "    </tr>\n",
       "    <tr>\n",
       "      <th>263</th>\n",
       "      <td>0.0</td>\n",
       "      <td>16</td>\n",
       "      <td>61</td>\n",
       "      <td>False</td>\n",
       "    </tr>\n",
       "    <tr>\n",
       "      <th>2550</th>\n",
       "      <td>0.0</td>\n",
       "      <td>3</td>\n",
       "      <td>88</td>\n",
       "      <td>True</td>\n",
       "    </tr>\n",
       "    <tr>\n",
       "      <th>125</th>\n",
       "      <td>0.0</td>\n",
       "      <td>1</td>\n",
       "      <td>4</td>\n",
       "      <td>True</td>\n",
       "    </tr>\n",
       "    <tr>\n",
       "      <th>7</th>\n",
       "      <td>0.0</td>\n",
       "      <td>21</td>\n",
       "      <td>36</td>\n",
       "      <td>True</td>\n",
       "    </tr>\n",
       "    <tr>\n",
       "      <th>3577</th>\n",
       "      <td>1.0</td>\n",
       "      <td>154</td>\n",
       "      <td>9088</td>\n",
       "      <td>False</td>\n",
       "    </tr>\n",
       "    <tr>\n",
       "      <th>548</th>\n",
       "      <td>0.0</td>\n",
       "      <td>12</td>\n",
       "      <td>206</td>\n",
       "      <td>True</td>\n",
       "    </tr>\n",
       "  </tbody>\n",
       "</table>\n",
       "</div>"
      ],
      "text/plain": [
       "      capital_run_length_average  capital_run_length_longest  \\\n",
       "1588                         0.0                          11   \n",
       "2492                         0.0                          11   \n",
       "522                          0.0                          26   \n",
       "655                          0.0                          17   \n",
       "263                          0.0                          16   \n",
       "2550                         0.0                           3   \n",
       "125                          0.0                           1   \n",
       "7                            0.0                          21   \n",
       "3577                         1.0                         154   \n",
       "548                          0.0                          12   \n",
       "\n",
       "      capital_run_length_total    ham  \n",
       "1588                        43  False  \n",
       "2492                        89   True  \n",
       "522                        693   True  \n",
       "655                         87   True  \n",
       "263                         61  False  \n",
       "2550                        88   True  \n",
       "125                          4   True  \n",
       "7                           36   True  \n",
       "3577                      9088  False  \n",
       "548                        206   True  "
      ]
     },
     "execution_count": 74,
     "metadata": {},
     "output_type": "execute_result"
    }
   ],
   "source": [
    "data_cap.sample(10)"
   ]
  },
  {
   "cell_type": "code",
   "execution_count": 75,
   "metadata": {},
   "outputs": [
    {
     "data": {
      "text/plain": [
       "array([0., 1.])"
      ]
     },
     "execution_count": 75,
     "metadata": {},
     "output_type": "execute_result"
    }
   ],
   "source": [
    "data_cap.capital_run_length_average.unique()"
   ]
  },
  {
   "cell_type": "markdown",
   "metadata": {},
   "source": [
    "#### 3.2.2.2. Maior"
   ]
  },
  {
   "cell_type": "markdown",
   "metadata": {},
   "source": [
    "Do ponto 1.3.3.2, temos que os valores médios para spam e ham são, respectivamente:\n",
    "\n",
    "Média: 107,27  e 18,27 \n",
    "\n",
    "STD:  326.24   e 41.65\n",
    "\n",
    "Máx.:  9989,00 e 1488,00\n",
    "\n",
    "Mín.:  1,00    e 1,00"
   ]
  },
  {
   "cell_type": "markdown",
   "metadata": {},
   "source": [
    "O que faremos é utilizar o seguinte critério, considerando 59,92 = 18,27 + 41,65 (média + 1 desvio-padrão): \n",
    "\n",
    "Acima de 59,92: 1\n",
    "\n",
    "Abaixo de 59,92: 0"
   ]
  },
  {
   "cell_type": "code",
   "execution_count": 76,
   "metadata": {},
   "outputs": [
    {
     "name": "stderr",
     "output_type": "stream",
     "text": [
      "C:\\Users\\Rodrigo Magaldi\\Anaconda3\\lib\\site-packages\\ipykernel_launcher.py:5: FutureWarning: set_value is deprecated and will be removed in a future release. Please use .at[] or .iat[] accessors instead\n",
      "  \"\"\"\n",
      "C:\\Users\\Rodrigo Magaldi\\Anaconda3\\lib\\site-packages\\ipykernel_launcher.py:3: FutureWarning: set_value is deprecated and will be removed in a future release. Please use .at[] or .iat[] accessors instead\n",
      "  This is separate from the ipykernel package so we can avoid doing imports until\n"
     ]
    }
   ],
   "source": [
    "for index, row in data_cap.iterrows():\n",
    "    if row.capital_run_length_longest > 59.92:\n",
    "        data_cap.set_value(index, \"capital_run_length_longest\", 1)\n",
    "    else:\n",
    "        data_cap.set_value(index, \"capital_run_length_longest\", 0)"
   ]
  },
  {
   "cell_type": "code",
   "execution_count": 77,
   "metadata": {
    "scrolled": true
   },
   "outputs": [
    {
     "data": {
      "text/html": [
       "<div>\n",
       "<style scoped>\n",
       "    .dataframe tbody tr th:only-of-type {\n",
       "        vertical-align: middle;\n",
       "    }\n",
       "\n",
       "    .dataframe tbody tr th {\n",
       "        vertical-align: top;\n",
       "    }\n",
       "\n",
       "    .dataframe thead th {\n",
       "        text-align: right;\n",
       "    }\n",
       "</style>\n",
       "<table border=\"1\" class=\"dataframe\">\n",
       "  <thead>\n",
       "    <tr style=\"text-align: right;\">\n",
       "      <th></th>\n",
       "      <th>capital_run_length_average</th>\n",
       "      <th>capital_run_length_longest</th>\n",
       "      <th>capital_run_length_total</th>\n",
       "      <th>ham</th>\n",
       "    </tr>\n",
       "  </thead>\n",
       "  <tbody>\n",
       "    <tr>\n",
       "      <th>3391</th>\n",
       "      <td>0.0</td>\n",
       "      <td>0</td>\n",
       "      <td>7</td>\n",
       "      <td>True</td>\n",
       "    </tr>\n",
       "    <tr>\n",
       "      <th>121</th>\n",
       "      <td>0.0</td>\n",
       "      <td>0</td>\n",
       "      <td>91</td>\n",
       "      <td>True</td>\n",
       "    </tr>\n",
       "    <tr>\n",
       "      <th>1861</th>\n",
       "      <td>0.0</td>\n",
       "      <td>0</td>\n",
       "      <td>237</td>\n",
       "      <td>True</td>\n",
       "    </tr>\n",
       "    <tr>\n",
       "      <th>1899</th>\n",
       "      <td>0.0</td>\n",
       "      <td>0</td>\n",
       "      <td>109</td>\n",
       "      <td>False</td>\n",
       "    </tr>\n",
       "    <tr>\n",
       "      <th>1429</th>\n",
       "      <td>0.0</td>\n",
       "      <td>0</td>\n",
       "      <td>8</td>\n",
       "      <td>True</td>\n",
       "    </tr>\n",
       "    <tr>\n",
       "      <th>1834</th>\n",
       "      <td>0.0</td>\n",
       "      <td>0</td>\n",
       "      <td>264</td>\n",
       "      <td>False</td>\n",
       "    </tr>\n",
       "    <tr>\n",
       "      <th>668</th>\n",
       "      <td>0.0</td>\n",
       "      <td>0</td>\n",
       "      <td>771</td>\n",
       "      <td>False</td>\n",
       "    </tr>\n",
       "    <tr>\n",
       "      <th>878</th>\n",
       "      <td>0.0</td>\n",
       "      <td>0</td>\n",
       "      <td>144</td>\n",
       "      <td>False</td>\n",
       "    </tr>\n",
       "    <tr>\n",
       "      <th>2781</th>\n",
       "      <td>0.0</td>\n",
       "      <td>0</td>\n",
       "      <td>156</td>\n",
       "      <td>True</td>\n",
       "    </tr>\n",
       "    <tr>\n",
       "      <th>161</th>\n",
       "      <td>0.0</td>\n",
       "      <td>0</td>\n",
       "      <td>45</td>\n",
       "      <td>True</td>\n",
       "    </tr>\n",
       "  </tbody>\n",
       "</table>\n",
       "</div>"
      ],
      "text/plain": [
       "      capital_run_length_average  capital_run_length_longest  \\\n",
       "3391                         0.0                           0   \n",
       "121                          0.0                           0   \n",
       "1861                         0.0                           0   \n",
       "1899                         0.0                           0   \n",
       "1429                         0.0                           0   \n",
       "1834                         0.0                           0   \n",
       "668                          0.0                           0   \n",
       "878                          0.0                           0   \n",
       "2781                         0.0                           0   \n",
       "161                          0.0                           0   \n",
       "\n",
       "      capital_run_length_total    ham  \n",
       "3391                         7   True  \n",
       "121                         91   True  \n",
       "1861                       237   True  \n",
       "1899                       109  False  \n",
       "1429                         8   True  \n",
       "1834                       264  False  \n",
       "668                        771  False  \n",
       "878                        144  False  \n",
       "2781                       156   True  \n",
       "161                         45   True  "
      ]
     },
     "execution_count": 77,
     "metadata": {},
     "output_type": "execute_result"
    }
   ],
   "source": [
    "data_cap.sample(10)"
   ]
  },
  {
   "cell_type": "code",
   "execution_count": 78,
   "metadata": {},
   "outputs": [
    {
     "data": {
      "text/plain": [
       "0    3043\n",
       "1     637\n",
       "Name: capital_run_length_longest, dtype: int64"
      ]
     },
     "execution_count": 78,
     "metadata": {},
     "output_type": "execute_result"
    }
   ],
   "source": [
    "data_cap.capital_run_length_longest.value_counts()"
   ]
  },
  {
   "cell_type": "markdown",
   "metadata": {},
   "source": [
    "#### 3.2.2.3. Total"
   ]
  },
  {
   "cell_type": "markdown",
   "metadata": {},
   "source": [
    "Do ponto 1.3.3.3, temos que os valores médios para spam e ham são, respectivamente:\n",
    "\n",
    "Média: 479.30  e 158,90 \n",
    "\n",
    "STD:  864.51   e 348.29\n",
    "\n",
    "Máx.: 15841,00 e 5902,00\n",
    "\n",
    "Mín.:  2,00    e 1,00"
   ]
  },
  {
   "cell_type": "markdown",
   "metadata": {},
   "source": [
    "Aqui, utilizar o critério de média + 1 desvio-padrão poderia ser uma má escolha, pois a média do spam estaria inclusa no valor. O que pode ser feito é dividir um pouco acima do valor da média. Então:\n",
    "\n",
    "Acima de 200: 1\n",
    "\n",
    "Abaixo de 200: 0"
   ]
  },
  {
   "cell_type": "code",
   "execution_count": 79,
   "metadata": {},
   "outputs": [
    {
     "name": "stderr",
     "output_type": "stream",
     "text": [
      "C:\\Users\\Rodrigo Magaldi\\Anaconda3\\lib\\site-packages\\ipykernel_launcher.py:5: FutureWarning: set_value is deprecated and will be removed in a future release. Please use .at[] or .iat[] accessors instead\n",
      "  \"\"\"\n",
      "C:\\Users\\Rodrigo Magaldi\\Anaconda3\\lib\\site-packages\\ipykernel_launcher.py:3: FutureWarning: set_value is deprecated and will be removed in a future release. Please use .at[] or .iat[] accessors instead\n",
      "  This is separate from the ipykernel package so we can avoid doing imports until\n"
     ]
    }
   ],
   "source": [
    "for index, row in data_cap.iterrows():\n",
    "    if row.capital_run_length_total > 200:\n",
    "        data_cap.set_value(index, \"capital_run_length_total\", 1)\n",
    "    else:\n",
    "        data_cap.set_value(index, \"capital_run_length_total\", 0)"
   ]
  },
  {
   "cell_type": "code",
   "execution_count": 92,
   "metadata": {
    "scrolled": true
   },
   "outputs": [
    {
     "data": {
      "text/html": [
       "<div>\n",
       "<style scoped>\n",
       "    .dataframe tbody tr th:only-of-type {\n",
       "        vertical-align: middle;\n",
       "    }\n",
       "\n",
       "    .dataframe tbody tr th {\n",
       "        vertical-align: top;\n",
       "    }\n",
       "\n",
       "    .dataframe thead th {\n",
       "        text-align: right;\n",
       "    }\n",
       "</style>\n",
       "<table border=\"1\" class=\"dataframe\">\n",
       "  <thead>\n",
       "    <tr style=\"text-align: right;\">\n",
       "      <th></th>\n",
       "      <th>capital_run_length_average</th>\n",
       "      <th>capital_run_length_longest</th>\n",
       "      <th>capital_run_length_total</th>\n",
       "      <th>ham</th>\n",
       "    </tr>\n",
       "  </thead>\n",
       "  <tbody>\n",
       "    <tr>\n",
       "      <th>2129</th>\n",
       "      <td>0.0</td>\n",
       "      <td>1</td>\n",
       "      <td>1</td>\n",
       "      <td>False</td>\n",
       "    </tr>\n",
       "    <tr>\n",
       "      <th>256</th>\n",
       "      <td>0.0</td>\n",
       "      <td>0</td>\n",
       "      <td>0</td>\n",
       "      <td>True</td>\n",
       "    </tr>\n",
       "    <tr>\n",
       "      <th>1902</th>\n",
       "      <td>0.0</td>\n",
       "      <td>0</td>\n",
       "      <td>0</td>\n",
       "      <td>True</td>\n",
       "    </tr>\n",
       "    <tr>\n",
       "      <th>1771</th>\n",
       "      <td>0.0</td>\n",
       "      <td>0</td>\n",
       "      <td>0</td>\n",
       "      <td>True</td>\n",
       "    </tr>\n",
       "    <tr>\n",
       "      <th>3650</th>\n",
       "      <td>0.0</td>\n",
       "      <td>1</td>\n",
       "      <td>1</td>\n",
       "      <td>False</td>\n",
       "    </tr>\n",
       "    <tr>\n",
       "      <th>2648</th>\n",
       "      <td>1.0</td>\n",
       "      <td>1</td>\n",
       "      <td>1</td>\n",
       "      <td>False</td>\n",
       "    </tr>\n",
       "    <tr>\n",
       "      <th>178</th>\n",
       "      <td>0.0</td>\n",
       "      <td>0</td>\n",
       "      <td>1</td>\n",
       "      <td>False</td>\n",
       "    </tr>\n",
       "    <tr>\n",
       "      <th>2737</th>\n",
       "      <td>0.0</td>\n",
       "      <td>0</td>\n",
       "      <td>0</td>\n",
       "      <td>True</td>\n",
       "    </tr>\n",
       "    <tr>\n",
       "      <th>3613</th>\n",
       "      <td>0.0</td>\n",
       "      <td>0</td>\n",
       "      <td>0</td>\n",
       "      <td>True</td>\n",
       "    </tr>\n",
       "    <tr>\n",
       "      <th>1409</th>\n",
       "      <td>0.0</td>\n",
       "      <td>0</td>\n",
       "      <td>0</td>\n",
       "      <td>True</td>\n",
       "    </tr>\n",
       "  </tbody>\n",
       "</table>\n",
       "</div>"
      ],
      "text/plain": [
       "      capital_run_length_average  capital_run_length_longest  \\\n",
       "2129                         0.0                           1   \n",
       "256                          0.0                           0   \n",
       "1902                         0.0                           0   \n",
       "1771                         0.0                           0   \n",
       "3650                         0.0                           1   \n",
       "2648                         1.0                           1   \n",
       "178                          0.0                           0   \n",
       "2737                         0.0                           0   \n",
       "3613                         0.0                           0   \n",
       "1409                         0.0                           0   \n",
       "\n",
       "      capital_run_length_total    ham  \n",
       "2129                         1  False  \n",
       "256                          0   True  \n",
       "1902                         0   True  \n",
       "1771                         0   True  \n",
       "3650                         1  False  \n",
       "2648                         1  False  \n",
       "178                          1  False  \n",
       "2737                         0   True  \n",
       "3613                         0   True  \n",
       "1409                         0   True  "
      ]
     },
     "execution_count": 92,
     "metadata": {},
     "output_type": "execute_result"
    }
   ],
   "source": [
    "data_cap.sample(10)"
   ]
  },
  {
   "cell_type": "code",
   "execution_count": 89,
   "metadata": {},
   "outputs": [
    {
     "data": {
      "text/plain": [
       "0    2570\n",
       "1    1110\n",
       "Name: capital_run_length_total, dtype: int64"
      ]
     },
     "execution_count": 89,
     "metadata": {},
     "output_type": "execute_result"
    }
   ],
   "source": [
    "data_cap.capital_run_length_total.value_counts()"
   ]
  },
  {
   "cell_type": "markdown",
   "metadata": {},
   "source": [
    "<a id='parte4'></a>\n",
    "\n",
    "# Parte 4: Aplicação do classificador binário e comparação com KNN"
   ]
  },
  {
   "cell_type": "markdown",
   "metadata": {},
   "source": [
    "## 4.1. Juntando tudo de novo"
   ]
  },
  {
   "cell_type": "markdown",
   "metadata": {},
   "source": [
    "É preciso, agora que a binarização já foi realizada, juntar tudos os dataframes novamente."
   ]
  },
  {
   "cell_type": "code",
   "execution_count": 97,
   "metadata": {},
   "outputs": [],
   "source": [
    "binarizado = data_X_freq.join(data_cap)"
   ]
  },
  {
   "cell_type": "code",
   "execution_count": 98,
   "metadata": {},
   "outputs": [],
   "source": [
    "binarizado[\"Id\"] = data_raw[\"Id\"]"
   ]
  },
  {
   "cell_type": "code",
   "execution_count": 129,
   "metadata": {},
   "outputs": [
    {
     "data": {
      "text/html": [
       "<div>\n",
       "<style scoped>\n",
       "    .dataframe tbody tr th:only-of-type {\n",
       "        vertical-align: middle;\n",
       "    }\n",
       "\n",
       "    .dataframe tbody tr th {\n",
       "        vertical-align: top;\n",
       "    }\n",
       "\n",
       "    .dataframe thead th {\n",
       "        text-align: right;\n",
       "    }\n",
       "</style>\n",
       "<table border=\"1\" class=\"dataframe\">\n",
       "  <thead>\n",
       "    <tr style=\"text-align: right;\">\n",
       "      <th></th>\n",
       "      <th>word_freq_make</th>\n",
       "      <th>word_freq_address</th>\n",
       "      <th>word_freq_all</th>\n",
       "      <th>word_freq_3d</th>\n",
       "      <th>word_freq_our</th>\n",
       "      <th>word_freq_over</th>\n",
       "      <th>word_freq_remove</th>\n",
       "      <th>word_freq_internet</th>\n",
       "      <th>word_freq_order</th>\n",
       "      <th>word_freq_mail</th>\n",
       "      <th>...</th>\n",
       "      <th>char_freq_(</th>\n",
       "      <th>char_freq_[</th>\n",
       "      <th>char_freq_!</th>\n",
       "      <th>char_freq_$</th>\n",
       "      <th>char_freq_#</th>\n",
       "      <th>capital_run_length_average</th>\n",
       "      <th>capital_run_length_longest</th>\n",
       "      <th>capital_run_length_total</th>\n",
       "      <th>ham</th>\n",
       "      <th>Id</th>\n",
       "    </tr>\n",
       "  </thead>\n",
       "  <tbody>\n",
       "    <tr>\n",
       "      <th>1823</th>\n",
       "      <td>0.0</td>\n",
       "      <td>0.0</td>\n",
       "      <td>0.0</td>\n",
       "      <td>0.0</td>\n",
       "      <td>0.0</td>\n",
       "      <td>0.0</td>\n",
       "      <td>0.0</td>\n",
       "      <td>0.0</td>\n",
       "      <td>0.0</td>\n",
       "      <td>0.0</td>\n",
       "      <td>...</td>\n",
       "      <td>0.0</td>\n",
       "      <td>0.0</td>\n",
       "      <td>0.0</td>\n",
       "      <td>0.0</td>\n",
       "      <td>0.0</td>\n",
       "      <td>0.0</td>\n",
       "      <td>0</td>\n",
       "      <td>0</td>\n",
       "      <td>True</td>\n",
       "      <td>1325</td>\n",
       "    </tr>\n",
       "    <tr>\n",
       "      <th>1681</th>\n",
       "      <td>1.0</td>\n",
       "      <td>0.0</td>\n",
       "      <td>1.0</td>\n",
       "      <td>0.0</td>\n",
       "      <td>1.0</td>\n",
       "      <td>1.0</td>\n",
       "      <td>0.0</td>\n",
       "      <td>0.0</td>\n",
       "      <td>0.0</td>\n",
       "      <td>1.0</td>\n",
       "      <td>...</td>\n",
       "      <td>1.0</td>\n",
       "      <td>0.0</td>\n",
       "      <td>1.0</td>\n",
       "      <td>1.0</td>\n",
       "      <td>1.0</td>\n",
       "      <td>1.0</td>\n",
       "      <td>1</td>\n",
       "      <td>1</td>\n",
       "      <td>False</td>\n",
       "      <td>997</td>\n",
       "    </tr>\n",
       "    <tr>\n",
       "      <th>2417</th>\n",
       "      <td>0.0</td>\n",
       "      <td>0.0</td>\n",
       "      <td>0.0</td>\n",
       "      <td>0.0</td>\n",
       "      <td>1.0</td>\n",
       "      <td>0.0</td>\n",
       "      <td>0.0</td>\n",
       "      <td>0.0</td>\n",
       "      <td>0.0</td>\n",
       "      <td>0.0</td>\n",
       "      <td>...</td>\n",
       "      <td>0.0</td>\n",
       "      <td>0.0</td>\n",
       "      <td>0.0</td>\n",
       "      <td>0.0</td>\n",
       "      <td>0.0</td>\n",
       "      <td>0.0</td>\n",
       "      <td>0</td>\n",
       "      <td>0</td>\n",
       "      <td>True</td>\n",
       "      <td>950</td>\n",
       "    </tr>\n",
       "    <tr>\n",
       "      <th>2178</th>\n",
       "      <td>0.0</td>\n",
       "      <td>1.0</td>\n",
       "      <td>0.0</td>\n",
       "      <td>0.0</td>\n",
       "      <td>1.0</td>\n",
       "      <td>0.0</td>\n",
       "      <td>0.0</td>\n",
       "      <td>0.0</td>\n",
       "      <td>0.0</td>\n",
       "      <td>1.0</td>\n",
       "      <td>...</td>\n",
       "      <td>0.0</td>\n",
       "      <td>0.0</td>\n",
       "      <td>1.0</td>\n",
       "      <td>0.0</td>\n",
       "      <td>1.0</td>\n",
       "      <td>0.0</td>\n",
       "      <td>0</td>\n",
       "      <td>1</td>\n",
       "      <td>True</td>\n",
       "      <td>2211</td>\n",
       "    </tr>\n",
       "    <tr>\n",
       "      <th>1731</th>\n",
       "      <td>1.0</td>\n",
       "      <td>0.0</td>\n",
       "      <td>0.0</td>\n",
       "      <td>0.0</td>\n",
       "      <td>0.0</td>\n",
       "      <td>0.0</td>\n",
       "      <td>0.0</td>\n",
       "      <td>0.0</td>\n",
       "      <td>0.0</td>\n",
       "      <td>0.0</td>\n",
       "      <td>...</td>\n",
       "      <td>0.0</td>\n",
       "      <td>0.0</td>\n",
       "      <td>0.0</td>\n",
       "      <td>0.0</td>\n",
       "      <td>0.0</td>\n",
       "      <td>0.0</td>\n",
       "      <td>0</td>\n",
       "      <td>0</td>\n",
       "      <td>True</td>\n",
       "      <td>1019</td>\n",
       "    </tr>\n",
       "    <tr>\n",
       "      <th>1101</th>\n",
       "      <td>0.0</td>\n",
       "      <td>0.0</td>\n",
       "      <td>0.0</td>\n",
       "      <td>0.0</td>\n",
       "      <td>0.0</td>\n",
       "      <td>0.0</td>\n",
       "      <td>0.0</td>\n",
       "      <td>0.0</td>\n",
       "      <td>0.0</td>\n",
       "      <td>0.0</td>\n",
       "      <td>...</td>\n",
       "      <td>0.0</td>\n",
       "      <td>0.0</td>\n",
       "      <td>0.0</td>\n",
       "      <td>0.0</td>\n",
       "      <td>0.0</td>\n",
       "      <td>0.0</td>\n",
       "      <td>0</td>\n",
       "      <td>0</td>\n",
       "      <td>True</td>\n",
       "      <td>3736</td>\n",
       "    </tr>\n",
       "    <tr>\n",
       "      <th>931</th>\n",
       "      <td>0.0</td>\n",
       "      <td>0.0</td>\n",
       "      <td>1.0</td>\n",
       "      <td>0.0</td>\n",
       "      <td>1.0</td>\n",
       "      <td>0.0</td>\n",
       "      <td>1.0</td>\n",
       "      <td>1.0</td>\n",
       "      <td>0.0</td>\n",
       "      <td>1.0</td>\n",
       "      <td>...</td>\n",
       "      <td>1.0</td>\n",
       "      <td>0.0</td>\n",
       "      <td>1.0</td>\n",
       "      <td>1.0</td>\n",
       "      <td>0.0</td>\n",
       "      <td>0.0</td>\n",
       "      <td>0</td>\n",
       "      <td>1</td>\n",
       "      <td>False</td>\n",
       "      <td>3042</td>\n",
       "    </tr>\n",
       "    <tr>\n",
       "      <th>3088</th>\n",
       "      <td>0.0</td>\n",
       "      <td>0.0</td>\n",
       "      <td>0.0</td>\n",
       "      <td>0.0</td>\n",
       "      <td>0.0</td>\n",
       "      <td>0.0</td>\n",
       "      <td>1.0</td>\n",
       "      <td>1.0</td>\n",
       "      <td>0.0</td>\n",
       "      <td>0.0</td>\n",
       "      <td>...</td>\n",
       "      <td>1.0</td>\n",
       "      <td>0.0</td>\n",
       "      <td>0.0</td>\n",
       "      <td>1.0</td>\n",
       "      <td>0.0</td>\n",
       "      <td>0.0</td>\n",
       "      <td>0</td>\n",
       "      <td>0</td>\n",
       "      <td>True</td>\n",
       "      <td>2924</td>\n",
       "    </tr>\n",
       "    <tr>\n",
       "      <th>1342</th>\n",
       "      <td>0.0</td>\n",
       "      <td>0.0</td>\n",
       "      <td>0.0</td>\n",
       "      <td>0.0</td>\n",
       "      <td>0.0</td>\n",
       "      <td>0.0</td>\n",
       "      <td>0.0</td>\n",
       "      <td>0.0</td>\n",
       "      <td>0.0</td>\n",
       "      <td>1.0</td>\n",
       "      <td>...</td>\n",
       "      <td>1.0</td>\n",
       "      <td>1.0</td>\n",
       "      <td>0.0</td>\n",
       "      <td>0.0</td>\n",
       "      <td>0.0</td>\n",
       "      <td>0.0</td>\n",
       "      <td>0</td>\n",
       "      <td>0</td>\n",
       "      <td>True</td>\n",
       "      <td>2294</td>\n",
       "    </tr>\n",
       "    <tr>\n",
       "      <th>1961</th>\n",
       "      <td>0.0</td>\n",
       "      <td>0.0</td>\n",
       "      <td>0.0</td>\n",
       "      <td>0.0</td>\n",
       "      <td>0.0</td>\n",
       "      <td>0.0</td>\n",
       "      <td>0.0</td>\n",
       "      <td>0.0</td>\n",
       "      <td>0.0</td>\n",
       "      <td>0.0</td>\n",
       "      <td>...</td>\n",
       "      <td>0.0</td>\n",
       "      <td>0.0</td>\n",
       "      <td>1.0</td>\n",
       "      <td>0.0</td>\n",
       "      <td>0.0</td>\n",
       "      <td>0.0</td>\n",
       "      <td>0</td>\n",
       "      <td>0</td>\n",
       "      <td>False</td>\n",
       "      <td>2749</td>\n",
       "    </tr>\n",
       "  </tbody>\n",
       "</table>\n",
       "<p>10 rows × 59 columns</p>\n",
       "</div>"
      ],
      "text/plain": [
       "      word_freq_make  word_freq_address  word_freq_all  word_freq_3d  \\\n",
       "1823             0.0                0.0            0.0           0.0   \n",
       "1681             1.0                0.0            1.0           0.0   \n",
       "2417             0.0                0.0            0.0           0.0   \n",
       "2178             0.0                1.0            0.0           0.0   \n",
       "1731             1.0                0.0            0.0           0.0   \n",
       "1101             0.0                0.0            0.0           0.0   \n",
       "931              0.0                0.0            1.0           0.0   \n",
       "3088             0.0                0.0            0.0           0.0   \n",
       "1342             0.0                0.0            0.0           0.0   \n",
       "1961             0.0                0.0            0.0           0.0   \n",
       "\n",
       "      word_freq_our  word_freq_over  word_freq_remove  word_freq_internet  \\\n",
       "1823            0.0             0.0               0.0                 0.0   \n",
       "1681            1.0             1.0               0.0                 0.0   \n",
       "2417            1.0             0.0               0.0                 0.0   \n",
       "2178            1.0             0.0               0.0                 0.0   \n",
       "1731            0.0             0.0               0.0                 0.0   \n",
       "1101            0.0             0.0               0.0                 0.0   \n",
       "931             1.0             0.0               1.0                 1.0   \n",
       "3088            0.0             0.0               1.0                 1.0   \n",
       "1342            0.0             0.0               0.0                 0.0   \n",
       "1961            0.0             0.0               0.0                 0.0   \n",
       "\n",
       "      word_freq_order  word_freq_mail  ...   char_freq_(  char_freq_[  \\\n",
       "1823              0.0             0.0  ...           0.0          0.0   \n",
       "1681              0.0             1.0  ...           1.0          0.0   \n",
       "2417              0.0             0.0  ...           0.0          0.0   \n",
       "2178              0.0             1.0  ...           0.0          0.0   \n",
       "1731              0.0             0.0  ...           0.0          0.0   \n",
       "1101              0.0             0.0  ...           0.0          0.0   \n",
       "931               0.0             1.0  ...           1.0          0.0   \n",
       "3088              0.0             0.0  ...           1.0          0.0   \n",
       "1342              0.0             1.0  ...           1.0          1.0   \n",
       "1961              0.0             0.0  ...           0.0          0.0   \n",
       "\n",
       "      char_freq_!  char_freq_$  char_freq_#  capital_run_length_average  \\\n",
       "1823          0.0          0.0          0.0                         0.0   \n",
       "1681          1.0          1.0          1.0                         1.0   \n",
       "2417          0.0          0.0          0.0                         0.0   \n",
       "2178          1.0          0.0          1.0                         0.0   \n",
       "1731          0.0          0.0          0.0                         0.0   \n",
       "1101          0.0          0.0          0.0                         0.0   \n",
       "931           1.0          1.0          0.0                         0.0   \n",
       "3088          0.0          1.0          0.0                         0.0   \n",
       "1342          0.0          0.0          0.0                         0.0   \n",
       "1961          1.0          0.0          0.0                         0.0   \n",
       "\n",
       "      capital_run_length_longest  capital_run_length_total    ham    Id  \n",
       "1823                           0                         0   True  1325  \n",
       "1681                           1                         1  False   997  \n",
       "2417                           0                         0   True   950  \n",
       "2178                           0                         1   True  2211  \n",
       "1731                           0                         0   True  1019  \n",
       "1101                           0                         0   True  3736  \n",
       "931                            0                         1  False  3042  \n",
       "3088                           0                         0   True  2924  \n",
       "1342                           0                         0   True  2294  \n",
       "1961                           0                         0  False  2749  \n",
       "\n",
       "[10 rows x 59 columns]"
      ]
     },
     "execution_count": 129,
     "metadata": {},
     "output_type": "execute_result"
    }
   ],
   "source": [
    "binarizado.sample(10)"
   ]
  },
  {
   "cell_type": "code",
   "execution_count": 164,
   "metadata": {},
   "outputs": [
    {
     "data": {
      "text/plain": [
       "<matplotlib.axes._subplots.AxesSubplot at 0x23fdd7412e8>"
      ]
     },
     "execution_count": 164,
     "metadata": {},
     "output_type": "execute_result"
    },
    {
     "data": {
      "image/png": "[encoded data removed]",
      "text/plain": [
       "<Figure size 432x288 with 1 Axes>"
      ]
     },
     "metadata": {},
     "output_type": "display_data"
    }
   ],
   "source": [
    "sns.countplot(x=\"word_freq_free\", data=binarizado, hue=\"ham\")"
   ]
  },
  {
   "cell_type": "code",
   "execution_count": 170,
   "metadata": {},
   "outputs": [
    {
     "data": {
      "text/plain": [
       "<matplotlib.axes._subplots.AxesSubplot at 0x23fdd6d4160>"
      ]
     },
     "execution_count": 170,
     "metadata": {},
     "output_type": "execute_result"
    },
    {
     "data": {
      "image/png": "[encoded data removed]",
      "text/plain": [
       "<Figure size 432x288 with 1 Axes>"
      ]
     },
     "metadata": {},
     "output_type": "display_data"
    }
   ],
   "source": [
    "sns.countplot(x='word_freq_money', data=binarizado, hue='ham')"
   ]
  },
  {
   "cell_type": "markdown",
   "metadata": {},
   "source": [
    "Pode-se observar que, nos casos em que \"money\" ou \"free\" aparecem, a quantidade de ham = false é muito expressiva em relação a ham = true."
   ]
  },
  {
   "cell_type": "markdown",
   "metadata": {},
   "source": [
    "## 4.2. BernoulliNB"
   ]
  },
  {
   "cell_type": "code",
   "execution_count": 103,
   "metadata": {},
   "outputs": [],
   "source": [
    "from sklearn.naive_bayes import BernoulliNB"
   ]
  },
  {
   "cell_type": "markdown",
   "metadata": {},
   "source": [
    "Após alguns testes, verificou-se que não utilizar os atributos relativos às letras maiúsculas permitia a obtenção de um melhor score na base de testes (no Kaggle). Assim:"
   ]
  },
  {
   "cell_type": "code",
   "execution_count": 247,
   "metadata": {},
   "outputs": [],
   "source": [
    "train_X = binarizado.drop(labels =[\"Id\", \"ham\", \"capital_run_length_average\", \"capital_run_length_longest\", \"capital_run_length_total\", 'char_freq_('], axis=1)\n",
    "train_y = binarizado.ham"
   ]
  },
  {
   "cell_type": "code",
   "execution_count": 248,
   "metadata": {},
   "outputs": [
    {
     "data": {
      "text/html": [
       "<div>\n",
       "<style scoped>\n",
       "    .dataframe tbody tr th:only-of-type {\n",
       "        vertical-align: middle;\n",
       "    }\n",
       "\n",
       "    .dataframe tbody tr th {\n",
       "        vertical-align: top;\n",
       "    }\n",
       "\n",
       "    .dataframe thead th {\n",
       "        text-align: right;\n",
       "    }\n",
       "</style>\n",
       "<table border=\"1\" class=\"dataframe\">\n",
       "  <thead>\n",
       "    <tr style=\"text-align: right;\">\n",
       "      <th></th>\n",
       "      <th>word_freq_make</th>\n",
       "      <th>word_freq_address</th>\n",
       "      <th>word_freq_all</th>\n",
       "      <th>word_freq_3d</th>\n",
       "      <th>word_freq_our</th>\n",
       "      <th>word_freq_over</th>\n",
       "      <th>word_freq_remove</th>\n",
       "      <th>word_freq_internet</th>\n",
       "      <th>word_freq_order</th>\n",
       "      <th>word_freq_mail</th>\n",
       "      <th>...</th>\n",
       "      <th>word_freq_project</th>\n",
       "      <th>word_freq_re</th>\n",
       "      <th>word_freq_edu</th>\n",
       "      <th>word_freq_table</th>\n",
       "      <th>word_freq_conference</th>\n",
       "      <th>char_freq_;</th>\n",
       "      <th>char_freq_[</th>\n",
       "      <th>char_freq_!</th>\n",
       "      <th>char_freq_$</th>\n",
       "      <th>char_freq_#</th>\n",
       "    </tr>\n",
       "  </thead>\n",
       "  <tbody>\n",
       "    <tr>\n",
       "      <th>0</th>\n",
       "      <td>0.0</td>\n",
       "      <td>1.0</td>\n",
       "      <td>0.0</td>\n",
       "      <td>0.0</td>\n",
       "      <td>0.0</td>\n",
       "      <td>0.0</td>\n",
       "      <td>0.0</td>\n",
       "      <td>0.0</td>\n",
       "      <td>0.0</td>\n",
       "      <td>0.0</td>\n",
       "      <td>...</td>\n",
       "      <td>0.0</td>\n",
       "      <td>0.0</td>\n",
       "      <td>0.0</td>\n",
       "      <td>0.0</td>\n",
       "      <td>0.0</td>\n",
       "      <td>0.0</td>\n",
       "      <td>0.0</td>\n",
       "      <td>0.0</td>\n",
       "      <td>0.0</td>\n",
       "      <td>0.0</td>\n",
       "    </tr>\n",
       "    <tr>\n",
       "      <th>1</th>\n",
       "      <td>0.0</td>\n",
       "      <td>0.0</td>\n",
       "      <td>1.0</td>\n",
       "      <td>0.0</td>\n",
       "      <td>1.0</td>\n",
       "      <td>0.0</td>\n",
       "      <td>0.0</td>\n",
       "      <td>0.0</td>\n",
       "      <td>0.0</td>\n",
       "      <td>1.0</td>\n",
       "      <td>...</td>\n",
       "      <td>0.0</td>\n",
       "      <td>1.0</td>\n",
       "      <td>0.0</td>\n",
       "      <td>0.0</td>\n",
       "      <td>0.0</td>\n",
       "      <td>0.0</td>\n",
       "      <td>0.0</td>\n",
       "      <td>1.0</td>\n",
       "      <td>0.0</td>\n",
       "      <td>0.0</td>\n",
       "    </tr>\n",
       "    <tr>\n",
       "      <th>2</th>\n",
       "      <td>0.0</td>\n",
       "      <td>0.0</td>\n",
       "      <td>0.0</td>\n",
       "      <td>0.0</td>\n",
       "      <td>0.0</td>\n",
       "      <td>0.0</td>\n",
       "      <td>0.0</td>\n",
       "      <td>1.0</td>\n",
       "      <td>0.0</td>\n",
       "      <td>1.0</td>\n",
       "      <td>...</td>\n",
       "      <td>0.0</td>\n",
       "      <td>0.0</td>\n",
       "      <td>0.0</td>\n",
       "      <td>0.0</td>\n",
       "      <td>0.0</td>\n",
       "      <td>0.0</td>\n",
       "      <td>0.0</td>\n",
       "      <td>1.0</td>\n",
       "      <td>1.0</td>\n",
       "      <td>0.0</td>\n",
       "    </tr>\n",
       "    <tr>\n",
       "      <th>3</th>\n",
       "      <td>0.0</td>\n",
       "      <td>0.0</td>\n",
       "      <td>0.0</td>\n",
       "      <td>0.0</td>\n",
       "      <td>0.0</td>\n",
       "      <td>0.0</td>\n",
       "      <td>0.0</td>\n",
       "      <td>0.0</td>\n",
       "      <td>0.0</td>\n",
       "      <td>0.0</td>\n",
       "      <td>...</td>\n",
       "      <td>0.0</td>\n",
       "      <td>0.0</td>\n",
       "      <td>0.0</td>\n",
       "      <td>0.0</td>\n",
       "      <td>0.0</td>\n",
       "      <td>0.0</td>\n",
       "      <td>0.0</td>\n",
       "      <td>1.0</td>\n",
       "      <td>0.0</td>\n",
       "      <td>0.0</td>\n",
       "    </tr>\n",
       "    <tr>\n",
       "      <th>4</th>\n",
       "      <td>0.0</td>\n",
       "      <td>0.0</td>\n",
       "      <td>0.0</td>\n",
       "      <td>0.0</td>\n",
       "      <td>1.0</td>\n",
       "      <td>0.0</td>\n",
       "      <td>0.0</td>\n",
       "      <td>0.0</td>\n",
       "      <td>0.0</td>\n",
       "      <td>1.0</td>\n",
       "      <td>...</td>\n",
       "      <td>0.0</td>\n",
       "      <td>0.0</td>\n",
       "      <td>0.0</td>\n",
       "      <td>0.0</td>\n",
       "      <td>0.0</td>\n",
       "      <td>0.0</td>\n",
       "      <td>0.0</td>\n",
       "      <td>0.0</td>\n",
       "      <td>0.0</td>\n",
       "      <td>0.0</td>\n",
       "    </tr>\n",
       "  </tbody>\n",
       "</table>\n",
       "<p>5 rows × 53 columns</p>\n",
       "</div>"
      ],
      "text/plain": [
       "   word_freq_make  word_freq_address  word_freq_all  word_freq_3d  \\\n",
       "0             0.0                1.0            0.0           0.0   \n",
       "1             0.0                0.0            1.0           0.0   \n",
       "2             0.0                0.0            0.0           0.0   \n",
       "3             0.0                0.0            0.0           0.0   \n",
       "4             0.0                0.0            0.0           0.0   \n",
       "\n",
       "   word_freq_our  word_freq_over  word_freq_remove  word_freq_internet  \\\n",
       "0            0.0             0.0               0.0                 0.0   \n",
       "1            1.0             0.0               0.0                 0.0   \n",
       "2            0.0             0.0               0.0                 1.0   \n",
       "3            0.0             0.0               0.0                 0.0   \n",
       "4            1.0             0.0               0.0                 0.0   \n",
       "\n",
       "   word_freq_order  word_freq_mail     ...       word_freq_project  \\\n",
       "0              0.0             0.0     ...                     0.0   \n",
       "1              0.0             1.0     ...                     0.0   \n",
       "2              0.0             1.0     ...                     0.0   \n",
       "3              0.0             0.0     ...                     0.0   \n",
       "4              0.0             1.0     ...                     0.0   \n",
       "\n",
       "   word_freq_re  word_freq_edu  word_freq_table  word_freq_conference  \\\n",
       "0           0.0            0.0              0.0                   0.0   \n",
       "1           1.0            0.0              0.0                   0.0   \n",
       "2           0.0            0.0              0.0                   0.0   \n",
       "3           0.0            0.0              0.0                   0.0   \n",
       "4           0.0            0.0              0.0                   0.0   \n",
       "\n",
       "   char_freq_;  char_freq_[  char_freq_!  char_freq_$  char_freq_#  \n",
       "0          0.0          0.0          0.0          0.0          0.0  \n",
       "1          0.0          0.0          1.0          0.0          0.0  \n",
       "2          0.0          0.0          1.0          1.0          0.0  \n",
       "3          0.0          0.0          1.0          0.0          0.0  \n",
       "4          0.0          0.0          0.0          0.0          0.0  \n",
       "\n",
       "[5 rows x 53 columns]"
      ]
     },
     "execution_count": 248,
     "metadata": {},
     "output_type": "execute_result"
    }
   ],
   "source": [
    "train_X.head()"
   ]
  },
  {
   "cell_type": "code",
   "execution_count": 249,
   "metadata": {},
   "outputs": [
    {
     "data": {
      "text/plain": [
       "0     True\n",
       "1    False\n",
       "2    False\n",
       "3     True\n",
       "4     True\n",
       "Name: ham, dtype: bool"
      ]
     },
     "execution_count": 249,
     "metadata": {},
     "output_type": "execute_result"
    }
   ],
   "source": [
    "train_y.head()"
   ]
  },
  {
   "cell_type": "code",
   "execution_count": 250,
   "metadata": {},
   "outputs": [
    {
     "data": {
      "text/plain": [
       "BernoulliNB(alpha=1.0, binarize=0.0, class_prior=None, fit_prior=True)"
      ]
     },
     "execution_count": 250,
     "metadata": {},
     "output_type": "execute_result"
    }
   ],
   "source": [
    "bnb = BernoulliNB()\n",
    "\n",
    "bnb.fit(train_X, train_y)"
   ]
  },
  {
   "cell_type": "code",
   "execution_count": 251,
   "metadata": {},
   "outputs": [
    {
     "name": "stdout",
     "output_type": "stream",
     "text": [
      "[0.87044534 0.85365854 0.91463415 0.90243902 0.91020408 0.88163265\n",
      " 0.89387755 0.90612245 0.90204082 0.88979592 0.88571429 0.86530612\n",
      " 0.89795918 0.86122449 0.86938776]\n",
      "0.8869628238379385\n"
     ]
    }
   ],
   "source": [
    "scores = cross_val_score(bnb, train_X, train_y, cv=15)\n",
    "\n",
    "print(scores)\n",
    "print(scores.mean())"
   ]
  },
  {
   "cell_type": "markdown",
   "metadata": {},
   "source": [
    "Houve uma melhora significativa em relação ao Naive Bayes Gaussiano da primeira tentativa."
   ]
  },
  {
   "cell_type": "markdown",
   "metadata": {},
   "source": [
    "## 4.3. KNN"
   ]
  },
  {
   "cell_type": "code",
   "execution_count": 252,
   "metadata": {},
   "outputs": [],
   "source": [
    "valores_obtidos = []\n",
    "for i in range(1, 31):\n",
    "    knn = KNeighborsClassifier(n_neighbors=i)\n",
    "    scores = cross_val_score(knn, train_X, train_y, cv=10)\n",
    "    valores_obtidos.append(scores.mean())"
   ]
  },
  {
   "cell_type": "code",
   "execution_count": 253,
   "metadata": {},
   "outputs": [
    {
     "name": "stdout",
     "output_type": "stream",
     "text": [
      "[0.9211896283753738, 0.906516427673162, 0.9203795900060646, 0.917386765429673, 0.9195628917475647, 0.9163034950231627, 0.9198338864312111, 0.9184774080666408, 0.9182071457902115, 0.916304967863978, 0.9182078822106192, 0.9138570943892711, 0.9154890100390757, 0.9163034910099723, 0.9144005806765211, 0.9149455277650157, 0.9149455357913963, 0.9133150929824071, 0.9143983593757273, 0.9152165304750429, 0.9130433538519723, 0.9135875685332495, 0.9127708783011299, 0.9111404395053311, 0.9127701418807221, 0.9111404435185211, 0.9111419163593366, 0.9105991745188746, 0.9103274353884399, 0.9092419557207064]\n"
     ]
    }
   ],
   "source": [
    "print(valores_obtidos)"
   ]
  },
  {
   "cell_type": "markdown",
   "metadata": {},
   "source": [
    "Para encontrar o melhor valor, pode-se utilizar o seguinte algoritmo:"
   ]
  },
  {
   "cell_type": "code",
   "execution_count": 254,
   "metadata": {},
   "outputs": [
    {
     "name": "stdout",
     "output_type": "stream",
     "text": [
      "O maior valor obtido foi de 0.9211896283753738 , relativo ao valor k = 1 .\n"
     ]
    }
   ],
   "source": [
    "maximo = 0\n",
    "index = 1\n",
    "for j in range(len(valores_obtidos)):\n",
    "    if valores_obtidos[j] > maximo:\n",
    "        maximo = valores_obtidos[j]\n",
    "        index = j\n",
    "print(\"O maior valor obtido foi de\", maximo, \", relativo ao valor k =\", index+1,\".\")"
   ]
  },
  {
   "cell_type": "markdown",
   "metadata": {},
   "source": [
    "Assim, a acurácia do KNN, superou a do BernoulliNB. No entanto, como a atividade refere-se ao classificador de Naive Bayes, é com ele que vamos fazer a avaliação."
   ]
  },
  {
   "cell_type": "markdown",
   "metadata": {},
   "source": [
    "<a id='parte5'></a>\n",
    "\n",
    "# Parte 5: Avaliação do classificador"
   ]
  },
  {
   "cell_type": "markdown",
   "metadata": {},
   "source": [
    "## 5.1. Definição de F Score e da bases de treino e teste "
   ]
  },
  {
   "cell_type": "markdown",
   "metadata": {},
   "source": [
    "Para realizar a avaliação do nosso classificador BernoulliNB, iremos utilizar a função a seguir:"
   ]
  },
  {
   "cell_type": "code",
   "execution_count": 82,
   "metadata": {},
   "outputs": [],
   "source": [
    "def f_beta_score(p, r, b):\n",
    "    '''\n",
    "    RETORNA O SCORE DA AVALIAÇÃO F BETA.\n",
    "    \n",
    "    p: precisão do classificador\n",
    "    r: recall do classificador\n",
    "    b: parâmetro beta do f beta score\n",
    "    '''\n",
    "    numerador = p*r\n",
    "    denominador = r + p * b**2\n",
    "    fator = 1 + b**2\n",
    "    \n",
    "    return fator * numerador / denominador"
   ]
  },
  {
   "cell_type": "markdown",
   "metadata": {},
   "source": [
    "No entanto, antes disso, será necessário dividir a base de treino em treino e teste, pois a base de teste em si não tem a label."
   ]
  },
  {
   "cell_type": "code",
   "execution_count": 264,
   "metadata": {},
   "outputs": [],
   "source": [
    "from sklearn.model_selection import train_test_split"
   ]
  },
  {
   "cell_type": "code",
   "execution_count": 274,
   "metadata": {},
   "outputs": [],
   "source": [
    "ev_train_raw, ev_test_raw = train_test_split(binarizado, test_size=0.2, random_state=30)"
   ]
  },
  {
   "cell_type": "code",
   "execution_count": 1,
   "metadata": {},
   "outputs": [
    {
     "ename": "NameError",
     "evalue": "name 'ev_train_raw' is not defined",
     "output_type": "error",
     "traceback": [
      "\u001b[1;31m---------------------------------------------------------------------------\u001b[0m",
      "\u001b[1;31mNameError\u001b[0m                                 Traceback (most recent call last)",
      "\u001b[1;32m<ipython-input-1-6d0c856de624>\u001b[0m in \u001b[0;36m<module>\u001b[1;34m()\u001b[0m\n\u001b[1;32m----> 1\u001b[1;33m \u001b[0mev_train_X\u001b[0m \u001b[1;33m=\u001b[0m \u001b[0mev_train_raw\u001b[0m\u001b[1;33m.\u001b[0m\u001b[0mdrop\u001b[0m\u001b[1;33m(\u001b[0m\u001b[0mlabels\u001b[0m \u001b[1;33m=\u001b[0m\u001b[1;33m[\u001b[0m\u001b[1;34m\"Id\"\u001b[0m\u001b[1;33m,\u001b[0m \u001b[1;34m\"ham\"\u001b[0m\u001b[1;33m,\u001b[0m \u001b[1;34m\"capital_run_length_average\"\u001b[0m\u001b[1;33m,\u001b[0m \u001b[1;34m\"capital_run_length_longest\"\u001b[0m\u001b[1;33m,\u001b[0m \u001b[1;34m\"capital_run_length_total\"\u001b[0m\u001b[1;33m,\u001b[0m \u001b[1;34m'char_freq_('\u001b[0m\u001b[1;33m]\u001b[0m\u001b[1;33m,\u001b[0m \u001b[0maxis\u001b[0m\u001b[1;33m=\u001b[0m\u001b[1;36m1\u001b[0m\u001b[1;33m)\u001b[0m\u001b[1;33m\u001b[0m\u001b[0m\n\u001b[0m\u001b[0;32m      2\u001b[0m \u001b[0mev_train_y\u001b[0m \u001b[1;33m=\u001b[0m \u001b[0mev_train_raw\u001b[0m\u001b[1;33m.\u001b[0m\u001b[0mham\u001b[0m\u001b[1;33m\u001b[0m\u001b[0m\n\u001b[0;32m      3\u001b[0m \u001b[1;33m\u001b[0m\u001b[0m\n\u001b[0;32m      4\u001b[0m \u001b[0mev_test_X\u001b[0m \u001b[1;33m=\u001b[0m \u001b[0mev_test_raw\u001b[0m\u001b[1;33m.\u001b[0m\u001b[0mdrop\u001b[0m\u001b[1;33m(\u001b[0m\u001b[0mlabels\u001b[0m \u001b[1;33m=\u001b[0m\u001b[1;33m[\u001b[0m\u001b[1;34m\"Id\"\u001b[0m\u001b[1;33m,\u001b[0m \u001b[1;34m\"ham\"\u001b[0m\u001b[1;33m,\u001b[0m \u001b[1;34m\"capital_run_length_average\"\u001b[0m\u001b[1;33m,\u001b[0m \u001b[1;34m\"capital_run_length_longest\"\u001b[0m\u001b[1;33m,\u001b[0m \u001b[1;34m\"capital_run_length_total\"\u001b[0m\u001b[1;33m,\u001b[0m \u001b[1;34m'char_freq_('\u001b[0m\u001b[1;33m]\u001b[0m\u001b[1;33m,\u001b[0m \u001b[0maxis\u001b[0m\u001b[1;33m=\u001b[0m\u001b[1;36m1\u001b[0m\u001b[1;33m)\u001b[0m\u001b[1;33m\u001b[0m\u001b[0m\n\u001b[0;32m      5\u001b[0m \u001b[0mev_test_y\u001b[0m \u001b[1;33m=\u001b[0m \u001b[0mev_test_raw\u001b[0m\u001b[1;33m.\u001b[0m\u001b[0mham\u001b[0m\u001b[1;33m\u001b[0m\u001b[0m\n",
      "\u001b[1;31mNameError\u001b[0m: name 'ev_train_raw' is not defined"
     ]
    }
   ],
   "source": [
    "ev_train_X = ev_train_raw.drop(labels =[\"Id\", \"ham\", \"capital_run_length_average\", \"capital_run_length_longest\", \"capital_run_length_total\", 'char_freq_('], axis=1)\n",
    "ev_train_y = ev_train_raw.ham\n",
    "\n",
    "ev_test_X = ev_test_raw.drop(labels =[\"Id\", \"ham\", \"capital_run_length_average\", \"capital_run_length_longest\", \"capital_run_length_total\", 'char_freq_('], axis=1)\n",
    "ev_test_y = ev_test_raw.ham"
   ]
  },
  {
   "cell_type": "markdown",
   "metadata": {},
   "source": [
    "Aplicando o classificador de BernoulliNB:"
   ]
  },
  {
   "cell_type": "code",
   "execution_count": 276,
   "metadata": {},
   "outputs": [
    {
     "data": {
      "text/plain": [
       "BernoulliNB(alpha=1.0, binarize=0.0, class_prior=None, fit_prior=True)"
      ]
     },
     "execution_count": 276,
     "metadata": {},
     "output_type": "execute_result"
    }
   ],
   "source": [
    "ev_bern = BernoulliNB()\n",
    "\n",
    "ev_bern.fit(train_X, train_y)"
   ]
  },
  {
   "cell_type": "code",
   "execution_count": 277,
   "metadata": {},
   "outputs": [
    {
     "name": "stdout",
     "output_type": "stream",
     "text": [
      "[0.89340102 0.93401015 0.83756345 0.89340102 0.93877551 0.8877551\n",
      " 0.87755102 0.87755102 0.88265306 0.85714286 0.8877551  0.89795918\n",
      " 0.89795918 0.86734694 0.8877551 ]\n",
      "0.8879053144100282\n"
     ]
    }
   ],
   "source": [
    "scores = cross_val_score(ev_bern, ev_train_X, ev_train_y, cv=15)\n",
    "\n",
    "print(scores)\n",
    "print(scores.mean())"
   ]
  },
  {
   "cell_type": "code",
   "execution_count": 280,
   "metadata": {},
   "outputs": [],
   "source": [
    "ev_pred = ev_bern.predict(ev_test_X)"
   ]
  },
  {
   "cell_type": "code",
   "execution_count": 281,
   "metadata": {},
   "outputs": [
    {
     "name": "stdout",
     "output_type": "stream",
     "text": [
      "A acurácia foi de 0.8858695652173914\n"
     ]
    }
   ],
   "source": [
    "from sklearn.metrics import accuracy_score\n",
    "print(\"A acurácia foi de\", accuracy_score(ev_test_y, ev_pred))"
   ]
  },
  {
   "cell_type": "markdown",
   "metadata": {},
   "source": [
    "## 5.2. Matriz de confusão"
   ]
  },
  {
   "cell_type": "code",
   "execution_count": 263,
   "metadata": {},
   "outputs": [],
   "source": [
    "from sklearn.metrics import confusion_matrix"
   ]
  },
  {
   "cell_type": "markdown",
   "metadata": {},
   "source": [
    "A seguir, está impressa a matriz de confusão do classificador. Ela relaciona os valores reais (nas colunas) dos dados aos valores classificados pelo classificador criado (nas linhas).\n",
    "\n",
    "\n",
    "                                valor real\n",
    "                                    \n",
    "                    \n",
    "                                    | label | not label\n",
    "                              -------------------------\n",
    "       valor classificado     label |  TP   |    FP\n",
    "                              ------------------------- \n",
    "                          not label |  FN   |    TN\n",
    "\n",
    "\n",
    "\n",
    "\n",
    "TP = true positive |\n",
    "FP = false positive |\n",
    "FN = false negative |\n",
    "TN = true negative\n",
    "\n",
    "Como a matriz de confusão impressa pelo método confusion_matrix não está disposta da mesma maneira, os valores podem ser obtidos com ravel()."
   ]
  },
  {
   "cell_type": "code",
   "execution_count": 285,
   "metadata": {},
   "outputs": [
    {
     "data": {
      "text/plain": [
       "array([[240,  49],\n",
       "       [ 35, 412]], dtype=int64)"
      ]
     },
     "execution_count": 285,
     "metadata": {},
     "output_type": "execute_result"
    }
   ],
   "source": [
    "cm = confusion_matrix(ev_test_y, ev_pred)\n",
    "tn, fp, fn, tp = confusion_matrix(ev_test_y, ev_pred).ravel()\n",
    "cm"
   ]
  },
  {
   "cell_type": "code",
   "execution_count": 288,
   "metadata": {},
   "outputs": [
    {
     "data": {
      "text/plain": [
       "(240, 49, 35, 412)"
      ]
     },
     "execution_count": 288,
     "metadata": {},
     "output_type": "execute_result"
    }
   ],
   "source": [
    "tn, fp, fn, tp "
   ]
  },
  {
   "cell_type": "markdown",
   "metadata": {},
   "source": [
    "Algumas formas de avaliar o classificador são por sua precisão, recall e F Score (que relaciona precisão e recall, de modo que se algum deles for baixo, prejudica muito o outro). Eles estão calculados a seguir:"
   ]
  },
  {
   "cell_type": "code",
   "execution_count": 290,
   "metadata": {},
   "outputs": [
    {
     "name": "stdout",
     "output_type": "stream",
     "text": [
      "A precisão foi de 0.894\n"
     ]
    }
   ],
   "source": [
    "precisao = tp/(tp+fp)\n",
    "print(\"A precisão foi de %.3f\" %(precisao))"
   ]
  },
  {
   "cell_type": "code",
   "execution_count": 291,
   "metadata": {},
   "outputs": [
    {
     "name": "stdout",
     "output_type": "stream",
     "text": [
      "O recall foi de 0.922\n"
     ]
    }
   ],
   "source": [
    "recall = tp/(tp+fn)\n",
    "print(\"O recall foi de %.3f\" %(recall))"
   ]
  },
  {
   "cell_type": "code",
   "execution_count": 293,
   "metadata": {},
   "outputs": [
    {
     "name": "stdout",
     "output_type": "stream",
     "text": [
      "O score F3 foi de 0.919\n"
     ]
    }
   ],
   "source": [
    "f_3 = f_beta_score(precisao, recall, 3)\n",
    "print(\"O score F3 foi de %.3f\" %(f_3))"
   ]
  },
  {
   "cell_type": "markdown",
   "metadata": {},
   "source": [
    "<a id='parte6'></a>\n",
    "\n",
    "# Parte 6: Salvando os resultados"
   ]
  },
  {
   "cell_type": "markdown",
   "metadata": {},
   "source": [
    "Fazendo o upload da base de testes:"
   ]
  },
  {
   "cell_type": "code",
   "execution_count": 267,
   "metadata": {},
   "outputs": [],
   "source": [
    "test_raw = pd.read_csv(\"test_features.csv\")"
   ]
  },
  {
   "cell_type": "code",
   "execution_count": 268,
   "metadata": {},
   "outputs": [
    {
     "data": {
      "text/html": [
       "<div>\n",
       "<style scoped>\n",
       "    .dataframe tbody tr th:only-of-type {\n",
       "        vertical-align: middle;\n",
       "    }\n",
       "\n",
       "    .dataframe tbody tr th {\n",
       "        vertical-align: top;\n",
       "    }\n",
       "\n",
       "    .dataframe thead th {\n",
       "        text-align: right;\n",
       "    }\n",
       "</style>\n",
       "<table border=\"1\" class=\"dataframe\">\n",
       "  <thead>\n",
       "    <tr style=\"text-align: right;\">\n",
       "      <th></th>\n",
       "      <th>word_freq_make</th>\n",
       "      <th>word_freq_address</th>\n",
       "      <th>word_freq_all</th>\n",
       "      <th>word_freq_3d</th>\n",
       "      <th>word_freq_our</th>\n",
       "      <th>word_freq_over</th>\n",
       "      <th>word_freq_remove</th>\n",
       "      <th>word_freq_internet</th>\n",
       "      <th>word_freq_order</th>\n",
       "      <th>word_freq_mail</th>\n",
       "      <th>...</th>\n",
       "      <th>char_freq_;</th>\n",
       "      <th>char_freq_(</th>\n",
       "      <th>char_freq_[</th>\n",
       "      <th>char_freq_!</th>\n",
       "      <th>char_freq_$</th>\n",
       "      <th>char_freq_#</th>\n",
       "      <th>capital_run_length_average</th>\n",
       "      <th>capital_run_length_longest</th>\n",
       "      <th>capital_run_length_total</th>\n",
       "      <th>Id</th>\n",
       "    </tr>\n",
       "  </thead>\n",
       "  <tbody>\n",
       "    <tr>\n",
       "      <th>0</th>\n",
       "      <td>0.0</td>\n",
       "      <td>0.00</td>\n",
       "      <td>0.17</td>\n",
       "      <td>0.52</td>\n",
       "      <td>0.17</td>\n",
       "      <td>0.00</td>\n",
       "      <td>0.17</td>\n",
       "      <td>0.0</td>\n",
       "      <td>0.69</td>\n",
       "      <td>0.17</td>\n",
       "      <td>...</td>\n",
       "      <td>0.0</td>\n",
       "      <td>0.072</td>\n",
       "      <td>0.0</td>\n",
       "      <td>0.754</td>\n",
       "      <td>0.681</td>\n",
       "      <td>0.0</td>\n",
       "      <td>4.740</td>\n",
       "      <td>52</td>\n",
       "      <td>967</td>\n",
       "      <td>1351</td>\n",
       "    </tr>\n",
       "    <tr>\n",
       "      <th>1</th>\n",
       "      <td>0.0</td>\n",
       "      <td>0.00</td>\n",
       "      <td>0.00</td>\n",
       "      <td>0.00</td>\n",
       "      <td>0.00</td>\n",
       "      <td>0.00</td>\n",
       "      <td>0.00</td>\n",
       "      <td>0.0</td>\n",
       "      <td>0.00</td>\n",
       "      <td>0.00</td>\n",
       "      <td>...</td>\n",
       "      <td>0.0</td>\n",
       "      <td>0.000</td>\n",
       "      <td>0.0</td>\n",
       "      <td>0.000</td>\n",
       "      <td>0.000</td>\n",
       "      <td>0.0</td>\n",
       "      <td>1.142</td>\n",
       "      <td>3</td>\n",
       "      <td>16</td>\n",
       "      <td>1687</td>\n",
       "    </tr>\n",
       "    <tr>\n",
       "      <th>2</th>\n",
       "      <td>0.0</td>\n",
       "      <td>0.16</td>\n",
       "      <td>0.49</td>\n",
       "      <td>0.00</td>\n",
       "      <td>0.00</td>\n",
       "      <td>0.16</td>\n",
       "      <td>0.00</td>\n",
       "      <td>0.0</td>\n",
       "      <td>0.00</td>\n",
       "      <td>0.49</td>\n",
       "      <td>...</td>\n",
       "      <td>0.0</td>\n",
       "      <td>0.119</td>\n",
       "      <td>0.0</td>\n",
       "      <td>0.149</td>\n",
       "      <td>0.000</td>\n",
       "      <td>0.0</td>\n",
       "      <td>2.178</td>\n",
       "      <td>107</td>\n",
       "      <td>244</td>\n",
       "      <td>1297</td>\n",
       "    </tr>\n",
       "    <tr>\n",
       "      <th>3</th>\n",
       "      <td>0.0</td>\n",
       "      <td>0.00</td>\n",
       "      <td>0.00</td>\n",
       "      <td>0.00</td>\n",
       "      <td>0.00</td>\n",
       "      <td>0.00</td>\n",
       "      <td>0.00</td>\n",
       "      <td>0.0</td>\n",
       "      <td>0.00</td>\n",
       "      <td>0.00</td>\n",
       "      <td>...</td>\n",
       "      <td>0.0</td>\n",
       "      <td>0.000</td>\n",
       "      <td>0.0</td>\n",
       "      <td>0.000</td>\n",
       "      <td>0.000</td>\n",
       "      <td>0.0</td>\n",
       "      <td>1.400</td>\n",
       "      <td>4</td>\n",
       "      <td>14</td>\n",
       "      <td>2101</td>\n",
       "    </tr>\n",
       "    <tr>\n",
       "      <th>4</th>\n",
       "      <td>0.0</td>\n",
       "      <td>0.00</td>\n",
       "      <td>0.00</td>\n",
       "      <td>0.00</td>\n",
       "      <td>0.00</td>\n",
       "      <td>0.00</td>\n",
       "      <td>0.00</td>\n",
       "      <td>0.0</td>\n",
       "      <td>0.00</td>\n",
       "      <td>0.00</td>\n",
       "      <td>...</td>\n",
       "      <td>0.0</td>\n",
       "      <td>0.000</td>\n",
       "      <td>0.0</td>\n",
       "      <td>0.000</td>\n",
       "      <td>0.000</td>\n",
       "      <td>0.0</td>\n",
       "      <td>1.250</td>\n",
       "      <td>2</td>\n",
       "      <td>5</td>\n",
       "      <td>3920</td>\n",
       "    </tr>\n",
       "  </tbody>\n",
       "</table>\n",
       "<p>5 rows × 58 columns</p>\n",
       "</div>"
      ],
      "text/plain": [
       "   word_freq_make  word_freq_address  word_freq_all  word_freq_3d  \\\n",
       "0             0.0               0.00           0.17          0.52   \n",
       "1             0.0               0.00           0.00          0.00   \n",
       "2             0.0               0.16           0.49          0.00   \n",
       "3             0.0               0.00           0.00          0.00   \n",
       "4             0.0               0.00           0.00          0.00   \n",
       "\n",
       "   word_freq_our  word_freq_over  word_freq_remove  word_freq_internet  \\\n",
       "0           0.17            0.00              0.17                 0.0   \n",
       "1           0.00            0.00              0.00                 0.0   \n",
       "2           0.00            0.16              0.00                 0.0   \n",
       "3           0.00            0.00              0.00                 0.0   \n",
       "4           0.00            0.00              0.00                 0.0   \n",
       "\n",
       "   word_freq_order  word_freq_mail  ...   char_freq_;  char_freq_(  \\\n",
       "0             0.69            0.17  ...           0.0        0.072   \n",
       "1             0.00            0.00  ...           0.0        0.000   \n",
       "2             0.00            0.49  ...           0.0        0.119   \n",
       "3             0.00            0.00  ...           0.0        0.000   \n",
       "4             0.00            0.00  ...           0.0        0.000   \n",
       "\n",
       "   char_freq_[  char_freq_!  char_freq_$  char_freq_#  \\\n",
       "0          0.0        0.754        0.681          0.0   \n",
       "1          0.0        0.000        0.000          0.0   \n",
       "2          0.0        0.149        0.000          0.0   \n",
       "3          0.0        0.000        0.000          0.0   \n",
       "4          0.0        0.000        0.000          0.0   \n",
       "\n",
       "   capital_run_length_average  capital_run_length_longest  \\\n",
       "0                       4.740                          52   \n",
       "1                       1.142                           3   \n",
       "2                       2.178                         107   \n",
       "3                       1.400                           4   \n",
       "4                       1.250                           2   \n",
       "\n",
       "   capital_run_length_total    Id  \n",
       "0                       967  1351  \n",
       "1                        16  1687  \n",
       "2                       244  1297  \n",
       "3                        14  2101  \n",
       "4                         5  3920  \n",
       "\n",
       "[5 rows x 58 columns]"
      ]
     },
     "execution_count": 268,
     "metadata": {},
     "output_type": "execute_result"
    }
   ],
   "source": [
    "test_raw.head()"
   ]
  },
  {
   "cell_type": "code",
   "execution_count": 269,
   "metadata": {},
   "outputs": [],
   "source": [
    "test = test_raw.drop(labels =[\"Id\", \"char_freq_(\", \"capital_run_length_average\", \"capital_run_length_longest\", \"capital_run_length_total\"], axis=1)"
   ]
  },
  {
   "cell_type": "code",
   "execution_count": 270,
   "metadata": {},
   "outputs": [],
   "source": [
    "prediction = bnb.predict(test)"
   ]
  },
  {
   "cell_type": "code",
   "execution_count": 271,
   "metadata": {},
   "outputs": [],
   "source": [
    "envio_raw = pd.DataFrame()\n",
    "envio_raw['Id'] = test_raw.Id\n",
    "envio_raw['ham'] = prediction\n",
    "envio = envio_raw.set_index(\"Id\")"
   ]
  },
  {
   "cell_type": "code",
   "execution_count": 272,
   "metadata": {},
   "outputs": [],
   "source": [
    "envio.to_csv(\"prediction.csv\")"
   ]
  }
 ],
 "metadata": {
  "kernelspec": {
   "display_name": "Python 3",
   "language": "python",
   "name": "python3"
  },
  "language_info": {
   "codemirror_mode": {
    "name": "ipython",
    "version": 3
   },
   "file_extension": ".py",
   "mimetype": "text/x-python",
   "name": "python",
   "nbconvert_exporter": "python",
   "pygments_lexer": "ipython3",
   "version": "3.6.5"
  }
 },
 "nbformat": 4,
 "nbformat_minor": 2
}
